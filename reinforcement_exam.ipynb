{
 "cells": [
  {
   "cell_type": "code",
   "execution_count": 1,
   "metadata": {},
   "outputs": [],
   "source": [
    "import gym\n",
    "import torch\n",
    "import torch.nn as nn\n",
    "import torch.nn.functional as F\n",
    "\n",
    "\n",
    "from models.reinforcement import Reinforcement"
   ]
  },
  {
   "cell_type": "code",
   "execution_count": 2,
   "metadata": {},
   "outputs": [],
   "source": [
    "class Policy(nn.Module):\n",
    "    def __init__(self, nstates: int, nactions: int):\n",
    "        super(Policy, self).__init__()\n",
    "                \n",
    "        self.fc1 = nn.Linear(nstates, 256)\n",
    "        self.fc2 = nn.Linear(256, nactions)\n",
    "\n",
    "        self.init_weight()\n",
    "    \n",
    "    def init_weight(self):\n",
    "        initrange = 0.1\n",
    "        self.fc1.weight.data.uniform_(-initrange, initrange)\n",
    "        self.fc2.weight.data.uniform_(-initrange, initrange)\n",
    "    \n",
    "    def forward(self, x):\n",
    "        x = F.relu(self.fc1(x))\n",
    "        x = F.softmax(self.fc2(x), dim=-1)\n",
    "        return x"
   ]
  },
  {
   "cell_type": "code",
   "execution_count": 3,
   "metadata": {},
   "outputs": [],
   "source": [
    "lr = 0.0002\n",
    "\n",
    "nactions = 2\n",
    "nstates = 4\n",
    "\n",
    "gamma = 0.98\n",
    "\n",
    "n_epi = 5000\n",
    "n_rollout = 10"
   ]
  },
  {
   "cell_type": "code",
   "execution_count": 4,
   "metadata": {},
   "outputs": [],
   "source": [
    "pi = Policy(nstates, nactions)\n",
    "pi_opt = torch.optim.Adam(pi.parameters(), lr=lr)\n"
   ]
  },
  {
   "cell_type": "code",
   "execution_count": 5,
   "metadata": {},
   "outputs": [],
   "source": [
    "env = gym.make('CartPole-v1', render_mode='human')"
   ]
  },
  {
   "cell_type": "code",
   "execution_count": 6,
   "metadata": {},
   "outputs": [
    {
     "name": "stderr",
     "output_type": "stream",
     "text": [
      "c:\\Users\\esder\\AppData\\Local\\Programs\\Python\\Python38\\lib\\site-packages\\gym\\utils\\passive_env_checker.py:233: DeprecationWarning: `np.bool8` is a deprecated alias for `np.bool_`.  (Deprecated NumPy 1.24)\n",
      "  if not isinstance(terminated, (bool, np.bool8)):\n"
     ]
    },
    {
     "name": "stdout",
     "output_type": "stream",
     "text": [
      "epi: 10, score: 23.6\n",
      "epi: 20, score: 17.2\n",
      "epi: 30, score: 22.0\n",
      "epi: 40, score: 15.4\n",
      "epi: 50, score: 21.0\n",
      "epi: 60, score: 16.8\n",
      "epi: 70, score: 26.1\n",
      "epi: 80, score: 25.7\n",
      "epi: 90, score: 23.5\n",
      "epi: 100, score: 31.0\n",
      "epi: 110, score: 21.0\n",
      "epi: 120, score: 18.2\n",
      "epi: 130, score: 29.0\n",
      "epi: 140, score: 19.9\n",
      "epi: 150, score: 34.3\n",
      "epi: 160, score: 39.1\n",
      "epi: 170, score: 34.3\n",
      "epi: 180, score: 24.8\n",
      "epi: 190, score: 45.1\n",
      "epi: 200, score: 23.9\n",
      "epi: 210, score: 23.5\n",
      "epi: 220, score: 28.1\n",
      "epi: 230, score: 29.7\n",
      "epi: 240, score: 23.6\n",
      "epi: 250, score: 27.6\n",
      "epi: 260, score: 24.8\n",
      "epi: 270, score: 30.7\n",
      "epi: 280, score: 31.5\n",
      "epi: 290, score: 23.2\n",
      "epi: 300, score: 28.1\n",
      "epi: 310, score: 36.4\n",
      "epi: 320, score: 40.0\n",
      "epi: 330, score: 30.1\n",
      "epi: 340, score: 31.1\n",
      "epi: 350, score: 23.3\n",
      "epi: 360, score: 18.5\n",
      "epi: 370, score: 39.5\n",
      "epi: 380, score: 35.7\n",
      "epi: 390, score: 29.2\n",
      "epi: 400, score: 33.9\n",
      "epi: 410, score: 49.2\n",
      "epi: 420, score: 30.4\n",
      "epi: 430, score: 38.9\n",
      "epi: 440, score: 36.5\n",
      "epi: 450, score: 43.8\n",
      "epi: 460, score: 44.5\n",
      "epi: 470, score: 51.2\n",
      "epi: 480, score: 43.3\n",
      "epi: 490, score: 50.6\n",
      "epi: 500, score: 43.6\n",
      "epi: 510, score: 43.6\n",
      "epi: 520, score: 45.8\n",
      "epi: 530, score: 49.4\n",
      "epi: 540, score: 34.9\n",
      "epi: 550, score: 35.3\n",
      "epi: 560, score: 36.4\n",
      "epi: 570, score: 38.2\n",
      "epi: 580, score: 52.7\n",
      "epi: 590, score: 54.5\n",
      "epi: 600, score: 57.8\n",
      "epi: 610, score: 40.3\n",
      "epi: 620, score: 46.7\n",
      "epi: 630, score: 47.7\n",
      "epi: 640, score: 41.6\n",
      "epi: 650, score: 38.3\n",
      "epi: 660, score: 43.7\n",
      "epi: 670, score: 50.2\n",
      "epi: 680, score: 61.3\n",
      "epi: 690, score: 57.2\n",
      "epi: 700, score: 41.3\n",
      "epi: 710, score: 38.1\n",
      "epi: 720, score: 60.6\n",
      "epi: 730, score: 57.9\n",
      "epi: 740, score: 63.4\n",
      "epi: 750, score: 60.5\n",
      "epi: 760, score: 48.5\n",
      "epi: 770, score: 54.3\n"
     ]
    },
    {
     "ename": "KeyboardInterrupt",
     "evalue": "",
     "output_type": "error",
     "traceback": [
      "\u001b[1;31m---------------------------------------------------------------------------\u001b[0m",
      "\u001b[1;31mKeyboardInterrupt\u001b[0m                         Traceback (most recent call last)",
      "Cell \u001b[1;32mIn[6], line 2\u001b[0m\n\u001b[0;32m      1\u001b[0m model \u001b[39m=\u001b[39m Reinforcement(env, nactions, pi, pi_opt, gamma\u001b[39m=\u001b[39mgamma)\n\u001b[1;32m----> 2\u001b[0m model\u001b[39m.\u001b[39;49mtrain(n_epi, n_rollout)\n",
      "File \u001b[1;32mc:\\Users\\esder\\Desktop\\github\\rl\\models\\reinforcement.py:40\u001b[0m, in \u001b[0;36mReinforcement.train\u001b[1;34m(self, n_epis, print_interval)\u001b[0m\n\u001b[0;32m     37\u001b[0m     s \u001b[39m=\u001b[39m s_p\n\u001b[0;32m     38\u001b[0m     score \u001b[39m+\u001b[39m\u001b[39m=\u001b[39m r\n\u001b[1;32m---> 40\u001b[0m \u001b[39mself\u001b[39;49m\u001b[39m.\u001b[39;49mupdate()\n\u001b[0;32m     42\u001b[0m \u001b[39mif\u001b[39;00m epi \u001b[39m%\u001b[39m print_interval \u001b[39m==\u001b[39m \u001b[39m0\u001b[39m \u001b[39mand\u001b[39;00m epi \u001b[39m!=\u001b[39m \u001b[39m0\u001b[39m:\n\u001b[0;32m     43\u001b[0m     \u001b[39mprint\u001b[39m(\u001b[39mf\u001b[39m\u001b[39m\"\u001b[39m\u001b[39mepi: \u001b[39m\u001b[39m{\u001b[39;00mepi\u001b[39m}\u001b[39;00m\u001b[39m, score: \u001b[39m\u001b[39m{\u001b[39;00mscore\u001b[39m \u001b[39m\u001b[39m/\u001b[39m\u001b[39m \u001b[39mprint_interval\u001b[39m}\u001b[39;00m\u001b[39m\"\u001b[39m)\n",
      "File \u001b[1;32mc:\\Users\\esder\\Desktop\\github\\rl\\models\\reinforcement.py:64\u001b[0m, in \u001b[0;36mReinforcement.update\u001b[1;34m(self)\u001b[0m\n\u001b[0;32m     61\u001b[0m     loss\u001b[39m.\u001b[39mbackward()\n\u001b[0;32m     63\u001b[0m \u001b[39mself\u001b[39m\u001b[39m.\u001b[39mpi_opt\u001b[39m.\u001b[39mstep()\n\u001b[1;32m---> 64\u001b[0m \u001b[39mself\u001b[39;49m\u001b[39m.\u001b[39;49mdatas \u001b[39m=\u001b[39m []\n",
      "\u001b[1;31mKeyboardInterrupt\u001b[0m: "
     ]
    }
   ],
   "source": [
    "model = Reinforcement(env, nactions, pi, pi_opt, gamma=gamma)\n",
    "model.train(n_epi, n_rollout)"
   ]
  },
  {
   "cell_type": "code",
   "execution_count": null,
   "metadata": {},
   "outputs": [],
   "source": []
  }
 ],
 "metadata": {
  "kernelspec": {
   "display_name": "Python 3",
   "language": "python",
   "name": "python3"
  },
  "language_info": {
   "codemirror_mode": {
    "name": "ipython",
    "version": 3
   },
   "file_extension": ".py",
   "mimetype": "text/x-python",
   "name": "python",
   "nbconvert_exporter": "python",
   "pygments_lexer": "ipython3",
   "version": "3.8.10"
  },
  "orig_nbformat": 4
 },
 "nbformat": 4,
 "nbformat_minor": 2
}
