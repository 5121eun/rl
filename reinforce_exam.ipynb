{
 "cells": [
  {
   "cell_type": "code",
   "execution_count": 1,
   "metadata": {},
   "outputs": [],
   "source": [
    "import gym\n",
    "import torch\n",
    "import torch.nn as nn\n",
    "import torch.nn.functional as F\n",
    "\n",
    "\n",
    "from models.reinforce import Reinforce"
   ]
  },
  {
   "cell_type": "code",
   "execution_count": 2,
   "metadata": {},
   "outputs": [],
   "source": [
    "class Policy(nn.Module):\n",
    "    def __init__(self, n_sts: int, n_acts: int, dim: int):\n",
    "        super(Policy, self).__init__()\n",
    "                \n",
    "        self.fc1 = nn.Linear(n_sts, dim)\n",
    "        self.fc2 = nn.Linear(dim, n_acts)\n",
    "\n",
    "        self.init_weight()\n",
    "    \n",
    "    def init_weight(self):\n",
    "        initrange = 0.1\n",
    "        self.fc1.weight.data.uniform_(-initrange, initrange)\n",
    "        self.fc2.weight.data.uniform_(-initrange, initrange)\n",
    "    \n",
    "    def forward(self, x):\n",
    "        x = F.relu(self.fc1(x))\n",
    "        x = F.softmax(self.fc2(x), dim=-1)\n",
    "        return x"
   ]
  },
  {
   "cell_type": "code",
   "execution_count": 5,
   "metadata": {},
   "outputs": [],
   "source": [
    "lr = 0.0002\n",
    "\n",
    "n_acts = 2\n",
    "n_sts = 4\n",
    "\n",
    "gamma = 0.98\n",
    "\n",
    "dim = 256\n",
    "\n",
    "n_epi = 5000"
   ]
  },
  {
   "cell_type": "code",
   "execution_count": 6,
   "metadata": {},
   "outputs": [],
   "source": [
    "pi = Policy(n_sts, n_acts, dim)\n",
    "pi_opt = torch.optim.Adam(pi.parameters(), lr=lr)\n"
   ]
  },
  {
   "cell_type": "code",
   "execution_count": 7,
   "metadata": {},
   "outputs": [],
   "source": [
    "env = gym.make('CartPole-v1', render_mode='human')"
   ]
  },
  {
   "cell_type": "code",
   "execution_count": 8,
   "metadata": {},
   "outputs": [
    {
     "name": "stderr",
     "output_type": "stream",
     "text": [
      "c:\\Users\\esder\\AppData\\Local\\Programs\\Python\\Python38\\lib\\site-packages\\gym\\utils\\passive_env_checker.py:233: DeprecationWarning: `np.bool8` is a deprecated alias for `np.bool_`.  (Deprecated NumPy 1.24)\n",
      "  if not isinstance(terminated, (bool, np.bool8)):\n"
     ]
    },
    {
     "name": "stdout",
     "output_type": "stream",
     "text": [
      "step: 430, score: 21.5\n",
      "step: 928, score: 24.9\n",
      "step: 1387, score: 22.95\n",
      "step: 1820, score: 21.65\n",
      "step: 2250, score: 21.5\n",
      "step: 2648, score: 19.9\n",
      "step: 3128, score: 24.0\n",
      "step: 3550, score: 21.1\n",
      "step: 4102, score: 27.6\n",
      "step: 4644, score: 27.1\n",
      "step: 5186, score: 27.1\n",
      "step: 5685, score: 24.95\n",
      "step: 6183, score: 24.9\n",
      "step: 6895, score: 35.6\n",
      "step: 7494, score: 29.95\n",
      "step: 8127, score: 31.65\n",
      "step: 8803, score: 33.8\n",
      "step: 9263, score: 23.0\n",
      "step: 9933, score: 33.5\n",
      "step: 10620, score: 34.35\n",
      "step: 11222, score: 30.1\n",
      "step: 11851, score: 31.45\n",
      "step: 12522, score: 33.55\n",
      "step: 13098, score: 28.8\n",
      "step: 13723, score: 31.25\n",
      "step: 14475, score: 37.6\n",
      "step: 15295, score: 41.0\n",
      "step: 16020, score: 36.25\n",
      "step: 16624, score: 30.2\n",
      "step: 17327, score: 35.15\n",
      "step: 18269, score: 47.1\n",
      "step: 18937, score: 33.4\n",
      "step: 19772, score: 41.75\n",
      "step: 20597, score: 41.25\n",
      "step: 21335, score: 36.9\n",
      "step: 22268, score: 46.65\n",
      "step: 23227, score: 47.95\n",
      "step: 24101, score: 43.7\n",
      "step: 25218, score: 55.85\n",
      "step: 26142, score: 46.2\n",
      "step: 27231, score: 54.45\n",
      "step: 28459, score: 61.4\n",
      "step: 29512, score: 52.65\n",
      "step: 30431, score: 45.95\n",
      "step: 31461, score: 51.5\n",
      "step: 32571, score: 55.5\n",
      "step: 33745, score: 58.7\n",
      "step: 34965, score: 61.0\n",
      "step: 36268, score: 65.15\n",
      "step: 37623, score: 67.75\n",
      "step: 39005, score: 69.1\n",
      "step: 40483, score: 73.9\n",
      "step: 41984, score: 75.05\n",
      "step: 43393, score: 70.45\n",
      "step: 44963, score: 78.5\n",
      "step: 46698, score: 86.75\n",
      "step: 48371, score: 83.65\n",
      "step: 50283, score: 95.6\n",
      "step: 53007, score: 136.2\n"
     ]
    },
    {
     "ename": "KeyboardInterrupt",
     "evalue": "",
     "output_type": "error",
     "traceback": [
      "\u001b[1;31m---------------------------------------------------------------------------\u001b[0m",
      "\u001b[1;31mKeyboardInterrupt\u001b[0m                         Traceback (most recent call last)",
      "Cell \u001b[1;32mIn[8], line 2\u001b[0m\n\u001b[0;32m      1\u001b[0m model \u001b[39m=\u001b[39m Reinforce(env, n_acts, pi, pi_opt, gamma\u001b[39m=\u001b[39mgamma)\n\u001b[1;32m----> 2\u001b[0m model\u001b[39m.\u001b[39;49mtrain(n_epi)\n",
      "File \u001b[1;32mc:\\Users\\esder\\Desktop\\github\\rl2\\rl\\models\\reinforce.py:36\u001b[0m, in \u001b[0;36mReinforce.train\u001b[1;34m(self, n_epis, print_interval)\u001b[0m\n\u001b[0;32m     34\u001b[0m d_mask \u001b[39m=\u001b[39m \u001b[39m0\u001b[39m \u001b[39mif\u001b[39;00m done \u001b[39melse\u001b[39;00m \u001b[39m1\u001b[39m\n\u001b[0;32m     35\u001b[0m \u001b[39mself\u001b[39m\u001b[39m.\u001b[39mdatas\u001b[39m.\u001b[39mappend((a_prob, r\u001b[39m/\u001b[39m\u001b[39m100\u001b[39m, d_mask))\n\u001b[1;32m---> 36\u001b[0m env\u001b[39m.\u001b[39;49mrender()\n\u001b[0;32m     38\u001b[0m s \u001b[39m=\u001b[39m s_p\n\u001b[0;32m     39\u001b[0m score \u001b[39m+\u001b[39m\u001b[39m=\u001b[39m r\n",
      "File \u001b[1;32mc:\\Users\\esder\\AppData\\Local\\Programs\\Python\\Python38\\lib\\site-packages\\gym\\core.py:329\u001b[0m, in \u001b[0;36mWrapper.render\u001b[1;34m(self, *args, **kwargs)\u001b[0m\n\u001b[0;32m    325\u001b[0m \u001b[39mdef\u001b[39;00m \u001b[39mrender\u001b[39m(\n\u001b[0;32m    326\u001b[0m     \u001b[39mself\u001b[39m, \u001b[39m*\u001b[39margs, \u001b[39m*\u001b[39m\u001b[39m*\u001b[39mkwargs\n\u001b[0;32m    327\u001b[0m ) \u001b[39m-\u001b[39m\u001b[39m>\u001b[39m Optional[Union[RenderFrame, List[RenderFrame]]]:\n\u001b[0;32m    328\u001b[0m \u001b[39m    \u001b[39m\u001b[39m\"\"\"Renders the environment.\"\"\"\u001b[39;00m\n\u001b[1;32m--> 329\u001b[0m     \u001b[39mreturn\u001b[39;00m \u001b[39mself\u001b[39;49m\u001b[39m.\u001b[39;49menv\u001b[39m.\u001b[39;49mrender(\u001b[39m*\u001b[39;49margs, \u001b[39m*\u001b[39;49m\u001b[39m*\u001b[39;49mkwargs)\n",
      "File \u001b[1;32mc:\\Users\\esder\\AppData\\Local\\Programs\\Python\\Python38\\lib\\site-packages\\gym\\wrappers\\order_enforcing.py:51\u001b[0m, in \u001b[0;36mOrderEnforcing.render\u001b[1;34m(self, *args, **kwargs)\u001b[0m\n\u001b[0;32m     46\u001b[0m \u001b[39mif\u001b[39;00m \u001b[39mnot\u001b[39;00m \u001b[39mself\u001b[39m\u001b[39m.\u001b[39m_disable_render_order_enforcing \u001b[39mand\u001b[39;00m \u001b[39mnot\u001b[39;00m \u001b[39mself\u001b[39m\u001b[39m.\u001b[39m_has_reset:\n\u001b[0;32m     47\u001b[0m     \u001b[39mraise\u001b[39;00m ResetNeeded(\n\u001b[0;32m     48\u001b[0m         \u001b[39m\"\u001b[39m\u001b[39mCannot call `env.render()` before calling `env.reset()`, if this is a intended action, \u001b[39m\u001b[39m\"\u001b[39m\n\u001b[0;32m     49\u001b[0m         \u001b[39m\"\u001b[39m\u001b[39mset `disable_render_order_enforcing=True` on the OrderEnforcer wrapper.\u001b[39m\u001b[39m\"\u001b[39m\n\u001b[0;32m     50\u001b[0m     )\n\u001b[1;32m---> 51\u001b[0m \u001b[39mreturn\u001b[39;00m \u001b[39mself\u001b[39;49m\u001b[39m.\u001b[39;49menv\u001b[39m.\u001b[39;49mrender(\u001b[39m*\u001b[39;49margs, \u001b[39m*\u001b[39;49m\u001b[39m*\u001b[39;49mkwargs)\n",
      "File \u001b[1;32mc:\\Users\\esder\\AppData\\Local\\Programs\\Python\\Python38\\lib\\site-packages\\gym\\wrappers\\env_checker.py:55\u001b[0m, in \u001b[0;36mPassiveEnvChecker.render\u001b[1;34m(self, *args, **kwargs)\u001b[0m\n\u001b[0;32m     53\u001b[0m     \u001b[39mreturn\u001b[39;00m env_render_passive_checker(\u001b[39mself\u001b[39m\u001b[39m.\u001b[39menv, \u001b[39m*\u001b[39margs, \u001b[39m*\u001b[39m\u001b[39m*\u001b[39mkwargs)\n\u001b[0;32m     54\u001b[0m \u001b[39melse\u001b[39;00m:\n\u001b[1;32m---> 55\u001b[0m     \u001b[39mreturn\u001b[39;00m \u001b[39mself\u001b[39;49m\u001b[39m.\u001b[39;49menv\u001b[39m.\u001b[39;49mrender(\u001b[39m*\u001b[39;49margs, \u001b[39m*\u001b[39;49m\u001b[39m*\u001b[39;49mkwargs)\n",
      "File \u001b[1;32mc:\\Users\\esder\\AppData\\Local\\Programs\\Python\\Python38\\lib\\site-packages\\gym\\envs\\classic_control\\cartpole.py:260\u001b[0m, in \u001b[0;36mCartPoleEnv.render\u001b[1;34m(self)\u001b[0m\n\u001b[0;32m    258\u001b[0m cart_coords \u001b[39m=\u001b[39m [(c[\u001b[39m0\u001b[39m] \u001b[39m+\u001b[39m cartx, c[\u001b[39m1\u001b[39m] \u001b[39m+\u001b[39m carty) \u001b[39mfor\u001b[39;00m c \u001b[39min\u001b[39;00m cart_coords]\n\u001b[0;32m    259\u001b[0m gfxdraw\u001b[39m.\u001b[39maapolygon(\u001b[39mself\u001b[39m\u001b[39m.\u001b[39msurf, cart_coords, (\u001b[39m0\u001b[39m, \u001b[39m0\u001b[39m, \u001b[39m0\u001b[39m))\n\u001b[1;32m--> 260\u001b[0m gfxdraw\u001b[39m.\u001b[39;49mfilled_polygon(\u001b[39mself\u001b[39;49m\u001b[39m.\u001b[39;49msurf, cart_coords, (\u001b[39m0\u001b[39;49m, \u001b[39m0\u001b[39;49m, \u001b[39m0\u001b[39;49m))\n\u001b[0;32m    262\u001b[0m l, r, t, b \u001b[39m=\u001b[39m (\n\u001b[0;32m    263\u001b[0m     \u001b[39m-\u001b[39mpolewidth \u001b[39m/\u001b[39m \u001b[39m2\u001b[39m,\n\u001b[0;32m    264\u001b[0m     polewidth \u001b[39m/\u001b[39m \u001b[39m2\u001b[39m,\n\u001b[0;32m    265\u001b[0m     polelen \u001b[39m-\u001b[39m polewidth \u001b[39m/\u001b[39m \u001b[39m2\u001b[39m,\n\u001b[0;32m    266\u001b[0m     \u001b[39m-\u001b[39mpolewidth \u001b[39m/\u001b[39m \u001b[39m2\u001b[39m,\n\u001b[0;32m    267\u001b[0m )\n\u001b[0;32m    269\u001b[0m pole_coords \u001b[39m=\u001b[39m []\n",
      "\u001b[1;31mKeyboardInterrupt\u001b[0m: "
     ]
    }
   ],
   "source": [
    "model = Reinforce(env, n_acts, pi, pi_opt, gamma=gamma)\n",
    "model.train(n_epi)"
   ]
  },
  {
   "cell_type": "code",
   "execution_count": 9,
   "metadata": {},
   "outputs": [],
   "source": [
    "env.close()"
   ]
  }
 ],
 "metadata": {
  "kernelspec": {
   "display_name": "Python 3",
   "language": "python",
   "name": "python3"
  },
  "language_info": {
   "codemirror_mode": {
    "name": "ipython",
    "version": 3
   },
   "file_extension": ".py",
   "mimetype": "text/x-python",
   "name": "python",
   "nbconvert_exporter": "python",
   "pygments_lexer": "ipython3",
   "version": "3.8.10"
  },
  "orig_nbformat": 4
 },
 "nbformat": 4,
 "nbformat_minor": 2
}
