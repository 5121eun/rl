{
 "cells": [
  {
   "cell_type": "code",
   "execution_count": 10,
   "id": "1543702f",
   "metadata": {},
   "outputs": [],
   "source": [
    "import gym\n",
    "import torch\n",
    "import torch.nn as nn\n",
    "\n",
    "\n",
    "from models.td3 import TD3"
   ]
  },
  {
   "cell_type": "code",
   "execution_count": 11,
   "id": "305b60db",
   "metadata": {},
   "outputs": [],
   "source": [
    "class Actor(nn.Module):\n",
    "    def __init__(self, n_sts: int, n_acts: int, dim: int):\n",
    "        super(Actor, self).__init__()\n",
    "                \n",
    "        self.fc1 = nn.Linear(n_sts, dim)\n",
    "        self.fc2 = nn.Linear(dim, dim)\n",
    "        self.fc3 = nn.Linear(dim, n_acts)\n",
    "        \n",
    "        self.relu1 = nn.ReLU()\n",
    "        self.relu2 = nn.ReLU()\n",
    "\n",
    "    def forward(self, x):\n",
    "        x = self.relu1(self.fc1(x))\n",
    "        x = self.relu2(self.fc2(x))\n",
    "        x = torch.tanh(self.fc3(x)) * 2\n",
    "        \n",
    "        return x"
   ]
  },
  {
   "cell_type": "code",
   "execution_count": 12,
   "id": "532af675",
   "metadata": {},
   "outputs": [],
   "source": [
    "class Critic(nn.Module):\n",
    "    def __init__(self, n_sts: int, n_acts: int, dim: int):\n",
    "        super(Critic, self).__init__()\n",
    "                \n",
    "        self.fc1 = nn.Linear(n_sts + n_acts, dim)\n",
    "        self.fc2 = nn.Linear(dim, 1)\n",
    "        \n",
    "        self.relu1 = nn.ReLU()\n",
    "                \n",
    "    def forward(self, xs):\n",
    "        x, a = xs\n",
    "        \n",
    "        x = self.relu1(self.fc1(torch.cat([x, a], 1)))\n",
    "        x = self.fc2(x)\n",
    "        \n",
    "        return x"
   ]
  },
  {
   "cell_type": "code",
   "execution_count": 13,
   "id": "a5b76cc1",
   "metadata": {},
   "outputs": [],
   "source": [
    "lr = 1e-3\n",
    "tau = 5e-3\n",
    "eps = 0\n",
    "gamma = 0.99\n",
    "\n",
    "n_sts = 3\n",
    "n_acts = 1\n",
    "\n",
    "dim = 256\n",
    "\n",
    "n_epis = 500\n",
    "n_epochs = 200\n",
    "n_rollout = 10"
   ]
  },
  {
   "cell_type": "code",
   "execution_count": 14,
   "id": "6fe27fa3",
   "metadata": {},
   "outputs": [],
   "source": [
    "act = Actor(n_sts, n_acts, dim)\n",
    "act_opt = torch.optim.Adam(act.parameters(), lr=lr)\n",
    "\n",
    "cri1 = Critic(n_sts, n_acts, dim)\n",
    "cri_opt1 = torch.optim.Adam(cri1.parameters(), lr=lr)\n",
    "\n",
    "cri2 = Critic(n_sts, n_acts, dim)\n",
    "cri_opt2 = torch.optim.Adam(cri2.parameters(), lr=lr)"
   ]
  },
  {
   "cell_type": "code",
   "execution_count": 15,
   "id": "9b09e9cd",
   "metadata": {},
   "outputs": [],
   "source": [
    "env = gym.make('Pendulum-v1', render_mode='human')"
   ]
  },
  {
   "cell_type": "code",
   "execution_count": 16,
   "id": "6fd98ac6",
   "metadata": {},
   "outputs": [],
   "source": [
    "model = TD3(env, n_acts, act, act_opt, cri1, cri_opt1, cri2, cri_opt2, eps=eps, tau=tau, act_noise=0.2, act_range = (-2, 2))"
   ]
  },
  {
   "cell_type": "code",
   "execution_count": 17,
   "id": "f2567459",
   "metadata": {},
   "outputs": [
    {
     "name": "stderr",
     "output_type": "stream",
     "text": [
      "c:\\Users\\esder\\AppData\\Local\\Programs\\Python\\Python38\\lib\\site-packages\\gym\\utils\\passive_env_checker.py:233: DeprecationWarning: `np.bool8` is a deprecated alias for `np.bool_`.  (Deprecated NumPy 1.24)\n",
      "  if not isinstance(terminated, (bool, np.bool8)):\n"
     ]
    },
    {
     "name": "stdout",
     "output_type": "stream",
     "text": [
      "step: 210, score: -81.19225413847353, n_buffer: 210\n",
      "step: 410, score: -82.90910132102104, n_buffer: 410\n",
      "step: 610, score: -84.88200366257588, n_buffer: 610\n",
      "step: 810, score: -82.64932812686354, n_buffer: 810\n",
      "step: 1010, score: -85.16061209315353, n_buffer: 1010\n",
      "step: 1210, score: -82.36173603711453, n_buffer: 1210\n",
      "step: 1410, score: -85.0647810127457, n_buffer: 1410\n",
      "step: 1610, score: -82.76442127148397, n_buffer: 1610\n",
      "step: 1810, score: -84.46114682047781, n_buffer: 1810\n",
      "step: 2210, score: -84.2214457158984, n_buffer: 2210\n",
      "step: 2410, score: -82.56493672049277, n_buffer: 2410\n",
      "step: 2610, score: -84.93709444161627, n_buffer: 2610\n",
      "step: 2810, score: -82.75847355417153, n_buffer: 2810\n",
      "step: 3010, score: -84.66649241884872, n_buffer: 3010\n",
      "step: 3210, score: -83.22741238205984, n_buffer: 3210\n",
      "step: 3410, score: -83.79082387791475, n_buffer: 3410\n",
      "step: 3610, score: -83.81790658378927, n_buffer: 3610\n",
      "step: 3810, score: -83.42145503977133, n_buffer: 3810\n",
      "step: 4210, score: -92.12086781877517, n_buffer: 4210\n",
      "step: 4410, score: -73.83473767791273, n_buffer: 4410\n",
      "step: 4610, score: -65.28666942726052, n_buffer: 4610\n",
      "step: 4810, score: -69.02338552050031, n_buffer: 4810\n",
      "step: 5010, score: -81.16355198381459, n_buffer: 5010\n",
      "step: 5210, score: -77.63886691565166, n_buffer: 5210\n",
      "step: 5410, score: -73.09743914297266, n_buffer: 5410\n",
      "step: 5610, score: -57.495849064476396, n_buffer: 5610\n",
      "step: 5810, score: -78.07698918896233, n_buffer: 5810\n",
      "step: 6210, score: -86.13973389182112, n_buffer: 6210\n",
      "step: 6410, score: -83.69414184435095, n_buffer: 6410\n",
      "step: 6610, score: -83.7207193377067, n_buffer: 6610\n",
      "step: 6810, score: -84.60664022816968, n_buffer: 6810\n",
      "step: 7010, score: -82.78335185033248, n_buffer: 7010\n",
      "step: 7210, score: -85.38065930778778, n_buffer: 7210\n",
      "step: 7410, score: -82.41133215657979, n_buffer: 7410\n",
      "step: 7610, score: -85.18473276955245, n_buffer: 7610\n",
      "step: 7810, score: -82.53761657626835, n_buffer: 7810\n",
      "step: 8210, score: -65.7567579962843, n_buffer: 8210\n",
      "step: 8410, score: -71.9648989110535, n_buffer: 8410\n",
      "step: 8610, score: -64.24490417169261, n_buffer: 8610\n",
      "step: 8810, score: -66.61517275949176, n_buffer: 8810\n",
      "step: 9010, score: -73.3929029501615, n_buffer: 9010\n",
      "step: 9210, score: -64.42220874708087, n_buffer: 9210\n",
      "step: 9410, score: -59.59205158301685, n_buffer: 9410\n",
      "step: 9610, score: -52.96207577897402, n_buffer: 9610\n",
      "step: 9810, score: -56.37661873765952, n_buffer: 9810\n",
      "step: 10210, score: -79.93376302733067, n_buffer: 9999\n",
      "step: 10410, score: -75.2623531492336, n_buffer: 9999\n",
      "step: 10610, score: -62.66130033427917, n_buffer: 9999\n",
      "step: 10810, score: -55.42219895323554, n_buffer: 9999\n",
      "step: 11010, score: -48.25929908024049, n_buffer: 9999\n",
      "step: 11210, score: -47.681628087323304, n_buffer: 9999\n",
      "step: 11410, score: -58.15167573753158, n_buffer: 9999\n",
      "step: 11610, score: -70.8357507232987, n_buffer: 9999\n",
      "step: 11810, score: -60.49248947461651, n_buffer: 9999\n",
      "step: 12210, score: -58.03442192937888, n_buffer: 9999\n",
      "step: 12410, score: -50.095322926368816, n_buffer: 9999\n",
      "step: 12610, score: -45.49969966041391, n_buffer: 9999\n",
      "step: 12810, score: -38.19196085088057, n_buffer: 9999\n",
      "step: 13010, score: -38.74825320456386, n_buffer: 9999\n",
      "step: 13210, score: -32.082983519026136, n_buffer: 9999\n",
      "step: 13410, score: -55.17506697949925, n_buffer: 9999\n",
      "step: 13610, score: -63.266406473385516, n_buffer: 9999\n",
      "step: 13810, score: -61.63647059675926, n_buffer: 9999\n",
      "step: 14210, score: -57.15851088721846, n_buffer: 9999\n",
      "step: 14410, score: -57.160879086283956, n_buffer: 9999\n",
      "step: 14610, score: -55.28896636888339, n_buffer: 9999\n",
      "step: 14810, score: -53.608137145065506, n_buffer: 9999\n",
      "step: 15010, score: -48.02968577308884, n_buffer: 9999\n",
      "step: 15210, score: -48.35680893411422, n_buffer: 9999\n",
      "step: 15410, score: -48.358074970430536, n_buffer: 9999\n",
      "step: 15610, score: -37.00678536958132, n_buffer: 9999\n",
      "step: 15810, score: -42.061955036580734, n_buffer: 9999\n",
      "step: 16210, score: -48.708782889552744, n_buffer: 9999\n",
      "step: 16410, score: -24.660743871243092, n_buffer: 9999\n",
      "step: 16610, score: -25.99428406704049, n_buffer: 9999\n",
      "step: 16810, score: -19.329249371869174, n_buffer: 9999\n",
      "step: 17010, score: -24.870735857687425, n_buffer: 9999\n",
      "step: 17210, score: -19.370427525455774, n_buffer: 9999\n",
      "step: 17410, score: -19.088153038365377, n_buffer: 9999\n",
      "step: 17610, score: -19.065416398249226, n_buffer: 9999\n",
      "step: 17810, score: -19.146703021644054, n_buffer: 9999\n",
      "step: 18210, score: -19.29372116252254, n_buffer: 9999\n",
      "step: 18410, score: -19.328692799075238, n_buffer: 9999\n",
      "step: 18610, score: -19.358043554166763, n_buffer: 9999\n",
      "step: 18810, score: -19.26822184633823, n_buffer: 9999\n",
      "step: 19010, score: -19.297580091258716, n_buffer: 9999\n",
      "step: 19210, score: -19.413435881677266, n_buffer: 9999\n",
      "step: 19410, score: -13.709740923722382, n_buffer: 9999\n",
      "step: 19610, score: -18.794536968634983, n_buffer: 9999\n",
      "step: 19810, score: -19.5041902307545, n_buffer: 9999\n",
      "step: 20210, score: -12.658702222435007, n_buffer: 9999\n",
      "step: 20410, score: -0.09847036168885379, n_buffer: 9999\n",
      "step: 20610, score: -0.09305264522466399, n_buffer: 9999\n",
      "step: 20810, score: -0.011589173212484979, n_buffer: 9999\n",
      "step: 21010, score: -0.006942499127287569, n_buffer: 9999\n",
      "step: 21210, score: -0.01118222603316547, n_buffer: 9999\n",
      "step: 21410, score: -0.01670815313552584, n_buffer: 9999\n",
      "step: 21610, score: -0.014216703604110587, n_buffer: 9999\n",
      "step: 21810, score: -0.01237325597662375, n_buffer: 9999\n",
      "step: 22210, score: -19.167153590948313, n_buffer: 9999\n",
      "step: 22410, score: -0.018204183600328626, n_buffer: 9999\n"
     ]
    },
    {
     "ename": "KeyboardInterrupt",
     "evalue": "",
     "output_type": "error",
     "traceback": [
      "\u001b[1;31m---------------------------------------------------------------------------\u001b[0m",
      "\u001b[1;31mKeyboardInterrupt\u001b[0m                         Traceback (most recent call last)",
      "Cell \u001b[1;32mIn[17], line 1\u001b[0m\n\u001b[1;32m----> 1\u001b[0m model\u001b[39m.\u001b[39;49mtrain(n_epis, n_epochs, n_rollout)\n",
      "File \u001b[1;32mc:\\Users\\esder\\Desktop\\github\\rl2\\rl\\models\\td3.py:59\u001b[0m, in \u001b[0;36mTD3.train\u001b[1;34m(self, n_epis, n_epochs, n_rollout, n_update, print_interval)\u001b[0m\n\u001b[0;32m     57\u001b[0m d_mask \u001b[39m=\u001b[39m \u001b[39m0.0\u001b[39m \u001b[39mif\u001b[39;00m done \u001b[39melse\u001b[39;00m \u001b[39m1.0\u001b[39m\n\u001b[0;32m     58\u001b[0m \u001b[39mself\u001b[39m\u001b[39m.\u001b[39mbuffer\u001b[39m.\u001b[39mput((s, a, r\u001b[39m/\u001b[39m\u001b[39m100\u001b[39m, d_mask, s_p))\n\u001b[1;32m---> 59\u001b[0m env\u001b[39m.\u001b[39;49mrender()\n\u001b[0;32m     61\u001b[0m s \u001b[39m=\u001b[39m s_p\n\u001b[0;32m     62\u001b[0m score \u001b[39m+\u001b[39m\u001b[39m=\u001b[39m r\n",
      "File \u001b[1;32mc:\\Users\\esder\\AppData\\Local\\Programs\\Python\\Python38\\lib\\site-packages\\gym\\core.py:329\u001b[0m, in \u001b[0;36mWrapper.render\u001b[1;34m(self, *args, **kwargs)\u001b[0m\n\u001b[0;32m    325\u001b[0m \u001b[39mdef\u001b[39;00m \u001b[39mrender\u001b[39m(\n\u001b[0;32m    326\u001b[0m     \u001b[39mself\u001b[39m, \u001b[39m*\u001b[39margs, \u001b[39m*\u001b[39m\u001b[39m*\u001b[39mkwargs\n\u001b[0;32m    327\u001b[0m ) \u001b[39m-\u001b[39m\u001b[39m>\u001b[39m Optional[Union[RenderFrame, List[RenderFrame]]]:\n\u001b[0;32m    328\u001b[0m \u001b[39m    \u001b[39m\u001b[39m\"\"\"Renders the environment.\"\"\"\u001b[39;00m\n\u001b[1;32m--> 329\u001b[0m     \u001b[39mreturn\u001b[39;00m \u001b[39mself\u001b[39;49m\u001b[39m.\u001b[39;49menv\u001b[39m.\u001b[39;49mrender(\u001b[39m*\u001b[39;49margs, \u001b[39m*\u001b[39;49m\u001b[39m*\u001b[39;49mkwargs)\n",
      "File \u001b[1;32mc:\\Users\\esder\\AppData\\Local\\Programs\\Python\\Python38\\lib\\site-packages\\gym\\wrappers\\order_enforcing.py:51\u001b[0m, in \u001b[0;36mOrderEnforcing.render\u001b[1;34m(self, *args, **kwargs)\u001b[0m\n\u001b[0;32m     46\u001b[0m \u001b[39mif\u001b[39;00m \u001b[39mnot\u001b[39;00m \u001b[39mself\u001b[39m\u001b[39m.\u001b[39m_disable_render_order_enforcing \u001b[39mand\u001b[39;00m \u001b[39mnot\u001b[39;00m \u001b[39mself\u001b[39m\u001b[39m.\u001b[39m_has_reset:\n\u001b[0;32m     47\u001b[0m     \u001b[39mraise\u001b[39;00m ResetNeeded(\n\u001b[0;32m     48\u001b[0m         \u001b[39m\"\u001b[39m\u001b[39mCannot call `env.render()` before calling `env.reset()`, if this is a intended action, \u001b[39m\u001b[39m\"\u001b[39m\n\u001b[0;32m     49\u001b[0m         \u001b[39m\"\u001b[39m\u001b[39mset `disable_render_order_enforcing=True` on the OrderEnforcer wrapper.\u001b[39m\u001b[39m\"\u001b[39m\n\u001b[0;32m     50\u001b[0m     )\n\u001b[1;32m---> 51\u001b[0m \u001b[39mreturn\u001b[39;00m \u001b[39mself\u001b[39;49m\u001b[39m.\u001b[39;49menv\u001b[39m.\u001b[39;49mrender(\u001b[39m*\u001b[39;49margs, \u001b[39m*\u001b[39;49m\u001b[39m*\u001b[39;49mkwargs)\n",
      "File \u001b[1;32mc:\\Users\\esder\\AppData\\Local\\Programs\\Python\\Python38\\lib\\site-packages\\gym\\wrappers\\env_checker.py:55\u001b[0m, in \u001b[0;36mPassiveEnvChecker.render\u001b[1;34m(self, *args, **kwargs)\u001b[0m\n\u001b[0;32m     53\u001b[0m     \u001b[39mreturn\u001b[39;00m env_render_passive_checker(\u001b[39mself\u001b[39m\u001b[39m.\u001b[39menv, \u001b[39m*\u001b[39margs, \u001b[39m*\u001b[39m\u001b[39m*\u001b[39mkwargs)\n\u001b[0;32m     54\u001b[0m \u001b[39melse\u001b[39;00m:\n\u001b[1;32m---> 55\u001b[0m     \u001b[39mreturn\u001b[39;00m \u001b[39mself\u001b[39;49m\u001b[39m.\u001b[39;49menv\u001b[39m.\u001b[39;49mrender(\u001b[39m*\u001b[39;49margs, \u001b[39m*\u001b[39;49m\u001b[39m*\u001b[39;49mkwargs)\n",
      "File \u001b[1;32mc:\\Users\\esder\\AppData\\Local\\Programs\\Python\\Python38\\lib\\site-packages\\gym\\envs\\classic_control\\pendulum.py:253\u001b[0m, in \u001b[0;36mPendulumEnv.render\u001b[1;34m(self)\u001b[0m\n\u001b[0;32m    251\u001b[0m \u001b[39mif\u001b[39;00m \u001b[39mself\u001b[39m\u001b[39m.\u001b[39mrender_mode \u001b[39m==\u001b[39m \u001b[39m\"\u001b[39m\u001b[39mhuman\u001b[39m\u001b[39m\"\u001b[39m:\n\u001b[0;32m    252\u001b[0m     pygame\u001b[39m.\u001b[39mevent\u001b[39m.\u001b[39mpump()\n\u001b[1;32m--> 253\u001b[0m     \u001b[39mself\u001b[39;49m\u001b[39m.\u001b[39;49mclock\u001b[39m.\u001b[39;49mtick(\u001b[39mself\u001b[39;49m\u001b[39m.\u001b[39;49mmetadata[\u001b[39m\"\u001b[39;49m\u001b[39mrender_fps\u001b[39;49m\u001b[39m\"\u001b[39;49m])\n\u001b[0;32m    254\u001b[0m     pygame\u001b[39m.\u001b[39mdisplay\u001b[39m.\u001b[39mflip()\n\u001b[0;32m    256\u001b[0m \u001b[39melse\u001b[39;00m:  \u001b[39m# mode == \"rgb_array\":\u001b[39;00m\n",
      "\u001b[1;31mKeyboardInterrupt\u001b[0m: "
     ]
    }
   ],
   "source": [
    "model.train(n_epis, n_epochs, n_rollout)"
   ]
  },
  {
   "cell_type": "code",
   "execution_count": 18,
   "id": "6724c2f6",
   "metadata": {},
   "outputs": [],
   "source": [
    "env.close()"
   ]
  }
 ],
 "metadata": {
  "kernelspec": {
   "display_name": "Python 3 (ipykernel)",
   "language": "python",
   "name": "python3"
  },
  "language_info": {
   "codemirror_mode": {
    "name": "ipython",
    "version": 3
   },
   "file_extension": ".py",
   "mimetype": "text/x-python",
   "name": "python",
   "nbconvert_exporter": "python",
   "pygments_lexer": "ipython3",
   "version": "3.8.10"
  }
 },
 "nbformat": 4,
 "nbformat_minor": 5
}
