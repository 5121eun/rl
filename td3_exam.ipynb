{
 "cells": [
  {
   "cell_type": "code",
   "execution_count": 2,
   "id": "1543702f",
   "metadata": {},
   "outputs": [],
   "source": [
    "import gym\n",
    "import torch\n",
    "import torch.nn as nn\n",
    "\n",
    "\n",
    "from models.td3 import TD3"
   ]
  },
  {
   "cell_type": "code",
   "execution_count": 3,
   "id": "305b60db",
   "metadata": {},
   "outputs": [],
   "source": [
    "class Actor(nn.Module):\n",
    "    def __init__(self, nstates: int, nactions: int):\n",
    "        super(Actor, self).__init__()\n",
    "                \n",
    "        self.fc1 = nn.Linear(nstates, 400)\n",
    "        self.fc2 = nn.Linear(400, 300)\n",
    "        self.fc3 = nn.Linear(300, nactions)\n",
    "        \n",
    "        self.relu1 = nn.ReLU()\n",
    "        self.relu2 = nn.ReLU()\n",
    "    \n",
    "    def forward(self, x):\n",
    "        x = self.relu1(self.fc1(x))\n",
    "        x = self.relu2(self.fc2(x))\n",
    "        mu = torch.tanh(self.fc3(x)) * 2\n",
    "        \n",
    "        return mu"
   ]
  },
  {
   "cell_type": "code",
   "execution_count": 4,
   "id": "532af675",
   "metadata": {},
   "outputs": [],
   "source": [
    "class Critic(nn.Module): #다름\n",
    "    def __init__(self, nstates: int, nactions: int):\n",
    "        super(Critic, self).__init__()\n",
    "                \n",
    "        self.fc1 = nn.Linear(nstates + nactions, 400)\n",
    "        self.fc2 = nn.Linear(400, 300)\n",
    "        self.fc3 = nn.Linear(300, 1)\n",
    "        \n",
    "        self.relu1 = nn.ReLU()\n",
    "        self.relu2 = nn.ReLU()\n",
    "                \n",
    "    def forward(self, xs):\n",
    "        x, a = xs\n",
    "        \n",
    "        x = self.relu1(self.fc1(torch.cat([x, a], 1)))\n",
    "        x = self.relu2(self.fc2(x))\n",
    "        x = self.fc3(x)\n",
    "        \n",
    "        return x"
   ]
  },
  {
   "cell_type": "code",
   "execution_count": 7,
   "id": "a5b76cc1",
   "metadata": {},
   "outputs": [],
   "source": [
    "lr = 1e-3\n",
    "tau = 5e-3\n",
    "eps = 0\n",
    "gamma = 0.99\n",
    "\n",
    "n_sts = 3\n",
    "n_acts = 1\n",
    "\n",
    "n_epis = 500\n",
    "n_rollout = 1000"
   ]
  },
  {
   "cell_type": "code",
   "execution_count": 8,
   "id": "6fe27fa3",
   "metadata": {},
   "outputs": [],
   "source": [
    "act = Actor(n_sts, n_acts)\n",
    "act_opt = torch.optim.Adam(act.parameters(), lr=lr)\n",
    "\n",
    "cri1 = Critic(n_sts, n_acts)\n",
    "cri_opt1 = torch.optim.Adam(cri1.parameters(), lr=lr)\n",
    "\n",
    "cri2 = Critic(n_sts, n_acts)\n",
    "cri_opt2 = torch.optim.Adam(cri2.parameters(), lr=lr)"
   ]
  },
  {
   "cell_type": "code",
   "execution_count": 9,
   "id": "9b09e9cd",
   "metadata": {},
   "outputs": [],
   "source": [
    "env = gym.make('Pendulum-v1', render_mode='human')"
   ]
  },
  {
   "cell_type": "code",
   "execution_count": 10,
   "id": "6fd98ac6",
   "metadata": {},
   "outputs": [],
   "source": [
    "model = TD3(env, n_acts, act, act_opt, cri1, cri_opt1, cri2, cri_opt2, eps=eps, tau=tau, act_range = (-2, 2))"
   ]
  },
  {
   "cell_type": "code",
   "execution_count": 11,
   "id": "f2567459",
   "metadata": {},
   "outputs": [
    {
     "name": "stderr",
     "output_type": "stream",
     "text": [
      "c:\\Users\\esder\\AppData\\Local\\Programs\\Python\\Python38\\lib\\site-packages\\gym\\utils\\passive_env_checker.py:233: DeprecationWarning: `np.bool8` is a deprecated alias for `np.bool_`.  (Deprecated NumPy 1.24)\n",
      "  if not isinstance(terminated, (bool, np.bool8)):\n"
     ]
    },
    {
     "name": "stdout",
     "output_type": "stream",
     "text": [
      "n_epi: 0, score: -7.761124816948159, n_buffer: 201\n",
      "n_epi: 0, score: -8.461473378535008, n_buffer: 401\n",
      "n_epi: 0, score: -8.32503781634143, n_buffer: 601\n",
      "n_epi: 0, score: -8.556512833149135, n_buffer: 801\n",
      "n_epi: 1, score: -15.913264549516644, n_buffer: 1201\n",
      "n_epi: 1, score: -8.548851324373613, n_buffer: 1401\n",
      "n_epi: 1, score: -8.302280179020217, n_buffer: 1601\n",
      "n_epi: 1, score: -8.52423285440799, n_buffer: 1801\n",
      "n_epi: 2, score: -16.390971884518763, n_buffer: 2201\n",
      "n_epi: 2, score: -8.47832457440721, n_buffer: 2401\n",
      "n_epi: 2, score: -8.47221254166231, n_buffer: 2601\n",
      "n_epi: 2, score: -8.319217329764422, n_buffer: 2801\n",
      "n_epi: 3, score: -16.55248823542514, n_buffer: 3201\n",
      "n_epi: 3, score: -8.562268510788252, n_buffer: 3401\n",
      "n_epi: 3, score: -8.326322973083373, n_buffer: 3601\n",
      "n_epi: 3, score: -8.469795616637436, n_buffer: 3801\n",
      "n_epi: 4, score: -15.536870443465995, n_buffer: 4201\n",
      "n_epi: 4, score: -8.41966086592082, n_buffer: 4401\n",
      "n_epi: 4, score: -8.49732491281742, n_buffer: 4601\n",
      "n_epi: 4, score: -8.29833382187943, n_buffer: 4801\n",
      "n_epi: 5, score: -15.549248829178753, n_buffer: 5201\n",
      "n_epi: 5, score: -7.724273374580182, n_buffer: 5401\n",
      "n_epi: 5, score: -7.1521432342662425, n_buffer: 5601\n",
      "n_epi: 5, score: -6.923244722840803, n_buffer: 5801\n",
      "n_epi: 6, score: -12.703462830030094, n_buffer: 6201\n",
      "n_epi: 6, score: -4.4333466251730655, n_buffer: 6401\n",
      "n_epi: 6, score: -7.727638065267212, n_buffer: 6601\n",
      "n_epi: 6, score: -5.826382443966429, n_buffer: 6801\n",
      "n_epi: 7, score: -12.26214556750056, n_buffer: 7201\n",
      "n_epi: 7, score: -5.888824139719271, n_buffer: 7401\n",
      "n_epi: 7, score: -6.060891674953167, n_buffer: 7601\n",
      "n_epi: 7, score: -5.914678067243785, n_buffer: 7801\n",
      "n_epi: 8, score: -10.131704668009492, n_buffer: 8201\n",
      "n_epi: 8, score: -7.717739285794504, n_buffer: 8401\n",
      "n_epi: 8, score: -8.195433776238394, n_buffer: 8601\n",
      "n_epi: 8, score: -9.197843584460754, n_buffer: 8801\n",
      "n_epi: 9, score: -12.9139641527899, n_buffer: 9201\n",
      "n_epi: 9, score: -3.3792757865149925, n_buffer: 9401\n",
      "n_epi: 9, score: -2.611130980625926, n_buffer: 9601\n",
      "n_epi: 9, score: -0.017335176601100136, n_buffer: 9801\n",
      "n_epi: 10, score: -5.466529391549731, n_buffer: 9999\n",
      "n_epi: 10, score: -0.01027723267140959, n_buffer: 9999\n"
     ]
    },
    {
     "ename": "KeyboardInterrupt",
     "evalue": "",
     "output_type": "error",
     "traceback": [
      "\u001b[1;31m---------------------------------------------------------------------------\u001b[0m",
      "\u001b[1;31mKeyboardInterrupt\u001b[0m                         Traceback (most recent call last)",
      "Cell \u001b[1;32mIn[11], line 1\u001b[0m\n\u001b[1;32m----> 1\u001b[0m model\u001b[39m.\u001b[39;49mtrain(n_epis, n_rollout)\n",
      "Cell \u001b[1;32mIn[6], line 49\u001b[0m, in \u001b[0;36mTD3.train\u001b[1;34m(self, n_epis, n_rollout, print_interval)\u001b[0m\n\u001b[0;32m     47\u001b[0m s_p, r, _, _, _ \u001b[39m=\u001b[39m env\u001b[39m.\u001b[39mstep(a)\n\u001b[0;32m     48\u001b[0m \u001b[39mself\u001b[39m\u001b[39m.\u001b[39mbuffer\u001b[39m.\u001b[39mput((s, a, r\u001b[39m/\u001b[39m\u001b[39m100\u001b[39m, s_p))\n\u001b[1;32m---> 49\u001b[0m env\u001b[39m.\u001b[39;49mrender()\n\u001b[0;32m     51\u001b[0m s \u001b[39m=\u001b[39m s_p\n\u001b[0;32m     52\u001b[0m score \u001b[39m+\u001b[39m\u001b[39m=\u001b[39m r\n",
      "File \u001b[1;32mc:\\Users\\esder\\AppData\\Local\\Programs\\Python\\Python38\\lib\\site-packages\\gym\\core.py:329\u001b[0m, in \u001b[0;36mWrapper.render\u001b[1;34m(self, *args, **kwargs)\u001b[0m\n\u001b[0;32m    325\u001b[0m \u001b[39mdef\u001b[39;00m \u001b[39mrender\u001b[39m(\n\u001b[0;32m    326\u001b[0m     \u001b[39mself\u001b[39m, \u001b[39m*\u001b[39margs, \u001b[39m*\u001b[39m\u001b[39m*\u001b[39mkwargs\n\u001b[0;32m    327\u001b[0m ) \u001b[39m-\u001b[39m\u001b[39m>\u001b[39m Optional[Union[RenderFrame, List[RenderFrame]]]:\n\u001b[0;32m    328\u001b[0m \u001b[39m    \u001b[39m\u001b[39m\"\"\"Renders the environment.\"\"\"\u001b[39;00m\n\u001b[1;32m--> 329\u001b[0m     \u001b[39mreturn\u001b[39;00m \u001b[39mself\u001b[39;49m\u001b[39m.\u001b[39;49menv\u001b[39m.\u001b[39;49mrender(\u001b[39m*\u001b[39;49margs, \u001b[39m*\u001b[39;49m\u001b[39m*\u001b[39;49mkwargs)\n",
      "File \u001b[1;32mc:\\Users\\esder\\AppData\\Local\\Programs\\Python\\Python38\\lib\\site-packages\\gym\\wrappers\\order_enforcing.py:51\u001b[0m, in \u001b[0;36mOrderEnforcing.render\u001b[1;34m(self, *args, **kwargs)\u001b[0m\n\u001b[0;32m     46\u001b[0m \u001b[39mif\u001b[39;00m \u001b[39mnot\u001b[39;00m \u001b[39mself\u001b[39m\u001b[39m.\u001b[39m_disable_render_order_enforcing \u001b[39mand\u001b[39;00m \u001b[39mnot\u001b[39;00m \u001b[39mself\u001b[39m\u001b[39m.\u001b[39m_has_reset:\n\u001b[0;32m     47\u001b[0m     \u001b[39mraise\u001b[39;00m ResetNeeded(\n\u001b[0;32m     48\u001b[0m         \u001b[39m\"\u001b[39m\u001b[39mCannot call `env.render()` before calling `env.reset()`, if this is a intended action, \u001b[39m\u001b[39m\"\u001b[39m\n\u001b[0;32m     49\u001b[0m         \u001b[39m\"\u001b[39m\u001b[39mset `disable_render_order_enforcing=True` on the OrderEnforcer wrapper.\u001b[39m\u001b[39m\"\u001b[39m\n\u001b[0;32m     50\u001b[0m     )\n\u001b[1;32m---> 51\u001b[0m \u001b[39mreturn\u001b[39;00m \u001b[39mself\u001b[39;49m\u001b[39m.\u001b[39;49menv\u001b[39m.\u001b[39;49mrender(\u001b[39m*\u001b[39;49margs, \u001b[39m*\u001b[39;49m\u001b[39m*\u001b[39;49mkwargs)\n",
      "File \u001b[1;32mc:\\Users\\esder\\AppData\\Local\\Programs\\Python\\Python38\\lib\\site-packages\\gym\\wrappers\\env_checker.py:55\u001b[0m, in \u001b[0;36mPassiveEnvChecker.render\u001b[1;34m(self, *args, **kwargs)\u001b[0m\n\u001b[0;32m     53\u001b[0m     \u001b[39mreturn\u001b[39;00m env_render_passive_checker(\u001b[39mself\u001b[39m\u001b[39m.\u001b[39menv, \u001b[39m*\u001b[39margs, \u001b[39m*\u001b[39m\u001b[39m*\u001b[39mkwargs)\n\u001b[0;32m     54\u001b[0m \u001b[39melse\u001b[39;00m:\n\u001b[1;32m---> 55\u001b[0m     \u001b[39mreturn\u001b[39;00m \u001b[39mself\u001b[39;49m\u001b[39m.\u001b[39;49menv\u001b[39m.\u001b[39;49mrender(\u001b[39m*\u001b[39;49margs, \u001b[39m*\u001b[39;49m\u001b[39m*\u001b[39;49mkwargs)\n",
      "File \u001b[1;32mc:\\Users\\esder\\AppData\\Local\\Programs\\Python\\Python38\\lib\\site-packages\\gym\\envs\\classic_control\\pendulum.py:253\u001b[0m, in \u001b[0;36mPendulumEnv.render\u001b[1;34m(self)\u001b[0m\n\u001b[0;32m    251\u001b[0m \u001b[39mif\u001b[39;00m \u001b[39mself\u001b[39m\u001b[39m.\u001b[39mrender_mode \u001b[39m==\u001b[39m \u001b[39m\"\u001b[39m\u001b[39mhuman\u001b[39m\u001b[39m\"\u001b[39m:\n\u001b[0;32m    252\u001b[0m     pygame\u001b[39m.\u001b[39mevent\u001b[39m.\u001b[39mpump()\n\u001b[1;32m--> 253\u001b[0m     \u001b[39mself\u001b[39;49m\u001b[39m.\u001b[39;49mclock\u001b[39m.\u001b[39;49mtick(\u001b[39mself\u001b[39;49m\u001b[39m.\u001b[39;49mmetadata[\u001b[39m\"\u001b[39;49m\u001b[39mrender_fps\u001b[39;49m\u001b[39m\"\u001b[39;49m])\n\u001b[0;32m    254\u001b[0m     pygame\u001b[39m.\u001b[39mdisplay\u001b[39m.\u001b[39mflip()\n\u001b[0;32m    256\u001b[0m \u001b[39melse\u001b[39;00m:  \u001b[39m# mode == \"rgb_array\":\u001b[39;00m\n",
      "\u001b[1;31mKeyboardInterrupt\u001b[0m: "
     ]
    }
   ],
   "source": [
    "model.train(n_epis, n_rollout)"
   ]
  },
  {
   "cell_type": "code",
   "execution_count": 55,
   "id": "6724c2f6",
   "metadata": {},
   "outputs": [],
   "source": [
    "env.close()"
   ]
  },
  {
   "cell_type": "code",
   "execution_count": null,
   "id": "a83dd158",
   "metadata": {},
   "outputs": [],
   "source": []
  }
 ],
 "metadata": {
  "kernelspec": {
   "display_name": "Python 3 (ipykernel)",
   "language": "python",
   "name": "python3"
  },
  "language_info": {
   "codemirror_mode": {
    "name": "ipython",
    "version": 3
   },
   "file_extension": ".py",
   "mimetype": "text/x-python",
   "name": "python",
   "nbconvert_exporter": "python",
   "pygments_lexer": "ipython3",
   "version": "3.8.10"
  }
 },
 "nbformat": 4,
 "nbformat_minor": 5
}
