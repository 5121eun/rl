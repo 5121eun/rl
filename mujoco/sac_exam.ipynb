{
 "cells": [
  {
   "cell_type": "code",
   "execution_count": 10,
   "id": "fde1c2b7",
   "metadata": {},
   "outputs": [],
   "source": [
    "import sys\n",
    "sys.path.append('..')\n",
    "\n",
    "import gym\n",
    "import torch\n",
    "import torch.nn as nn\n",
    "import torch.nn.functional as F\n",
    "from torch.distributions import Normal\n",
    "\n",
    "from models.sac import SAC\n"
   ]
  },
  {
   "cell_type": "code",
   "execution_count": 27,
   "id": "62a6c899",
   "metadata": {},
   "outputs": [],
   "source": [
    "class Actor(nn.Module):\n",
    "    def __init__(self, n_sts: int, n_acts: int, dim: int):\n",
    "        super(Actor, self).__init__()\n",
    "                \n",
    "        self.fc1 = nn.Linear(n_sts, dim)\n",
    "        self.fc_mu = nn.Linear(dim, n_acts)\n",
    "        self.fc_std = nn.Linear(dim, n_acts)\n",
    "        \n",
    "        self.relu1 = nn.ReLU()\n",
    "        self.relu2 = nn.ReLU()\n",
    "    \n",
    "    def forward(self, x):\n",
    "        x = self.relu1(self.fc1(x))\n",
    "        mu = self.fc_mu(x)\n",
    "        std = F.softplus(self.fc_std(x))\n",
    "        dist = Normal(mu, std)\n",
    "        act = dist.rsample()\n",
    "        log_prob = dist.log_prob(act)\n",
    "        real_act = torch.tanh(act)\n",
    "        real_log_prob = log_prob - torch.log(1 - torch.tanh(act).pow(2) + 1e-7)\n",
    "\n",
    "        return real_act, real_log_prob.sum(-1, keepdims=True)"
   ]
  },
  {
   "cell_type": "code",
   "execution_count": 28,
   "id": "6c198beb",
   "metadata": {},
   "outputs": [],
   "source": [
    "class QCritic(nn.Module): \n",
    "    def __init__(self, n_sts: int, act_dim: int, dim: int):\n",
    "        super(QCritic, self).__init__()\n",
    "                \n",
    "        self.fc1 = nn.Linear(n_sts + act_dim, dim)\n",
    "        self.fc2 = nn.Linear(dim, 1)\n",
    "        \n",
    "        self.relu1 = nn.ReLU()\n",
    "        self.relu2 = nn.ReLU()\n",
    "                \n",
    "    def forward(self, xs):\n",
    "        x, a = xs\n",
    "        \n",
    "        x = self.relu1(self.fc1(torch.cat([x, a], 1)))\n",
    "        x = self.fc2(x)\n",
    "        \n",
    "        return x"
   ]
  },
  {
   "cell_type": "code",
   "execution_count": 29,
   "id": "98f77919",
   "metadata": {},
   "outputs": [],
   "source": [
    "lr = 3e-4\n",
    "tau = 5e-3\n",
    "eps = 0\n",
    "gamma = 0.99\n",
    "\n",
    "n_sts = 17\n",
    "n_acts = 6\n",
    "act_dim = 6\n",
    "\n",
    "dim = 256\n",
    "\n",
    "n_epis = 5000\n",
    "n_epochs = 100\n",
    "n_rollout = 10"
   ]
  },
  {
   "cell_type": "code",
   "execution_count": 30,
   "id": "eb456073",
   "metadata": {},
   "outputs": [],
   "source": [
    "act = Actor(n_sts, n_acts, dim)\n",
    "act_opt = torch.optim.Adam(act.parameters(), lr=lr)\n",
    "\n",
    "qcri1 = QCritic(n_sts, act_dim, dim)\n",
    "qcri1_opt = torch.optim.Adam(qcri1.parameters(), lr=lr)\n",
    "\n",
    "qcri2 = QCritic(n_sts, act_dim, dim)\n",
    "qcri2_opt = torch.optim.Adam(qcri2.parameters(), lr=lr)"
   ]
  },
  {
   "cell_type": "code",
   "execution_count": 31,
   "id": "7502440a",
   "metadata": {},
   "outputs": [],
   "source": [
    "env = gym.make(\"HalfCheetah-v4\", render_mode='human')\n",
    "model = SAC(env, n_acts, act, act_opt, qcri1, qcri1_opt, qcri2, qcri2_opt, eps=eps, tau=tau, target_entropy=-n_acts)"
   ]
  },
  {
   "cell_type": "code",
   "execution_count": 32,
   "id": "a93b8496",
   "metadata": {},
   "outputs": [
    {
     "name": "stderr",
     "output_type": "stream",
     "text": [
      "c:\\Users\\esder\\AppData\\Local\\Programs\\Python\\Python38\\lib\\site-packages\\gym\\utils\\passive_env_checker.py:233: DeprecationWarning: `np.bool8` is a deprecated alias for `np.bool_`.  (Deprecated NumPy 1.24)\n",
      "  if not isinstance(terminated, (bool, np.bool8)):\n"
     ]
    },
    {
     "name": "stdout",
     "output_type": "stream",
     "text": [
      "epoch: 20, score: -2.1292862508162154, n_buffer: 210\n",
      "epoch: 40, score: -5.94729659997092, n_buffer: 410\n",
      "epoch: 60, score: -3.732358753816441, n_buffer: 610\n",
      "epoch: 80, score: -3.7902938020746695, n_buffer: 810\n",
      "epoch: 20, score: -3.316481201230931, n_buffer: 1210\n",
      "epoch: 40, score: -6.555619447885772, n_buffer: 1410\n",
      "epoch: 60, score: -2.6019912571142947, n_buffer: 1610\n",
      "epoch: 80, score: -3.41632895235196, n_buffer: 1810\n",
      "epoch: 20, score: -1.72434539773479, n_buffer: 2210\n",
      "epoch: 40, score: -3.0421055459558763, n_buffer: 2410\n",
      "epoch: 60, score: -3.207944931608279, n_buffer: 2610\n",
      "epoch: 80, score: -2.6519699369114758, n_buffer: 2810\n",
      "epoch: 20, score: -1.0499002497261052, n_buffer: 3210\n",
      "epoch: 40, score: -0.968516668688728, n_buffer: 3410\n",
      "epoch: 60, score: -1.9207387447339432, n_buffer: 3610\n",
      "epoch: 80, score: -0.9427554077997489, n_buffer: 3810\n",
      "epoch: 20, score: -0.31455067051975977, n_buffer: 4210\n",
      "epoch: 40, score: -1.5771906261181894, n_buffer: 4410\n",
      "epoch: 60, score: -1.4344724923549166, n_buffer: 4610\n",
      "epoch: 80, score: -0.8156885389501027, n_buffer: 4810\n",
      "epoch: 20, score: -0.5998550672027172, n_buffer: 5210\n",
      "epoch: 40, score: -1.745839260805339, n_buffer: 5410\n",
      "epoch: 60, score: -1.4501167887397017, n_buffer: 5610\n",
      "epoch: 80, score: -0.9265744198725644, n_buffer: 5810\n",
      "epoch: 20, score: -0.4240903009501887, n_buffer: 6210\n",
      "epoch: 40, score: -0.9475369425735227, n_buffer: 6410\n",
      "epoch: 60, score: -1.5798715022056735, n_buffer: 6610\n",
      "epoch: 80, score: -1.4688826471114425, n_buffer: 6810\n",
      "epoch: 20, score: 0.46113786371726295, n_buffer: 7210\n",
      "epoch: 40, score: -1.4962366784270116, n_buffer: 7410\n",
      "epoch: 60, score: -1.3616127679021912, n_buffer: 7610\n",
      "epoch: 80, score: -1.129525876335207, n_buffer: 7810\n",
      "epoch: 20, score: -0.7269049958867577, n_buffer: 8210\n",
      "epoch: 40, score: -1.4004833604520912, n_buffer: 8410\n",
      "epoch: 60, score: -1.5690785662473448, n_buffer: 8610\n",
      "epoch: 80, score: -1.0614111497771312, n_buffer: 8810\n",
      "epoch: 20, score: -0.4400316460023836, n_buffer: 9210\n",
      "epoch: 40, score: -0.6974540832789682, n_buffer: 9410\n",
      "epoch: 60, score: -2.028428734898453, n_buffer: 9610\n",
      "epoch: 80, score: -0.36554492066367134, n_buffer: 9810\n",
      "epoch: 20, score: -0.19673947257256627, n_buffer: 9999\n",
      "epoch: 40, score: -1.0647310517122968, n_buffer: 9999\n",
      "epoch: 60, score: -0.6205141033658175, n_buffer: 9999\n",
      "epoch: 80, score: -0.6486050249547202, n_buffer: 9999\n",
      "epoch: 20, score: -0.6134676448016528, n_buffer: 9999\n",
      "epoch: 40, score: 0.8024536254855666, n_buffer: 9999\n",
      "epoch: 60, score: -0.2563266278938737, n_buffer: 9999\n",
      "epoch: 80, score: -0.09552384327381051, n_buffer: 9999\n",
      "epoch: 20, score: -2.019371333908239, n_buffer: 9999\n",
      "epoch: 40, score: 0.7207716247115279, n_buffer: 9999\n",
      "epoch: 60, score: -1.1640531652848864, n_buffer: 9999\n",
      "epoch: 80, score: -0.03756225258003535, n_buffer: 9999\n",
      "epoch: 20, score: 0.5820682391151182, n_buffer: 9999\n",
      "epoch: 40, score: 0.9366583099871653, n_buffer: 9999\n",
      "epoch: 60, score: 1.1401383337333875, n_buffer: 9999\n",
      "epoch: 80, score: 1.1827168349678967, n_buffer: 9999\n",
      "epoch: 20, score: 2.8309050282047465, n_buffer: 9999\n",
      "epoch: 40, score: 1.264043699283516, n_buffer: 9999\n",
      "epoch: 60, score: -3.641273423641612, n_buffer: 9999\n",
      "epoch: 80, score: -5.193408983094331, n_buffer: 9999\n",
      "epoch: 20, score: 5.761694334567694, n_buffer: 9999\n",
      "epoch: 40, score: 3.6253419642695413, n_buffer: 9999\n",
      "epoch: 60, score: 7.291966038924866, n_buffer: 9999\n",
      "epoch: 80, score: -5.66336613800482, n_buffer: 9999\n",
      "epoch: 20, score: 7.2484693342324835, n_buffer: 9999\n",
      "epoch: 40, score: 6.7986841137869245, n_buffer: 9999\n",
      "epoch: 60, score: 6.941437494994306, n_buffer: 9999\n",
      "epoch: 80, score: 9.299352170607845, n_buffer: 9999\n",
      "epoch: 20, score: 8.562091316780077, n_buffer: 9999\n",
      "epoch: 40, score: 16.24844924274386, n_buffer: 9999\n",
      "epoch: 60, score: 4.7161650071448715, n_buffer: 9999\n",
      "epoch: 80, score: 4.78738136837504, n_buffer: 9999\n",
      "epoch: 20, score: 10.497853659688323, n_buffer: 9999\n",
      "epoch: 40, score: 11.23419542120794, n_buffer: 9999\n",
      "epoch: 60, score: 9.754107884159517, n_buffer: 9999\n",
      "epoch: 80, score: 9.660497028121947, n_buffer: 9999\n",
      "epoch: 20, score: 9.133534931338513, n_buffer: 9999\n",
      "epoch: 40, score: 7.180907488241414, n_buffer: 9999\n",
      "epoch: 60, score: 7.771536918619577, n_buffer: 9999\n",
      "epoch: 80, score: 10.789143528223025, n_buffer: 9999\n",
      "epoch: 20, score: 11.644314907323107, n_buffer: 9999\n",
      "epoch: 40, score: 11.142614528268606, n_buffer: 9999\n",
      "epoch: 60, score: 11.132040669195009, n_buffer: 9999\n",
      "epoch: 80, score: 10.461537770511454, n_buffer: 9999\n",
      "epoch: 20, score: 14.537442893187867, n_buffer: 9999\n",
      "epoch: 40, score: 14.479499307873215, n_buffer: 9999\n",
      "epoch: 60, score: 10.493869366670955, n_buffer: 9999\n",
      "epoch: 80, score: 9.516710239708214, n_buffer: 9999\n",
      "epoch: 20, score: 13.908635312562364, n_buffer: 9999\n",
      "epoch: 40, score: 12.420800740497574, n_buffer: 9999\n",
      "epoch: 60, score: 12.874992498513745, n_buffer: 9999\n",
      "epoch: 80, score: 15.969234980967496, n_buffer: 9999\n"
     ]
    },
    {
     "ename": "KeyboardInterrupt",
     "evalue": "",
     "output_type": "error",
     "traceback": [
      "\u001b[1;31m---------------------------------------------------------------------------\u001b[0m",
      "\u001b[1;31mKeyboardInterrupt\u001b[0m                         Traceback (most recent call last)",
      "Cell \u001b[1;32mIn[32], line 1\u001b[0m\n\u001b[1;32m----> 1\u001b[0m model\u001b[39m.\u001b[39;49mtrain(n_epis, n_epochs, n_rollout)\n",
      "File \u001b[1;32mc:\\Users\\esder\\Desktop\\github\\rl\\mujoco\\..\\models\\sac.py:74\u001b[0m, in \u001b[0;36mSAC.train\u001b[1;34m(self, n_epis, n_epochs, n_rollout, n_update, print_interval)\u001b[0m\n\u001b[0;32m     71\u001b[0m         \u001b[39mbreak\u001b[39;00m\n\u001b[0;32m     73\u001b[0m \u001b[39mfor\u001b[39;00m t \u001b[39min\u001b[39;00m \u001b[39mrange\u001b[39m(n_update):\n\u001b[1;32m---> 74\u001b[0m     \u001b[39mself\u001b[39;49m\u001b[39m.\u001b[39;49mupdate()\n\u001b[0;32m     76\u001b[0m \u001b[39mif\u001b[39;00m epoch \u001b[39m%\u001b[39m print_interval \u001b[39m==\u001b[39m \u001b[39m0\u001b[39m \u001b[39mand\u001b[39;00m epoch \u001b[39m!=\u001b[39m \u001b[39m0\u001b[39m:\n\u001b[0;32m     77\u001b[0m     \u001b[39mprint\u001b[39m(\u001b[39mf\u001b[39m\u001b[39m\"\u001b[39m\u001b[39mepoch: \u001b[39m\u001b[39m{\u001b[39;00mepoch\u001b[39m}\u001b[39;00m\u001b[39m, score: \u001b[39m\u001b[39m{\u001b[39;00mscore\u001b[39m \u001b[39m\u001b[39m/\u001b[39m\u001b[39m \u001b[39mprint_interval\u001b[39m}\u001b[39;00m\u001b[39m, n_buffer: \u001b[39m\u001b[39m{\u001b[39;00m\u001b[39mself\u001b[39m\u001b[39m.\u001b[39mbuffer\u001b[39m.\u001b[39msize()\u001b[39m}\u001b[39;00m\u001b[39m\"\u001b[39m)\n",
      "File \u001b[1;32mc:\\Users\\esder\\Desktop\\github\\rl\\mujoco\\..\\models\\sac.py:111\u001b[0m, in \u001b[0;36mSAC.update\u001b[1;34m(self)\u001b[0m\n\u001b[0;32m    109\u001b[0m \u001b[39mself\u001b[39m\u001b[39m.\u001b[39mlog_alpha_opt\u001b[39m.\u001b[39mzero_grad()\n\u001b[0;32m    110\u001b[0m log_alpha_ls\u001b[39m.\u001b[39mbackward()\n\u001b[1;32m--> 111\u001b[0m \u001b[39mself\u001b[39;49m\u001b[39m.\u001b[39;49mlog_alpha_opt\u001b[39m.\u001b[39;49mstep()\n\u001b[0;32m    113\u001b[0m \u001b[39mself\u001b[39m\u001b[39m.\u001b[39mupdate_tg(\u001b[39mself\u001b[39m\u001b[39m.\u001b[39mqcri1_tg, \u001b[39mself\u001b[39m\u001b[39m.\u001b[39mqcri1)\n\u001b[0;32m    114\u001b[0m \u001b[39mself\u001b[39m\u001b[39m.\u001b[39mupdate_tg(\u001b[39mself\u001b[39m\u001b[39m.\u001b[39mqcri2_tg, \u001b[39mself\u001b[39m\u001b[39m.\u001b[39mqcri2)\n",
      "File \u001b[1;32mc:\\Users\\esder\\AppData\\Local\\Programs\\Python\\Python38\\lib\\site-packages\\torch\\optim\\optimizer.py:280\u001b[0m, in \u001b[0;36mOptimizer.profile_hook_step.<locals>.wrapper\u001b[1;34m(*args, **kwargs)\u001b[0m\n\u001b[0;32m    276\u001b[0m         \u001b[39melse\u001b[39;00m:\n\u001b[0;32m    277\u001b[0m             \u001b[39mraise\u001b[39;00m \u001b[39mRuntimeError\u001b[39;00m(\u001b[39mf\u001b[39m\u001b[39m\"\u001b[39m\u001b[39m{\u001b[39;00mfunc\u001b[39m}\u001b[39;00m\u001b[39m must return None or a tuple of (new_args, new_kwargs),\u001b[39m\u001b[39m\"\u001b[39m\n\u001b[0;32m    278\u001b[0m                                \u001b[39mf\u001b[39m\u001b[39m\"\u001b[39m\u001b[39mbut got \u001b[39m\u001b[39m{\u001b[39;00mresult\u001b[39m}\u001b[39;00m\u001b[39m.\u001b[39m\u001b[39m\"\u001b[39m)\n\u001b[1;32m--> 280\u001b[0m out \u001b[39m=\u001b[39m func(\u001b[39m*\u001b[39;49margs, \u001b[39m*\u001b[39;49m\u001b[39m*\u001b[39;49mkwargs)\n\u001b[0;32m    281\u001b[0m \u001b[39mself\u001b[39m\u001b[39m.\u001b[39m_optimizer_step_code()\n\u001b[0;32m    283\u001b[0m \u001b[39m# call optimizer step post hooks\u001b[39;00m\n",
      "File \u001b[1;32mc:\\Users\\esder\\AppData\\Local\\Programs\\Python\\Python38\\lib\\site-packages\\torch\\optim\\optimizer.py:33\u001b[0m, in \u001b[0;36m_use_grad_for_differentiable.<locals>._use_grad\u001b[1;34m(self, *args, **kwargs)\u001b[0m\n\u001b[0;32m     31\u001b[0m \u001b[39mtry\u001b[39;00m:\n\u001b[0;32m     32\u001b[0m     torch\u001b[39m.\u001b[39mset_grad_enabled(\u001b[39mself\u001b[39m\u001b[39m.\u001b[39mdefaults[\u001b[39m'\u001b[39m\u001b[39mdifferentiable\u001b[39m\u001b[39m'\u001b[39m])\n\u001b[1;32m---> 33\u001b[0m     ret \u001b[39m=\u001b[39m func(\u001b[39mself\u001b[39;49m, \u001b[39m*\u001b[39;49margs, \u001b[39m*\u001b[39;49m\u001b[39m*\u001b[39;49mkwargs)\n\u001b[0;32m     34\u001b[0m \u001b[39mfinally\u001b[39;00m:\n\u001b[0;32m     35\u001b[0m     torch\u001b[39m.\u001b[39mset_grad_enabled(prev_grad)\n",
      "File \u001b[1;32mc:\\Users\\esder\\AppData\\Local\\Programs\\Python\\Python38\\lib\\site-packages\\torch\\optim\\adam.py:141\u001b[0m, in \u001b[0;36mAdam.step\u001b[1;34m(self, closure)\u001b[0m\n\u001b[0;32m    130\u001b[0m     beta1, beta2 \u001b[39m=\u001b[39m group[\u001b[39m'\u001b[39m\u001b[39mbetas\u001b[39m\u001b[39m'\u001b[39m]\n\u001b[0;32m    132\u001b[0m     \u001b[39mself\u001b[39m\u001b[39m.\u001b[39m_init_group(\n\u001b[0;32m    133\u001b[0m         group,\n\u001b[0;32m    134\u001b[0m         params_with_grad,\n\u001b[1;32m   (...)\u001b[0m\n\u001b[0;32m    138\u001b[0m         max_exp_avg_sqs,\n\u001b[0;32m    139\u001b[0m         state_steps)\n\u001b[1;32m--> 141\u001b[0m     adam(\n\u001b[0;32m    142\u001b[0m         params_with_grad,\n\u001b[0;32m    143\u001b[0m         grads,\n\u001b[0;32m    144\u001b[0m         exp_avgs,\n\u001b[0;32m    145\u001b[0m         exp_avg_sqs,\n\u001b[0;32m    146\u001b[0m         max_exp_avg_sqs,\n\u001b[0;32m    147\u001b[0m         state_steps,\n\u001b[0;32m    148\u001b[0m         amsgrad\u001b[39m=\u001b[39;49mgroup[\u001b[39m'\u001b[39;49m\u001b[39mamsgrad\u001b[39;49m\u001b[39m'\u001b[39;49m],\n\u001b[0;32m    149\u001b[0m         beta1\u001b[39m=\u001b[39;49mbeta1,\n\u001b[0;32m    150\u001b[0m         beta2\u001b[39m=\u001b[39;49mbeta2,\n\u001b[0;32m    151\u001b[0m         lr\u001b[39m=\u001b[39;49mgroup[\u001b[39m'\u001b[39;49m\u001b[39mlr\u001b[39;49m\u001b[39m'\u001b[39;49m],\n\u001b[0;32m    152\u001b[0m         weight_decay\u001b[39m=\u001b[39;49mgroup[\u001b[39m'\u001b[39;49m\u001b[39mweight_decay\u001b[39;49m\u001b[39m'\u001b[39;49m],\n\u001b[0;32m    153\u001b[0m         eps\u001b[39m=\u001b[39;49mgroup[\u001b[39m'\u001b[39;49m\u001b[39meps\u001b[39;49m\u001b[39m'\u001b[39;49m],\n\u001b[0;32m    154\u001b[0m         maximize\u001b[39m=\u001b[39;49mgroup[\u001b[39m'\u001b[39;49m\u001b[39mmaximize\u001b[39;49m\u001b[39m'\u001b[39;49m],\n\u001b[0;32m    155\u001b[0m         foreach\u001b[39m=\u001b[39;49mgroup[\u001b[39m'\u001b[39;49m\u001b[39mforeach\u001b[39;49m\u001b[39m'\u001b[39;49m],\n\u001b[0;32m    156\u001b[0m         capturable\u001b[39m=\u001b[39;49mgroup[\u001b[39m'\u001b[39;49m\u001b[39mcapturable\u001b[39;49m\u001b[39m'\u001b[39;49m],\n\u001b[0;32m    157\u001b[0m         differentiable\u001b[39m=\u001b[39;49mgroup[\u001b[39m'\u001b[39;49m\u001b[39mdifferentiable\u001b[39;49m\u001b[39m'\u001b[39;49m],\n\u001b[0;32m    158\u001b[0m         fused\u001b[39m=\u001b[39;49mgroup[\u001b[39m'\u001b[39;49m\u001b[39mfused\u001b[39;49m\u001b[39m'\u001b[39;49m],\n\u001b[0;32m    159\u001b[0m         grad_scale\u001b[39m=\u001b[39;49m\u001b[39mgetattr\u001b[39;49m(\u001b[39mself\u001b[39;49m, \u001b[39m\"\u001b[39;49m\u001b[39mgrad_scale\u001b[39;49m\u001b[39m\"\u001b[39;49m, \u001b[39mNone\u001b[39;49;00m),\n\u001b[0;32m    160\u001b[0m         found_inf\u001b[39m=\u001b[39;49m\u001b[39mgetattr\u001b[39;49m(\u001b[39mself\u001b[39;49m, \u001b[39m\"\u001b[39;49m\u001b[39mfound_inf\u001b[39;49m\u001b[39m\"\u001b[39;49m, \u001b[39mNone\u001b[39;49;00m),\n\u001b[0;32m    161\u001b[0m     )\n\u001b[0;32m    163\u001b[0m \u001b[39mreturn\u001b[39;00m loss\n",
      "File \u001b[1;32mc:\\Users\\esder\\AppData\\Local\\Programs\\Python\\Python38\\lib\\site-packages\\torch\\optim\\adam.py:281\u001b[0m, in \u001b[0;36madam\u001b[1;34m(params, grads, exp_avgs, exp_avg_sqs, max_exp_avg_sqs, state_steps, foreach, capturable, differentiable, fused, grad_scale, found_inf, amsgrad, beta1, beta2, lr, weight_decay, eps, maximize)\u001b[0m\n\u001b[0;32m    278\u001b[0m \u001b[39melse\u001b[39;00m:\n\u001b[0;32m    279\u001b[0m     func \u001b[39m=\u001b[39m _single_tensor_adam\n\u001b[1;32m--> 281\u001b[0m func(params,\n\u001b[0;32m    282\u001b[0m      grads,\n\u001b[0;32m    283\u001b[0m      exp_avgs,\n\u001b[0;32m    284\u001b[0m      exp_avg_sqs,\n\u001b[0;32m    285\u001b[0m      max_exp_avg_sqs,\n\u001b[0;32m    286\u001b[0m      state_steps,\n\u001b[0;32m    287\u001b[0m      amsgrad\u001b[39m=\u001b[39;49mamsgrad,\n\u001b[0;32m    288\u001b[0m      beta1\u001b[39m=\u001b[39;49mbeta1,\n\u001b[0;32m    289\u001b[0m      beta2\u001b[39m=\u001b[39;49mbeta2,\n\u001b[0;32m    290\u001b[0m      lr\u001b[39m=\u001b[39;49mlr,\n\u001b[0;32m    291\u001b[0m      weight_decay\u001b[39m=\u001b[39;49mweight_decay,\n\u001b[0;32m    292\u001b[0m      eps\u001b[39m=\u001b[39;49meps,\n\u001b[0;32m    293\u001b[0m      maximize\u001b[39m=\u001b[39;49mmaximize,\n\u001b[0;32m    294\u001b[0m      capturable\u001b[39m=\u001b[39;49mcapturable,\n\u001b[0;32m    295\u001b[0m      differentiable\u001b[39m=\u001b[39;49mdifferentiable,\n\u001b[0;32m    296\u001b[0m      grad_scale\u001b[39m=\u001b[39;49mgrad_scale,\n\u001b[0;32m    297\u001b[0m      found_inf\u001b[39m=\u001b[39;49mfound_inf)\n",
      "File \u001b[1;32mc:\\Users\\esder\\AppData\\Local\\Programs\\Python\\Python38\\lib\\site-packages\\torch\\optim\\adam.py:391\u001b[0m, in \u001b[0;36m_single_tensor_adam\u001b[1;34m(params, grads, exp_avgs, exp_avg_sqs, max_exp_avg_sqs, state_steps, grad_scale, found_inf, amsgrad, beta1, beta2, lr, weight_decay, eps, maximize, capturable, differentiable)\u001b[0m\n\u001b[0;32m    389\u001b[0m     denom \u001b[39m=\u001b[39m (max_exp_avg_sqs[i]\u001b[39m.\u001b[39msqrt() \u001b[39m/\u001b[39m bias_correction2_sqrt)\u001b[39m.\u001b[39madd_(eps)\n\u001b[0;32m    390\u001b[0m \u001b[39melse\u001b[39;00m:\n\u001b[1;32m--> 391\u001b[0m     denom \u001b[39m=\u001b[39m (exp_avg_sq\u001b[39m.\u001b[39;49msqrt() \u001b[39m/\u001b[39m bias_correction2_sqrt)\u001b[39m.\u001b[39madd_(eps)\n\u001b[0;32m    393\u001b[0m param\u001b[39m.\u001b[39maddcdiv_(exp_avg, denom, value\u001b[39m=\u001b[39m\u001b[39m-\u001b[39mstep_size)\n",
      "\u001b[1;31mKeyboardInterrupt\u001b[0m: "
     ]
    }
   ],
   "source": [
    "model.train(n_epis, n_epochs, n_rollout)"
   ]
  },
  {
   "cell_type": "code",
   "execution_count": null,
   "id": "0369afa8",
   "metadata": {},
   "outputs": [],
   "source": [
    "env.close()"
   ]
  },
  {
   "cell_type": "code",
   "execution_count": null,
   "id": "6f19566f",
   "metadata": {},
   "outputs": [],
   "source": []
  }
 ],
 "metadata": {
  "kernelspec": {
   "display_name": "Python 3 (ipykernel)",
   "language": "python",
   "name": "python3"
  },
  "language_info": {
   "codemirror_mode": {
    "name": "ipython",
    "version": 3
   },
   "file_extension": ".py",
   "mimetype": "text/x-python",
   "name": "python",
   "nbconvert_exporter": "python",
   "pygments_lexer": "ipython3",
   "version": "3.8.10"
  }
 },
 "nbformat": 4,
 "nbformat_minor": 5
}
