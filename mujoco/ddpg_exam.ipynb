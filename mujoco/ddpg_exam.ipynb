{
 "cells": [
  {
   "cell_type": "code",
   "execution_count": 1,
   "id": "cb40dea5",
   "metadata": {},
   "outputs": [],
   "source": [
    "import sys\n",
    "sys.path.append('..')\n",
    "\n",
    "import gym\n",
    "\n",
    "import torch\n",
    "import torch.nn as nn\n",
    "\n",
    "from models.ddpg import DDPG"
   ]
  },
  {
   "cell_type": "code",
   "execution_count": 2,
   "id": "be5b0bf8",
   "metadata": {},
   "outputs": [],
   "source": [
    "class Actor(nn.Module):\n",
    "    def __init__(self, nstates: int, nactions: int):\n",
    "        super(Actor, self).__init__()\n",
    "                \n",
    "        self.fc1 = nn.Linear(nstates, 400)\n",
    "        self.fc2 = nn.Linear(400, 300)\n",
    "        self.fc3 = nn.Linear(300, nactions)\n",
    "        \n",
    "        self.relu1 = nn.ReLU()\n",
    "        self.relu2 = nn.ReLU()\n",
    "    \n",
    "    def forward(self, x):\n",
    "        x = self.relu1(self.fc1(x))\n",
    "        x = self.relu2(self.fc2(x))\n",
    "        x = torch.tanh(self.fc3(x))\n",
    "        \n",
    "        return x"
   ]
  },
  {
   "cell_type": "code",
   "execution_count": 3,
   "id": "d3963cb2",
   "metadata": {},
   "outputs": [],
   "source": [
    "class Critic(nn.Module):\n",
    "    def __init__(self, nstates: int, nactions: int):\n",
    "        super(Critic, self).__init__()\n",
    "                \n",
    "        self.fc1 = nn.Linear(nstates, 400)\n",
    "        self.fc2 = nn.Linear(nactions + 400, 300)\n",
    "        self.fc3 = nn.Linear(300, 1)\n",
    "        \n",
    "        self.relu1 = nn.ReLU()\n",
    "        self.relu2 = nn.ReLU()\n",
    "                \n",
    "    def forward(self, xs):\n",
    "        x, a = xs\n",
    "        \n",
    "        x = self.relu1(self.fc1(x))\n",
    "        x = self.relu2(self.fc2(torch.cat([x, a], 1)))\n",
    "        x = self.fc3(x)\n",
    "        \n",
    "        return x"
   ]
  },
  {
   "cell_type": "code",
   "execution_count": 4,
   "id": "f94db997",
   "metadata": {},
   "outputs": [],
   "source": [
    "cri_lr = 1e-3\n",
    "act_lr = 5e-4\n",
    "\n",
    "tau = 5e-3\n",
    "\n",
    "nstates = 17\n",
    "nactions = 6\n",
    "\n",
    "n_epis = 500\n",
    "n_epochs = 200\n",
    "n_rollout = 10\n",
    "\n",
    "act_range = (-1, 1)"
   ]
  },
  {
   "cell_type": "code",
   "execution_count": 5,
   "id": "c13aa4f2",
   "metadata": {},
   "outputs": [],
   "source": [
    "env = gym.make(\"HalfCheetah-v4\", render_mode='human')"
   ]
  },
  {
   "cell_type": "code",
   "execution_count": 6,
   "id": "ecd626c3",
   "metadata": {},
   "outputs": [],
   "source": [
    "act = Actor(nstates, nactions)\n",
    "act_opt = torch.optim.Adam(act.parameters(), lr=act_lr)\n",
    "\n",
    "cri = Critic(nstates, nactions)\n",
    "cri_opt = torch.optim.Adam(cri.parameters(), lr=cri_lr)"
   ]
  },
  {
   "cell_type": "code",
   "execution_count": 7,
   "id": "35a7f196",
   "metadata": {},
   "outputs": [],
   "source": [
    "ddpg = DDPG(env, nactions, act, act_opt, cri, cri_opt, act_noise=0.2, act_range=act_range)"
   ]
  },
  {
   "cell_type": "code",
   "execution_count": null,
   "id": "1a358d16",
   "metadata": {},
   "outputs": [
    {
     "name": "stderr",
     "output_type": "stream",
     "text": [
      "c:\\Users\\esder\\AppData\\Local\\Programs\\Python\\Python38\\lib\\site-packages\\gym\\utils\\passive_env_checker.py:233: DeprecationWarning: `np.bool8` is a deprecated alias for `np.bool_`.  (Deprecated NumPy 1.24)\n",
      "  if not isinstance(terminated, (bool, np.bool8)):\n"
     ]
    },
    {
     "ename": "",
     "evalue": "",
     "output_type": "error",
     "traceback": [
      "\u001b[1;31mCanceled future for execute_request message before replies were done"
     ]
    },
    {
     "ename": "",
     "evalue": "",
     "output_type": "error",
     "traceback": [
      "\u001b[1;31mThe Kernel crashed while executing code in the the current cell or a previous cell. Please review the code in the cell(s) to identify a possible cause of the failure. Click <a href='https://aka.ms/vscodeJupyterKernelCrash'>here</a> for more info. View Jupyter <a href='command:jupyter.viewOutput'>log</a> for further details."
     ]
    }
   ],
   "source": [
    "ddpg.train(n_epis, 1, n_rollout)"
   ]
  },
  {
   "cell_type": "code",
   "execution_count": 8,
   "id": "fe37e705",
   "metadata": {},
   "outputs": [],
   "source": [
    "env.close()"
   ]
  },
  {
   "cell_type": "code",
   "execution_count": null,
   "id": "3f7864f3",
   "metadata": {},
   "outputs": [],
   "source": []
  }
 ],
 "metadata": {
  "kernelspec": {
   "display_name": "Python 3 (ipykernel)",
   "language": "python",
   "name": "python3"
  },
  "language_info": {
   "codemirror_mode": {
    "name": "ipython",
    "version": 3
   },
   "file_extension": ".py",
   "mimetype": "text/x-python",
   "name": "python",
   "nbconvert_exporter": "python",
   "pygments_lexer": "ipython3",
   "version": "3.8.10"
  }
 },
 "nbformat": 4,
 "nbformat_minor": 5
}
