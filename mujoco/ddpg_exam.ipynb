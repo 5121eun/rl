{
 "cells": [
  {
   "cell_type": "code",
   "execution_count": 1,
   "id": "cb40dea5",
   "metadata": {},
   "outputs": [],
   "source": [
    "import sys\n",
    "sys.path.append('..')\n",
    "\n",
    "import gym\n",
    "\n",
    "import torch\n",
    "import torch.nn as nn\n",
    "\n",
    "from models.ddpg import DDPG"
   ]
  },
  {
   "cell_type": "code",
   "execution_count": 2,
   "id": "be5b0bf8",
   "metadata": {},
   "outputs": [],
   "source": [
    "class Actor(nn.Module):\n",
    "    def __init__(self, nstates: int, nactions: int):\n",
    "        super(Actor, self).__init__()\n",
    "                \n",
    "        self.fc1 = nn.Linear(nstates, 400)\n",
    "        self.fc2 = nn.Linear(400, 300)\n",
    "        self.fc3 = nn.Linear(300, nactions)\n",
    "        \n",
    "        self.relu1 = nn.ReLU()\n",
    "        self.relu2 = nn.ReLU()\n",
    "    \n",
    "    def forward(self, x):\n",
    "        x = self.relu1(self.fc1(x))\n",
    "        x = self.relu2(self.fc2(x))\n",
    "        x = torch.tanh(self.fc3(x))\n",
    "        \n",
    "        return x"
   ]
  },
  {
   "cell_type": "code",
   "execution_count": 3,
   "id": "d3963cb2",
   "metadata": {},
   "outputs": [],
   "source": [
    "class Critic(nn.Module):\n",
    "    def __init__(self, nstates: int, nactions: int):\n",
    "        super(Critic, self).__init__()\n",
    "                \n",
    "        self.fc1 = nn.Linear(nstates, 400)\n",
    "        self.fc2 = nn.Linear(nactions + 400, 300)\n",
    "        self.fc3 = nn.Linear(300, 1)\n",
    "        \n",
    "        self.relu1 = nn.ReLU()\n",
    "        self.relu2 = nn.ReLU()\n",
    "                \n",
    "    def forward(self, xs):\n",
    "        x, a = xs\n",
    "        \n",
    "        x = self.relu1(self.fc1(x))\n",
    "        x = self.relu2(self.fc2(torch.cat([x, a], 1)))\n",
    "        x = self.fc3(x)\n",
    "        \n",
    "        return x"
   ]
  },
  {
   "cell_type": "code",
   "execution_count": 9,
   "id": "f94db997",
   "metadata": {},
   "outputs": [],
   "source": [
    "cri_lr = 1e-3\n",
    "act_lr = 5e-4\n",
    "\n",
    "tau = 5e-3\n",
    "\n",
    "nstates = 17\n",
    "nactions = 6\n",
    "\n",
    "n_epis = 500\n",
    "n_epochs = 200\n",
    "n_rollout = 10\n",
    "\n",
    "act_range = (-1, 1)"
   ]
  },
  {
   "cell_type": "code",
   "execution_count": 26,
   "id": "c13aa4f2",
   "metadata": {},
   "outputs": [],
   "source": [
    "env = gym.make(\"HalfCheetah-v4\", render_mode='human')"
   ]
  },
  {
   "cell_type": "code",
   "execution_count": 27,
   "id": "ecd626c3",
   "metadata": {},
   "outputs": [],
   "source": [
    "act = Actor(nstates, nactions)\n",
    "act_opt = torch.optim.Adam(act.parameters(), lr=act_lr)\n",
    "\n",
    "cri = Critic(nstates, nactions)\n",
    "cri_opt = torch.optim.Adam(cri.parameters(), lr=cri_lr)"
   ]
  },
  {
   "cell_type": "code",
   "execution_count": 28,
   "id": "35a7f196",
   "metadata": {},
   "outputs": [],
   "source": [
    "ddpg = DDPG(env, nactions, act, act_opt, cri, cri_opt, act_noise=0.3, act_range=act_range)"
   ]
  },
  {
   "cell_type": "code",
   "execution_count": 29,
   "id": "1a358d16",
   "metadata": {},
   "outputs": [
    {
     "name": "stdout",
     "output_type": "stream",
     "text": [
      "epoch: 20, score: -5.811917284592793, n_buffer: 210\n",
      "epoch: 40, score: -4.6575051841774595, n_buffer: 410\n",
      "epoch: 60, score: -4.950014137267848, n_buffer: 610\n",
      "epoch: 80, score: -4.051159667608857, n_buffer: 810\n",
      "epoch: 100, score: -3.084050745979697, n_buffer: 1010\n",
      "epoch: 120, score: -0.9182716500171747, n_buffer: 1210\n",
      "epoch: 140, score: -2.490610524644855, n_buffer: 1410\n",
      "epoch: 160, score: -5.795042367251741, n_buffer: 1610\n",
      "epoch: 180, score: -8.607199648123208, n_buffer: 1810\n",
      "epoch: 20, score: -7.424091521709229, n_buffer: 2210\n",
      "epoch: 40, score: -5.657285555716844, n_buffer: 2410\n",
      "epoch: 60, score: -7.299208831808151, n_buffer: 2610\n",
      "epoch: 80, score: -6.297047857009563, n_buffer: 2810\n",
      "epoch: 100, score: -5.925792095024519, n_buffer: 3010\n",
      "epoch: 120, score: -4.027448473349675, n_buffer: 3210\n",
      "epoch: 140, score: -1.2926775526738756, n_buffer: 3410\n",
      "epoch: 160, score: -4.728659390139326, n_buffer: 3610\n",
      "epoch: 180, score: -5.412483985846993, n_buffer: 3810\n",
      "epoch: 20, score: -3.3530186243897724, n_buffer: 4210\n",
      "epoch: 40, score: -4.447266335784879, n_buffer: 4410\n",
      "epoch: 60, score: -3.1695238079176735, n_buffer: 4610\n",
      "epoch: 80, score: -1.3906525061663642, n_buffer: 4810\n",
      "epoch: 100, score: -1.5147140498756888, n_buffer: 5010\n",
      "epoch: 120, score: -6.945425958069971, n_buffer: 5210\n",
      "epoch: 140, score: -1.7715415279340743, n_buffer: 5410\n",
      "epoch: 160, score: -3.7397327379547596, n_buffer: 5610\n",
      "epoch: 180, score: -4.734609566954326, n_buffer: 5810\n",
      "epoch: 20, score: -5.027598556184155, n_buffer: 6210\n",
      "epoch: 40, score: -3.2070144306990898, n_buffer: 6410\n",
      "epoch: 60, score: -3.593538974760075, n_buffer: 6610\n",
      "epoch: 80, score: -2.7670674146304064, n_buffer: 6810\n",
      "epoch: 100, score: -3.242356276132353, n_buffer: 7010\n",
      "epoch: 120, score: -2.7313340588779846, n_buffer: 7210\n",
      "epoch: 140, score: -1.3427167686762798, n_buffer: 7410\n",
      "epoch: 160, score: -1.1060686170570004, n_buffer: 7610\n",
      "epoch: 180, score: -4.491089271051729, n_buffer: 7810\n",
      "epoch: 20, score: -3.5897842568426603, n_buffer: 8210\n",
      "epoch: 40, score: -2.1566213127746496, n_buffer: 8410\n",
      "epoch: 60, score: 0.18303757641144972, n_buffer: 8610\n",
      "epoch: 80, score: -1.3142653090660872, n_buffer: 8810\n",
      "epoch: 100, score: -0.7410048038429373, n_buffer: 9010\n",
      "epoch: 120, score: 0.2099686697453475, n_buffer: 9210\n",
      "epoch: 140, score: 2.378728322356208, n_buffer: 9410\n",
      "epoch: 160, score: -3.0287435545041252, n_buffer: 9610\n",
      "epoch: 180, score: -4.671285394207397, n_buffer: 9810\n",
      "epoch: 20, score: -4.507209021175678, n_buffer: 9999\n",
      "epoch: 40, score: -5.221478095333775, n_buffer: 9999\n",
      "epoch: 60, score: -4.941119960908313, n_buffer: 9999\n",
      "epoch: 80, score: -3.940166898265609, n_buffer: 9999\n",
      "epoch: 100, score: 0.024950217804146517, n_buffer: 9999\n",
      "epoch: 120, score: -5.472501694788884, n_buffer: 9999\n",
      "epoch: 140, score: 4.637241481286663, n_buffer: 9999\n",
      "epoch: 160, score: -5.185861702755702, n_buffer: 9999\n",
      "epoch: 180, score: -4.843180161954679, n_buffer: 9999\n",
      "epoch: 20, score: -2.0961113112663763, n_buffer: 9999\n",
      "epoch: 40, score: -4.972315618522783, n_buffer: 9999\n",
      "epoch: 60, score: -4.981310604614761, n_buffer: 9999\n",
      "epoch: 80, score: -4.890567087362363, n_buffer: 9999\n",
      "epoch: 100, score: -4.827186656304834, n_buffer: 9999\n",
      "epoch: 120, score: -4.671142570950671, n_buffer: 9999\n",
      "epoch: 140, score: -4.9987658201230065, n_buffer: 9999\n",
      "epoch: 160, score: -1.3300934725274702, n_buffer: 9999\n",
      "epoch: 180, score: 5.556067989724919, n_buffer: 9999\n",
      "epoch: 20, score: 4.770530656577701, n_buffer: 9999\n",
      "epoch: 40, score: 4.564082850261414, n_buffer: 9999\n",
      "epoch: 60, score: 5.314761190858105, n_buffer: 9999\n",
      "epoch: 80, score: 5.6752727613159575, n_buffer: 9999\n",
      "epoch: 100, score: 5.984526121254157, n_buffer: 9999\n",
      "epoch: 120, score: 5.280944650533447, n_buffer: 9999\n",
      "epoch: 140, score: 5.9570122810140225, n_buffer: 9999\n",
      "epoch: 160, score: 6.730566820401795, n_buffer: 9999\n",
      "epoch: 180, score: 6.279459688113278, n_buffer: 9999\n",
      "epoch: 20, score: 7.605046096074621, n_buffer: 9999\n",
      "epoch: 40, score: 7.53667035687607, n_buffer: 9999\n"
     ]
    },
    {
     "ename": "KeyboardInterrupt",
     "evalue": "",
     "output_type": "error",
     "traceback": [
      "\u001b[1;31m---------------------------------------------------------------------------\u001b[0m",
      "\u001b[1;31mKeyboardInterrupt\u001b[0m                         Traceback (most recent call last)",
      "Cell \u001b[1;32mIn[29], line 1\u001b[0m\n\u001b[1;32m----> 1\u001b[0m ddpg\u001b[39m.\u001b[39;49mtrain(n_epis, n_epochs, n_rollout)\n",
      "File \u001b[1;32mc:\\Users\\esder\\Desktop\\github\\rl\\mujoco\\..\\models\\ddpg.py:53\u001b[0m, in \u001b[0;36mDDPG.train\u001b[1;34m(self, n_epis, n_epochs, n_rollout, n_update, print_interval)\u001b[0m\n\u001b[0;32m     50\u001b[0m     score \u001b[39m+\u001b[39m\u001b[39m=\u001b[39m r\n\u001b[0;32m     52\u001b[0m \u001b[39mfor\u001b[39;00m n \u001b[39min\u001b[39;00m \u001b[39mrange\u001b[39m(n_update):\n\u001b[1;32m---> 53\u001b[0m     \u001b[39mself\u001b[39;49m\u001b[39m.\u001b[39;49mupdate()\n\u001b[0;32m     55\u001b[0m \u001b[39mif\u001b[39;00m epoch \u001b[39m%\u001b[39m print_interval \u001b[39m==\u001b[39m \u001b[39m0\u001b[39m \u001b[39mand\u001b[39;00m epoch \u001b[39m!=\u001b[39m \u001b[39m0\u001b[39m:\n\u001b[0;32m     56\u001b[0m     \u001b[39mprint\u001b[39m(\u001b[39mf\u001b[39m\u001b[39m\"\u001b[39m\u001b[39mepoch: \u001b[39m\u001b[39m{\u001b[39;00mepoch\u001b[39m}\u001b[39;00m\u001b[39m, score: \u001b[39m\u001b[39m{\u001b[39;00mscore\u001b[39m \u001b[39m\u001b[39m/\u001b[39m\u001b[39m \u001b[39mprint_interval\u001b[39m}\u001b[39;00m\u001b[39m, n_buffer: \u001b[39m\u001b[39m{\u001b[39;00m\u001b[39mself\u001b[39m\u001b[39m.\u001b[39mbuffer\u001b[39m.\u001b[39msize()\u001b[39m}\u001b[39;00m\u001b[39m\"\u001b[39m)\n",
      "File \u001b[1;32mc:\\Users\\esder\\Desktop\\github\\rl\\mujoco\\..\\models\\ddpg.py:72\u001b[0m, in \u001b[0;36mDDPG.update\u001b[1;34m(self)\u001b[0m\n\u001b[0;32m     70\u001b[0m \u001b[39mself\u001b[39m\u001b[39m.\u001b[39mcri_opt\u001b[39m.\u001b[39mzero_grad()\n\u001b[0;32m     71\u001b[0m cri_loss\u001b[39m.\u001b[39mbackward()\n\u001b[1;32m---> 72\u001b[0m \u001b[39mself\u001b[39;49m\u001b[39m.\u001b[39;49mcri_opt\u001b[39m.\u001b[39;49mstep()\n\u001b[0;32m     74\u001b[0m act_loss \u001b[39m=\u001b[39m \u001b[39m-\u001b[39m \u001b[39mself\u001b[39m\u001b[39m.\u001b[39mcri([s, \u001b[39mself\u001b[39m\u001b[39m.\u001b[39mact(s)])\u001b[39m.\u001b[39mmean()\n\u001b[0;32m     75\u001b[0m \u001b[39mself\u001b[39m\u001b[39m.\u001b[39mact_opt\u001b[39m.\u001b[39mzero_grad()\n",
      "File \u001b[1;32mc:\\Users\\esder\\AppData\\Local\\Programs\\Python\\Python38\\lib\\site-packages\\torch\\optim\\optimizer.py:280\u001b[0m, in \u001b[0;36mOptimizer.profile_hook_step.<locals>.wrapper\u001b[1;34m(*args, **kwargs)\u001b[0m\n\u001b[0;32m    276\u001b[0m         \u001b[39melse\u001b[39;00m:\n\u001b[0;32m    277\u001b[0m             \u001b[39mraise\u001b[39;00m \u001b[39mRuntimeError\u001b[39;00m(\u001b[39mf\u001b[39m\u001b[39m\"\u001b[39m\u001b[39m{\u001b[39;00mfunc\u001b[39m}\u001b[39;00m\u001b[39m must return None or a tuple of (new_args, new_kwargs),\u001b[39m\u001b[39m\"\u001b[39m\n\u001b[0;32m    278\u001b[0m                                \u001b[39mf\u001b[39m\u001b[39m\"\u001b[39m\u001b[39mbut got \u001b[39m\u001b[39m{\u001b[39;00mresult\u001b[39m}\u001b[39;00m\u001b[39m.\u001b[39m\u001b[39m\"\u001b[39m)\n\u001b[1;32m--> 280\u001b[0m out \u001b[39m=\u001b[39m func(\u001b[39m*\u001b[39;49margs, \u001b[39m*\u001b[39;49m\u001b[39m*\u001b[39;49mkwargs)\n\u001b[0;32m    281\u001b[0m \u001b[39mself\u001b[39m\u001b[39m.\u001b[39m_optimizer_step_code()\n\u001b[0;32m    283\u001b[0m \u001b[39m# call optimizer step post hooks\u001b[39;00m\n",
      "File \u001b[1;32mc:\\Users\\esder\\AppData\\Local\\Programs\\Python\\Python38\\lib\\site-packages\\torch\\optim\\optimizer.py:33\u001b[0m, in \u001b[0;36m_use_grad_for_differentiable.<locals>._use_grad\u001b[1;34m(self, *args, **kwargs)\u001b[0m\n\u001b[0;32m     31\u001b[0m \u001b[39mtry\u001b[39;00m:\n\u001b[0;32m     32\u001b[0m     torch\u001b[39m.\u001b[39mset_grad_enabled(\u001b[39mself\u001b[39m\u001b[39m.\u001b[39mdefaults[\u001b[39m'\u001b[39m\u001b[39mdifferentiable\u001b[39m\u001b[39m'\u001b[39m])\n\u001b[1;32m---> 33\u001b[0m     ret \u001b[39m=\u001b[39m func(\u001b[39mself\u001b[39;49m, \u001b[39m*\u001b[39;49margs, \u001b[39m*\u001b[39;49m\u001b[39m*\u001b[39;49mkwargs)\n\u001b[0;32m     34\u001b[0m \u001b[39mfinally\u001b[39;00m:\n\u001b[0;32m     35\u001b[0m     torch\u001b[39m.\u001b[39mset_grad_enabled(prev_grad)\n",
      "File \u001b[1;32mc:\\Users\\esder\\AppData\\Local\\Programs\\Python\\Python38\\lib\\site-packages\\torch\\optim\\adam.py:141\u001b[0m, in \u001b[0;36mAdam.step\u001b[1;34m(self, closure)\u001b[0m\n\u001b[0;32m    130\u001b[0m     beta1, beta2 \u001b[39m=\u001b[39m group[\u001b[39m'\u001b[39m\u001b[39mbetas\u001b[39m\u001b[39m'\u001b[39m]\n\u001b[0;32m    132\u001b[0m     \u001b[39mself\u001b[39m\u001b[39m.\u001b[39m_init_group(\n\u001b[0;32m    133\u001b[0m         group,\n\u001b[0;32m    134\u001b[0m         params_with_grad,\n\u001b[1;32m   (...)\u001b[0m\n\u001b[0;32m    138\u001b[0m         max_exp_avg_sqs,\n\u001b[0;32m    139\u001b[0m         state_steps)\n\u001b[1;32m--> 141\u001b[0m     adam(\n\u001b[0;32m    142\u001b[0m         params_with_grad,\n\u001b[0;32m    143\u001b[0m         grads,\n\u001b[0;32m    144\u001b[0m         exp_avgs,\n\u001b[0;32m    145\u001b[0m         exp_avg_sqs,\n\u001b[0;32m    146\u001b[0m         max_exp_avg_sqs,\n\u001b[0;32m    147\u001b[0m         state_steps,\n\u001b[0;32m    148\u001b[0m         amsgrad\u001b[39m=\u001b[39;49mgroup[\u001b[39m'\u001b[39;49m\u001b[39mamsgrad\u001b[39;49m\u001b[39m'\u001b[39;49m],\n\u001b[0;32m    149\u001b[0m         beta1\u001b[39m=\u001b[39;49mbeta1,\n\u001b[0;32m    150\u001b[0m         beta2\u001b[39m=\u001b[39;49mbeta2,\n\u001b[0;32m    151\u001b[0m         lr\u001b[39m=\u001b[39;49mgroup[\u001b[39m'\u001b[39;49m\u001b[39mlr\u001b[39;49m\u001b[39m'\u001b[39;49m],\n\u001b[0;32m    152\u001b[0m         weight_decay\u001b[39m=\u001b[39;49mgroup[\u001b[39m'\u001b[39;49m\u001b[39mweight_decay\u001b[39;49m\u001b[39m'\u001b[39;49m],\n\u001b[0;32m    153\u001b[0m         eps\u001b[39m=\u001b[39;49mgroup[\u001b[39m'\u001b[39;49m\u001b[39meps\u001b[39;49m\u001b[39m'\u001b[39;49m],\n\u001b[0;32m    154\u001b[0m         maximize\u001b[39m=\u001b[39;49mgroup[\u001b[39m'\u001b[39;49m\u001b[39mmaximize\u001b[39;49m\u001b[39m'\u001b[39;49m],\n\u001b[0;32m    155\u001b[0m         foreach\u001b[39m=\u001b[39;49mgroup[\u001b[39m'\u001b[39;49m\u001b[39mforeach\u001b[39;49m\u001b[39m'\u001b[39;49m],\n\u001b[0;32m    156\u001b[0m         capturable\u001b[39m=\u001b[39;49mgroup[\u001b[39m'\u001b[39;49m\u001b[39mcapturable\u001b[39;49m\u001b[39m'\u001b[39;49m],\n\u001b[0;32m    157\u001b[0m         differentiable\u001b[39m=\u001b[39;49mgroup[\u001b[39m'\u001b[39;49m\u001b[39mdifferentiable\u001b[39;49m\u001b[39m'\u001b[39;49m],\n\u001b[0;32m    158\u001b[0m         fused\u001b[39m=\u001b[39;49mgroup[\u001b[39m'\u001b[39;49m\u001b[39mfused\u001b[39;49m\u001b[39m'\u001b[39;49m],\n\u001b[0;32m    159\u001b[0m         grad_scale\u001b[39m=\u001b[39;49m\u001b[39mgetattr\u001b[39;49m(\u001b[39mself\u001b[39;49m, \u001b[39m\"\u001b[39;49m\u001b[39mgrad_scale\u001b[39;49m\u001b[39m\"\u001b[39;49m, \u001b[39mNone\u001b[39;49;00m),\n\u001b[0;32m    160\u001b[0m         found_inf\u001b[39m=\u001b[39;49m\u001b[39mgetattr\u001b[39;49m(\u001b[39mself\u001b[39;49m, \u001b[39m\"\u001b[39;49m\u001b[39mfound_inf\u001b[39;49m\u001b[39m\"\u001b[39;49m, \u001b[39mNone\u001b[39;49;00m),\n\u001b[0;32m    161\u001b[0m     )\n\u001b[0;32m    163\u001b[0m \u001b[39mreturn\u001b[39;00m loss\n",
      "File \u001b[1;32mc:\\Users\\esder\\AppData\\Local\\Programs\\Python\\Python38\\lib\\site-packages\\torch\\optim\\adam.py:281\u001b[0m, in \u001b[0;36madam\u001b[1;34m(params, grads, exp_avgs, exp_avg_sqs, max_exp_avg_sqs, state_steps, foreach, capturable, differentiable, fused, grad_scale, found_inf, amsgrad, beta1, beta2, lr, weight_decay, eps, maximize)\u001b[0m\n\u001b[0;32m    278\u001b[0m \u001b[39melse\u001b[39;00m:\n\u001b[0;32m    279\u001b[0m     func \u001b[39m=\u001b[39m _single_tensor_adam\n\u001b[1;32m--> 281\u001b[0m func(params,\n\u001b[0;32m    282\u001b[0m      grads,\n\u001b[0;32m    283\u001b[0m      exp_avgs,\n\u001b[0;32m    284\u001b[0m      exp_avg_sqs,\n\u001b[0;32m    285\u001b[0m      max_exp_avg_sqs,\n\u001b[0;32m    286\u001b[0m      state_steps,\n\u001b[0;32m    287\u001b[0m      amsgrad\u001b[39m=\u001b[39;49mamsgrad,\n\u001b[0;32m    288\u001b[0m      beta1\u001b[39m=\u001b[39;49mbeta1,\n\u001b[0;32m    289\u001b[0m      beta2\u001b[39m=\u001b[39;49mbeta2,\n\u001b[0;32m    290\u001b[0m      lr\u001b[39m=\u001b[39;49mlr,\n\u001b[0;32m    291\u001b[0m      weight_decay\u001b[39m=\u001b[39;49mweight_decay,\n\u001b[0;32m    292\u001b[0m      eps\u001b[39m=\u001b[39;49meps,\n\u001b[0;32m    293\u001b[0m      maximize\u001b[39m=\u001b[39;49mmaximize,\n\u001b[0;32m    294\u001b[0m      capturable\u001b[39m=\u001b[39;49mcapturable,\n\u001b[0;32m    295\u001b[0m      differentiable\u001b[39m=\u001b[39;49mdifferentiable,\n\u001b[0;32m    296\u001b[0m      grad_scale\u001b[39m=\u001b[39;49mgrad_scale,\n\u001b[0;32m    297\u001b[0m      found_inf\u001b[39m=\u001b[39;49mfound_inf)\n",
      "File \u001b[1;32mc:\\Users\\esder\\AppData\\Local\\Programs\\Python\\Python38\\lib\\site-packages\\torch\\optim\\adam.py:393\u001b[0m, in \u001b[0;36m_single_tensor_adam\u001b[1;34m(params, grads, exp_avgs, exp_avg_sqs, max_exp_avg_sqs, state_steps, grad_scale, found_inf, amsgrad, beta1, beta2, lr, weight_decay, eps, maximize, capturable, differentiable)\u001b[0m\n\u001b[0;32m    390\u001b[0m \u001b[39melse\u001b[39;00m:\n\u001b[0;32m    391\u001b[0m     denom \u001b[39m=\u001b[39m (exp_avg_sq\u001b[39m.\u001b[39msqrt() \u001b[39m/\u001b[39m bias_correction2_sqrt)\u001b[39m.\u001b[39madd_(eps)\n\u001b[1;32m--> 393\u001b[0m param\u001b[39m.\u001b[39;49maddcdiv_(exp_avg, denom, value\u001b[39m=\u001b[39;49m\u001b[39m-\u001b[39;49mstep_size)\n",
      "\u001b[1;31mKeyboardInterrupt\u001b[0m: "
     ]
    }
   ],
   "source": [
    "ddpg.train(n_epis, n_epochs, n_rollout)"
   ]
  },
  {
   "cell_type": "code",
   "execution_count": 30,
   "id": "fe37e705",
   "metadata": {},
   "outputs": [],
   "source": [
    "env.close()"
   ]
  },
  {
   "cell_type": "code",
   "execution_count": null,
   "id": "3f7864f3",
   "metadata": {},
   "outputs": [],
   "source": []
  }
 ],
 "metadata": {
  "kernelspec": {
   "display_name": "Python 3 (ipykernel)",
   "language": "python",
   "name": "python3"
  },
  "language_info": {
   "codemirror_mode": {
    "name": "ipython",
    "version": 3
   },
   "file_extension": ".py",
   "mimetype": "text/x-python",
   "name": "python",
   "nbconvert_exporter": "python",
   "pygments_lexer": "ipython3",
   "version": "3.8.10"
  }
 },
 "nbformat": 4,
 "nbformat_minor": 5
}
