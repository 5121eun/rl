{
 "cells": [
  {
   "cell_type": "code",
   "execution_count": 1,
   "id": "1543702f",
   "metadata": {},
   "outputs": [],
   "source": [
    "import sys\n",
    "sys.path.append('..')\n",
    "import gym\n",
    "\n",
    "import torch\n",
    "import torch.nn as nn\n",
    "\n",
    "\n",
    "from models.td3 import TD3"
   ]
  },
  {
   "cell_type": "code",
   "execution_count": 2,
   "id": "305b60db",
   "metadata": {},
   "outputs": [],
   "source": [
    "class Actor(nn.Module):\n",
    "    def __init__(self, nstates: int, nactions: int):\n",
    "        super(Actor, self).__init__()\n",
    "                \n",
    "        self.fc1 = nn.Linear(nstates, 400)\n",
    "        self.fc2 = nn.Linear(400, 300)\n",
    "        self.fc3 = nn.Linear(300, nactions)\n",
    "        \n",
    "        self.relu1 = nn.ReLU()\n",
    "        self.relu2 = nn.ReLU()\n",
    "    \n",
    "    def forward(self, x):\n",
    "        x = self.relu1(self.fc1(x))\n",
    "        x = self.relu2(self.fc2(x))\n",
    "        x = torch.tanh(self.fc3(x))\n",
    "        \n",
    "        return x"
   ]
  },
  {
   "cell_type": "code",
   "execution_count": 3,
   "id": "532af675",
   "metadata": {},
   "outputs": [],
   "source": [
    "class Critic(nn.Module): #다름\n",
    "    def __init__(self, nstates: int, nactions: int):\n",
    "        super(Critic, self).__init__()\n",
    "                \n",
    "        self.fc1 = nn.Linear(nstates + nactions, 400)\n",
    "        self.fc2 = nn.Linear(400, 300)\n",
    "        self.fc3 = nn.Linear(300, 1)\n",
    "        \n",
    "        self.relu1 = nn.ReLU()\n",
    "        self.relu2 = nn.ReLU()\n",
    "                \n",
    "    def forward(self, xs):\n",
    "        x, a = xs\n",
    "        \n",
    "        x = self.relu1(self.fc1(torch.cat([x, a], 1)))\n",
    "        x = self.relu2(self.fc2(x))\n",
    "        x = self.fc3(x)\n",
    "        \n",
    "        return x"
   ]
  },
  {
   "cell_type": "code",
   "execution_count": 4,
   "id": "a5b76cc1",
   "metadata": {},
   "outputs": [],
   "source": [
    "lr = 1e-3\n",
    "tau = 5e-3\n",
    "eps = 0\n",
    "gamma = 0.99\n",
    "\n",
    "n_sts = 17\n",
    "n_acts = 6\n",
    "\n",
    "n_epis = 500\n",
    "n_epoch = 200\n",
    "n_rollout = 10"
   ]
  },
  {
   "cell_type": "code",
   "execution_count": 14,
   "id": "6fe27fa3",
   "metadata": {},
   "outputs": [],
   "source": [
    "act = Actor(n_sts, n_acts)\n",
    "act_opt = torch.optim.Adam(act.parameters(), lr=lr)\n",
    "\n",
    "cri1 = Critic(n_sts, n_acts)\n",
    "cri_opt1 = torch.optim.Adam(cri1.parameters(), lr=lr)\n",
    "\n",
    "cri2 = Critic(n_sts, n_acts)\n",
    "cri_opt2 = torch.optim.Adam(cri2.parameters(), lr=lr)"
   ]
  },
  {
   "cell_type": "code",
   "execution_count": 15,
   "id": "9b09e9cd",
   "metadata": {},
   "outputs": [],
   "source": [
    "env = gym.make('HalfCheetah-v4', render_mode='human')"
   ]
  },
  {
   "cell_type": "code",
   "execution_count": 16,
   "id": "6fd98ac6",
   "metadata": {},
   "outputs": [],
   "source": [
    "model = TD3(env, n_acts, act, act_opt, cri1, cri_opt1, cri2, cri_opt2, eps=eps, tau=tau, act_noise=0.2, act_range = (-1, 1))"
   ]
  },
  {
   "cell_type": "code",
   "execution_count": 17,
   "id": "f2567459",
   "metadata": {},
   "outputs": [
    {
     "name": "stdout",
     "output_type": "stream",
     "text": [
      "epoch: 20, score: -5.007670364814524, n_buffer: 210\n",
      "epoch: 40, score: -5.586418766775719, n_buffer: 410\n",
      "epoch: 60, score: -6.479032688716799, n_buffer: 610\n",
      "epoch: 80, score: -8.36169644366104, n_buffer: 810\n",
      "epoch: 100, score: -8.566147826504466, n_buffer: 1010\n",
      "epoch: 120, score: -5.156440819363919, n_buffer: 1210\n",
      "epoch: 140, score: -5.588380862987522, n_buffer: 1410\n",
      "epoch: 160, score: -5.605906633150953, n_buffer: 1610\n",
      "epoch: 180, score: -4.814340416737348, n_buffer: 1810\n",
      "epoch: 20, score: -5.492232146112409, n_buffer: 2210\n",
      "epoch: 40, score: -4.348670673446226, n_buffer: 2410\n",
      "epoch: 60, score: -5.25145024012582, n_buffer: 2610\n",
      "epoch: 80, score: -3.9310038482584218, n_buffer: 2810\n",
      "epoch: 100, score: -2.569588238258038, n_buffer: 3010\n",
      "epoch: 120, score: -2.8658359769682944, n_buffer: 3210\n",
      "epoch: 140, score: -0.9765327310988974, n_buffer: 3410\n",
      "epoch: 160, score: 0.622546488031255, n_buffer: 3610\n",
      "epoch: 180, score: -0.2597742257128395, n_buffer: 3810\n",
      "epoch: 20, score: -0.44514476282325344, n_buffer: 4210\n",
      "epoch: 40, score: -1.153231237354563, n_buffer: 4410\n",
      "epoch: 60, score: -0.7715114053245137, n_buffer: 4610\n",
      "epoch: 80, score: -1.4113564633527773, n_buffer: 4810\n",
      "epoch: 100, score: -0.30787070630638447, n_buffer: 5010\n",
      "epoch: 120, score: -1.3602337876985056, n_buffer: 5210\n",
      "epoch: 140, score: -0.04745009400357766, n_buffer: 5410\n",
      "epoch: 160, score: 0.13407491844495184, n_buffer: 5610\n",
      "epoch: 180, score: -0.5185990219598184, n_buffer: 5810\n",
      "epoch: 20, score: -0.6746868146148577, n_buffer: 6210\n",
      "epoch: 40, score: -1.0424673340344737, n_buffer: 6410\n",
      "epoch: 60, score: 0.8748705907717943, n_buffer: 6610\n",
      "epoch: 80, score: 1.211142228520826, n_buffer: 6810\n",
      "epoch: 100, score: -0.7685838419044665, n_buffer: 7010\n",
      "epoch: 120, score: 3.205651087545737, n_buffer: 7210\n",
      "epoch: 140, score: 4.452731502387051, n_buffer: 7410\n",
      "epoch: 160, score: 6.52752721888636, n_buffer: 7610\n",
      "epoch: 180, score: 1.978997758804772, n_buffer: 7810\n",
      "epoch: 20, score: 6.446562669153538, n_buffer: 8210\n",
      "epoch: 40, score: 7.8486541650966215, n_buffer: 8410\n",
      "epoch: 60, score: 7.956825058963784, n_buffer: 8610\n",
      "epoch: 80, score: -3.209831780389306, n_buffer: 8810\n",
      "epoch: 100, score: 0.4136805926788386, n_buffer: 9010\n",
      "epoch: 120, score: -1.4256592040624163, n_buffer: 9210\n",
      "epoch: 140, score: -2.140230618369123, n_buffer: 9410\n",
      "epoch: 160, score: -0.9729926310621227, n_buffer: 9610\n",
      "epoch: 180, score: 7.337679645298708, n_buffer: 9810\n",
      "epoch: 20, score: 7.422626931356601, n_buffer: 9999\n",
      "epoch: 40, score: 8.407543048130055, n_buffer: 9999\n"
     ]
    },
    {
     "ename": "KeyboardInterrupt",
     "evalue": "",
     "output_type": "error",
     "traceback": [
      "\u001b[1;31m---------------------------------------------------------------------------\u001b[0m",
      "\u001b[1;31mKeyboardInterrupt\u001b[0m                         Traceback (most recent call last)",
      "Cell \u001b[1;32mIn[17], line 1\u001b[0m\n\u001b[1;32m----> 1\u001b[0m model\u001b[39m.\u001b[39;49mtrain(n_epis, n_epoch, n_rollout)\n",
      "File \u001b[1;32mc:\\Users\\esder\\Desktop\\github\\rl\\mujoco\\..\\models\\td3.py:58\u001b[0m, in \u001b[0;36mTD3.train\u001b[1;34m(self, n_epis, n_epochs, n_rollout, n_update, print_interval)\u001b[0m\n\u001b[0;32m     56\u001b[0m d_mask \u001b[39m=\u001b[39m \u001b[39m0.0\u001b[39m \u001b[39mif\u001b[39;00m done \u001b[39melse\u001b[39;00m \u001b[39m1.0\u001b[39m\n\u001b[0;32m     57\u001b[0m \u001b[39mself\u001b[39m\u001b[39m.\u001b[39mbuffer\u001b[39m.\u001b[39mput((s, a, r\u001b[39m/\u001b[39m\u001b[39m100\u001b[39m, d_mask, s_p))\n\u001b[1;32m---> 58\u001b[0m env\u001b[39m.\u001b[39;49mrender()\n\u001b[0;32m     60\u001b[0m s \u001b[39m=\u001b[39m s_p\n\u001b[0;32m     61\u001b[0m score \u001b[39m+\u001b[39m\u001b[39m=\u001b[39m r\n",
      "File \u001b[1;32mc:\\Users\\esder\\AppData\\Local\\Programs\\Python\\Python38\\lib\\site-packages\\gym\\core.py:329\u001b[0m, in \u001b[0;36mWrapper.render\u001b[1;34m(self, *args, **kwargs)\u001b[0m\n\u001b[0;32m    325\u001b[0m \u001b[39mdef\u001b[39;00m \u001b[39mrender\u001b[39m(\n\u001b[0;32m    326\u001b[0m     \u001b[39mself\u001b[39m, \u001b[39m*\u001b[39margs, \u001b[39m*\u001b[39m\u001b[39m*\u001b[39mkwargs\n\u001b[0;32m    327\u001b[0m ) \u001b[39m-\u001b[39m\u001b[39m>\u001b[39m Optional[Union[RenderFrame, List[RenderFrame]]]:\n\u001b[0;32m    328\u001b[0m \u001b[39m    \u001b[39m\u001b[39m\"\"\"Renders the environment.\"\"\"\u001b[39;00m\n\u001b[1;32m--> 329\u001b[0m     \u001b[39mreturn\u001b[39;00m \u001b[39mself\u001b[39;49m\u001b[39m.\u001b[39;49menv\u001b[39m.\u001b[39;49mrender(\u001b[39m*\u001b[39;49margs, \u001b[39m*\u001b[39;49m\u001b[39m*\u001b[39;49mkwargs)\n",
      "File \u001b[1;32mc:\\Users\\esder\\AppData\\Local\\Programs\\Python\\Python38\\lib\\site-packages\\gym\\wrappers\\order_enforcing.py:51\u001b[0m, in \u001b[0;36mOrderEnforcing.render\u001b[1;34m(self, *args, **kwargs)\u001b[0m\n\u001b[0;32m     46\u001b[0m \u001b[39mif\u001b[39;00m \u001b[39mnot\u001b[39;00m \u001b[39mself\u001b[39m\u001b[39m.\u001b[39m_disable_render_order_enforcing \u001b[39mand\u001b[39;00m \u001b[39mnot\u001b[39;00m \u001b[39mself\u001b[39m\u001b[39m.\u001b[39m_has_reset:\n\u001b[0;32m     47\u001b[0m     \u001b[39mraise\u001b[39;00m ResetNeeded(\n\u001b[0;32m     48\u001b[0m         \u001b[39m\"\u001b[39m\u001b[39mCannot call `env.render()` before calling `env.reset()`, if this is a intended action, \u001b[39m\u001b[39m\"\u001b[39m\n\u001b[0;32m     49\u001b[0m         \u001b[39m\"\u001b[39m\u001b[39mset `disable_render_order_enforcing=True` on the OrderEnforcer wrapper.\u001b[39m\u001b[39m\"\u001b[39m\n\u001b[0;32m     50\u001b[0m     )\n\u001b[1;32m---> 51\u001b[0m \u001b[39mreturn\u001b[39;00m \u001b[39mself\u001b[39;49m\u001b[39m.\u001b[39;49menv\u001b[39m.\u001b[39;49mrender(\u001b[39m*\u001b[39;49margs, \u001b[39m*\u001b[39;49m\u001b[39m*\u001b[39;49mkwargs)\n",
      "File \u001b[1;32mc:\\Users\\esder\\AppData\\Local\\Programs\\Python\\Python38\\lib\\site-packages\\gym\\wrappers\\env_checker.py:55\u001b[0m, in \u001b[0;36mPassiveEnvChecker.render\u001b[1;34m(self, *args, **kwargs)\u001b[0m\n\u001b[0;32m     53\u001b[0m     \u001b[39mreturn\u001b[39;00m env_render_passive_checker(\u001b[39mself\u001b[39m\u001b[39m.\u001b[39menv, \u001b[39m*\u001b[39margs, \u001b[39m*\u001b[39m\u001b[39m*\u001b[39mkwargs)\n\u001b[0;32m     54\u001b[0m \u001b[39melse\u001b[39;00m:\n\u001b[1;32m---> 55\u001b[0m     \u001b[39mreturn\u001b[39;00m \u001b[39mself\u001b[39;49m\u001b[39m.\u001b[39;49menv\u001b[39m.\u001b[39;49mrender(\u001b[39m*\u001b[39;49margs, \u001b[39m*\u001b[39;49m\u001b[39m*\u001b[39;49mkwargs)\n",
      "File \u001b[1;32mc:\\Users\\esder\\AppData\\Local\\Programs\\Python\\Python38\\lib\\site-packages\\gym\\envs\\mujoco\\mujoco_env.py:404\u001b[0m, in \u001b[0;36mMujocoEnv.render\u001b[1;34m(self)\u001b[0m\n\u001b[0;32m    402\u001b[0m     \u001b[39mreturn\u001b[39;00m data[::\u001b[39m-\u001b[39m\u001b[39m1\u001b[39m, :]\n\u001b[0;32m    403\u001b[0m \u001b[39melif\u001b[39;00m \u001b[39mself\u001b[39m\u001b[39m.\u001b[39mrender_mode \u001b[39m==\u001b[39m \u001b[39m\"\u001b[39m\u001b[39mhuman\u001b[39m\u001b[39m\"\u001b[39m:\n\u001b[1;32m--> 404\u001b[0m     \u001b[39mself\u001b[39;49m\u001b[39m.\u001b[39;49m_get_viewer(\u001b[39mself\u001b[39;49m\u001b[39m.\u001b[39;49mrender_mode)\u001b[39m.\u001b[39;49mrender()\n",
      "File \u001b[1;32mc:\\Users\\esder\\AppData\\Local\\Programs\\Python\\Python38\\lib\\site-packages\\gym\\envs\\mujoco\\mujoco_rendering.py:544\u001b[0m, in \u001b[0;36mViewer.render\u001b[1;34m(self)\u001b[0m\n\u001b[0;32m    542\u001b[0m         \u001b[39mself\u001b[39m\u001b[39m.\u001b[39m_loop_count \u001b[39m=\u001b[39m \u001b[39m1\u001b[39m\n\u001b[0;32m    543\u001b[0m     \u001b[39mwhile\u001b[39;00m \u001b[39mself\u001b[39m\u001b[39m.\u001b[39m_loop_count \u001b[39m>\u001b[39m \u001b[39m0\u001b[39m:\n\u001b[1;32m--> 544\u001b[0m         update()\n\u001b[0;32m    545\u001b[0m         \u001b[39mself\u001b[39m\u001b[39m.\u001b[39m_loop_count \u001b[39m-\u001b[39m\u001b[39m=\u001b[39m \u001b[39m1\u001b[39m\n\u001b[0;32m    547\u001b[0m \u001b[39m# clear markers\u001b[39;00m\n",
      "File \u001b[1;32mc:\\Users\\esder\\AppData\\Local\\Programs\\Python\\Python38\\lib\\site-packages\\gym\\envs\\mujoco\\mujoco_rendering.py:522\u001b[0m, in \u001b[0;36mViewer.render.<locals>.update\u001b[1;34m()\u001b[0m\n\u001b[0;32m    513\u001b[0m         \u001b[39mfor\u001b[39;00m gridpos, [t1, t2] \u001b[39min\u001b[39;00m \u001b[39mself\u001b[39m\u001b[39m.\u001b[39m_overlays\u001b[39m.\u001b[39mitems():\n\u001b[0;32m    514\u001b[0m             mujoco\u001b[39m.\u001b[39mmjr_overlay(\n\u001b[0;32m    515\u001b[0m                 mujoco\u001b[39m.\u001b[39mmjtFontScale\u001b[39m.\u001b[39mmjFONTSCALE_150,\n\u001b[0;32m    516\u001b[0m                 gridpos,\n\u001b[1;32m   (...)\u001b[0m\n\u001b[0;32m    520\u001b[0m                 \u001b[39mself\u001b[39m\u001b[39m.\u001b[39mcon,\n\u001b[0;32m    521\u001b[0m             )\n\u001b[1;32m--> 522\u001b[0m     glfw\u001b[39m.\u001b[39;49mswap_buffers(\u001b[39mself\u001b[39;49m\u001b[39m.\u001b[39;49mwindow)\n\u001b[0;32m    523\u001b[0m glfw\u001b[39m.\u001b[39mpoll_events()\n\u001b[0;32m    524\u001b[0m \u001b[39mself\u001b[39m\u001b[39m.\u001b[39m_time_per_render \u001b[39m=\u001b[39m \u001b[39m0.9\u001b[39m \u001b[39m*\u001b[39m \u001b[39mself\u001b[39m\u001b[39m.\u001b[39m_time_per_render \u001b[39m+\u001b[39m \u001b[39m0.1\u001b[39m \u001b[39m*\u001b[39m (\n\u001b[0;32m    525\u001b[0m     time\u001b[39m.\u001b[39mtime() \u001b[39m-\u001b[39m render_start\n\u001b[0;32m    526\u001b[0m )\n",
      "File \u001b[1;32mc:\\Users\\esder\\AppData\\Local\\Programs\\Python\\Python38\\lib\\site-packages\\glfw\\__init__.py:2373\u001b[0m, in \u001b[0;36mswap_buffers\u001b[1;34m(window)\u001b[0m\n\u001b[0;32m   2366\u001b[0m \u001b[39mdef\u001b[39;00m \u001b[39mswap_buffers\u001b[39m(window):\n\u001b[0;32m   2367\u001b[0m \u001b[39m    \u001b[39m\u001b[39m\"\"\"\u001b[39;00m\n\u001b[0;32m   2368\u001b[0m \u001b[39m    Swaps the front and back buffers of the specified window.\u001b[39;00m\n\u001b[0;32m   2369\u001b[0m \n\u001b[0;32m   2370\u001b[0m \u001b[39m    Wrapper for:\u001b[39;00m\n\u001b[0;32m   2371\u001b[0m \u001b[39m        void glfwSwapBuffers(GLFWwindow* window);\u001b[39;00m\n\u001b[0;32m   2372\u001b[0m \u001b[39m    \"\"\"\u001b[39;00m\n\u001b[1;32m-> 2373\u001b[0m     _glfw\u001b[39m.\u001b[39;49mglfwSwapBuffers(window)\n",
      "File \u001b[1;32mc:\\Users\\esder\\AppData\\Local\\Programs\\Python\\Python38\\lib\\site-packages\\glfw\\__init__.py:682\u001b[0m, in \u001b[0;36m_prepare_errcheck.<locals>.errcheck\u001b[1;34m(result, *args)\u001b[0m\n\u001b[0;32m    674\u001b[0m \u001b[39mdef\u001b[39;00m \u001b[39m_prepare_errcheck\u001b[39m():\n\u001b[0;32m    675\u001b[0m \u001b[39m    \u001b[39m\u001b[39m\"\"\"\u001b[39;00m\n\u001b[0;32m    676\u001b[0m \u001b[39m    This function sets the errcheck attribute of all ctypes wrapped functions\u001b[39;00m\n\u001b[0;32m    677\u001b[0m \u001b[39m    to evaluate the _exc_info_from_callback global variable and re-raise any\u001b[39;00m\n\u001b[1;32m   (...)\u001b[0m\n\u001b[0;32m    680\u001b[0m \u001b[39m    using the _callback_exception_decorator.\u001b[39;00m\n\u001b[0;32m    681\u001b[0m \u001b[39m    \"\"\"\u001b[39;00m\n\u001b[1;32m--> 682\u001b[0m     \u001b[39mdef\u001b[39;00m \u001b[39merrcheck\u001b[39m(result, \u001b[39m*\u001b[39margs):\n\u001b[0;32m    683\u001b[0m         \u001b[39mglobal\u001b[39;00m _exc_info_from_callback\n\u001b[0;32m    684\u001b[0m         \u001b[39mif\u001b[39;00m _exc_info_from_callback \u001b[39mis\u001b[39;00m \u001b[39mnot\u001b[39;00m \u001b[39mNone\u001b[39;00m:\n",
      "\u001b[1;31mKeyboardInterrupt\u001b[0m: "
     ]
    }
   ],
   "source": [
    "model.train(n_epis, n_epoch, n_rollout)"
   ]
  },
  {
   "cell_type": "code",
   "execution_count": 13,
   "id": "6724c2f6",
   "metadata": {},
   "outputs": [],
   "source": [
    "env.close()"
   ]
  },
  {
   "cell_type": "code",
   "execution_count": null,
   "id": "3683bd0a",
   "metadata": {},
   "outputs": [],
   "source": []
  }
 ],
 "metadata": {
  "kernelspec": {
   "display_name": "Python 3 (ipykernel)",
   "language": "python",
   "name": "python3"
  },
  "language_info": {
   "codemirror_mode": {
    "name": "ipython",
    "version": 3
   },
   "file_extension": ".py",
   "mimetype": "text/x-python",
   "name": "python",
   "nbconvert_exporter": "python",
   "pygments_lexer": "ipython3",
   "version": "3.8.10"
  }
 },
 "nbformat": 4,
 "nbformat_minor": 5
}
