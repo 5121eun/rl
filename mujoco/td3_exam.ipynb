{
 "cells": [
  {
   "cell_type": "code",
   "execution_count": 1,
   "id": "1543702f",
   "metadata": {},
   "outputs": [],
   "source": [
    "import sys\n",
    "sys.path.append('..')\n",
    "import gym\n",
    "\n",
    "import torch\n",
    "import torch.nn as nn\n",
    "\n",
    "\n",
    "from models.td3 import TD3"
   ]
  },
  {
   "cell_type": "code",
   "execution_count": 2,
   "id": "305b60db",
   "metadata": {},
   "outputs": [],
   "source": [
    "class Actor(nn.Module):\n",
    "    def __init__(self, nstates: int, nactions: int):\n",
    "        super(Actor, self).__init__()\n",
    "                \n",
    "        self.fc1 = nn.Linear(nstates, 400)\n",
    "        self.fc2 = nn.Linear(400, 300)\n",
    "        self.fc3 = nn.Linear(300, nactions)\n",
    "        \n",
    "        self.relu1 = nn.ReLU()\n",
    "        self.relu2 = nn.ReLU()\n",
    "    \n",
    "    def forward(self, x):\n",
    "        x = self.relu1(self.fc1(x))\n",
    "        x = self.relu2(self.fc2(x))\n",
    "        x = torch.tanh(self.fc3(x))\n",
    "        \n",
    "        return x"
   ]
  },
  {
   "cell_type": "code",
   "execution_count": 3,
   "id": "532af675",
   "metadata": {},
   "outputs": [],
   "source": [
    "class Critic(nn.Module):\n",
    "    def __init__(self, nstates: int, nactions: int):\n",
    "        super(Critic, self).__init__()\n",
    "                \n",
    "        self.fc1 = nn.Linear(nstates + nactions, 400)\n",
    "        self.fc2 = nn.Linear(400, 300)\n",
    "        self.fc3 = nn.Linear(300, 1)\n",
    "        \n",
    "        self.relu1 = nn.ReLU()\n",
    "        self.relu2 = nn.ReLU()\n",
    "                \n",
    "    def forward(self, xs):\n",
    "        x, a = xs\n",
    "        \n",
    "        x = self.relu1(self.fc1(torch.cat([x, a], 1)))\n",
    "        x = self.relu2(self.fc2(x))\n",
    "        x = self.fc3(x)\n",
    "        \n",
    "        return x"
   ]
  },
  {
   "cell_type": "code",
   "execution_count": 4,
   "id": "a5b76cc1",
   "metadata": {},
   "outputs": [],
   "source": [
    "lr = 1e-3\n",
    "tau = 5e-3\n",
    "eps = 0\n",
    "gamma = 0.99\n",
    "\n",
    "n_sts = 17\n",
    "n_acts = 6\n",
    "\n",
    "n_epis = 500\n",
    "n_epoch = 200\n",
    "n_rollout = 10"
   ]
  },
  {
   "cell_type": "code",
   "execution_count": 5,
   "id": "6fe27fa3",
   "metadata": {},
   "outputs": [],
   "source": [
    "act = Actor(n_sts, n_acts)\n",
    "act_opt = torch.optim.Adam(act.parameters(), lr=lr)\n",
    "\n",
    "cri1 = Critic(n_sts, n_acts)\n",
    "cri_opt1 = torch.optim.Adam(cri1.parameters(), lr=lr)\n",
    "\n",
    "cri2 = Critic(n_sts, n_acts)\n",
    "cri_opt2 = torch.optim.Adam(cri2.parameters(), lr=lr)"
   ]
  },
  {
   "cell_type": "code",
   "execution_count": 6,
   "id": "9b09e9cd",
   "metadata": {},
   "outputs": [],
   "source": [
    "env = gym.make('HalfCheetah-v4', render_mode='human')"
   ]
  },
  {
   "cell_type": "code",
   "execution_count": 7,
   "id": "6fd98ac6",
   "metadata": {},
   "outputs": [],
   "source": [
    "model = TD3(env, n_acts, act, act_opt, cri1, cri_opt1, cri2, cri_opt2, eps=eps, tau=tau, act_noise=0.2, act_range = (-1, 1))"
   ]
  },
  {
   "cell_type": "code",
   "execution_count": 8,
   "id": "f2567459",
   "metadata": {},
   "outputs": [
    {
     "name": "stderr",
     "output_type": "stream",
     "text": [
      "c:\\Users\\esder\\AppData\\Local\\Programs\\Python\\Python38\\lib\\site-packages\\gym\\utils\\passive_env_checker.py:233: DeprecationWarning: `np.bool8` is a deprecated alias for `np.bool_`.  (Deprecated NumPy 1.24)\n",
      "  if not isinstance(terminated, (bool, np.bool8)):\n"
     ]
    },
    {
     "name": "stdout",
     "output_type": "stream",
     "text": [
      "step: 210, score: -4.944132703620477, n_buffer: 210\n",
      "step: 410, score: -6.318639933376945, n_buffer: 410\n",
      "step: 610, score: -4.713585622154173, n_buffer: 610\n",
      "step: 810, score: -4.853018845298598, n_buffer: 810\n",
      "step: 1010, score: -4.995964120696923, n_buffer: 1010\n",
      "step: 1210, score: -5.119522098733032, n_buffer: 1210\n",
      "step: 1410, score: -3.389104401439616, n_buffer: 1410\n",
      "step: 1610, score: -5.5679569416562105, n_buffer: 1610\n",
      "step: 1810, score: -6.880888594630894, n_buffer: 1810\n",
      "step: 2210, score: -0.946696132012222, n_buffer: 2210\n",
      "step: 2410, score: -4.6332134517927495, n_buffer: 2410\n",
      "step: 2610, score: -5.055369580994115, n_buffer: 2610\n",
      "step: 2810, score: -5.120038370322496, n_buffer: 2810\n",
      "step: 3010, score: -4.762137480969136, n_buffer: 3010\n",
      "step: 3210, score: -3.798755828498251, n_buffer: 3210\n",
      "step: 3410, score: -4.386222628675155, n_buffer: 3410\n",
      "step: 3610, score: -3.4389229716813694, n_buffer: 3610\n",
      "step: 3810, score: -1.6519790350983918, n_buffer: 3810\n",
      "step: 4210, score: -2.234209255541189, n_buffer: 4210\n",
      "step: 4410, score: -2.648154469583929, n_buffer: 4410\n",
      "step: 4610, score: -3.4439742828005016, n_buffer: 4610\n",
      "step: 4810, score: -1.5970484935252398, n_buffer: 4810\n",
      "step: 5010, score: -2.1710432515164264, n_buffer: 5010\n",
      "step: 5210, score: -4.96951357379145, n_buffer: 5210\n",
      "step: 5410, score: -5.828352836748893, n_buffer: 5410\n",
      "step: 5610, score: -6.71233166907559, n_buffer: 5610\n",
      "step: 5810, score: -4.4993997756869515, n_buffer: 5810\n",
      "step: 6210, score: -4.699497107744377, n_buffer: 6210\n",
      "step: 6410, score: -4.816211232931651, n_buffer: 6410\n",
      "step: 6610, score: -3.377964648520762, n_buffer: 6610\n",
      "step: 6810, score: -5.381980919324912, n_buffer: 6810\n",
      "step: 7010, score: -5.690602721615884, n_buffer: 7010\n",
      "step: 7210, score: -5.398744013402494, n_buffer: 7210\n",
      "step: 7410, score: -5.51924223965875, n_buffer: 7410\n",
      "step: 7610, score: -4.831834386418783, n_buffer: 7610\n",
      "step: 7810, score: -4.14259533831749, n_buffer: 7810\n",
      "step: 8210, score: -2.598235452820822, n_buffer: 8210\n",
      "step: 8410, score: -3.576403068749376, n_buffer: 8410\n",
      "step: 8610, score: -3.7540994532455216, n_buffer: 8610\n",
      "step: 8810, score: -4.665691423380268, n_buffer: 8810\n",
      "step: 9010, score: -4.838843511198359, n_buffer: 9010\n",
      "step: 9210, score: -3.369296222027528, n_buffer: 9210\n",
      "step: 9410, score: -3.075649127913768, n_buffer: 9410\n",
      "step: 9610, score: -3.6624434528036405, n_buffer: 9610\n",
      "step: 9810, score: -3.150124646501005, n_buffer: 9810\n",
      "step: 10210, score: -4.9275164938953875, n_buffer: 9999\n",
      "step: 10410, score: -2.6473592765491527, n_buffer: 9999\n",
      "step: 10610, score: -2.119676015286728, n_buffer: 9999\n",
      "step: 10810, score: -2.047698539597901, n_buffer: 9999\n",
      "step: 11010, score: -2.093934399003531, n_buffer: 9999\n",
      "step: 11210, score: -1.4441492187354523, n_buffer: 9999\n",
      "step: 11410, score: -1.3921158223480834, n_buffer: 9999\n",
      "step: 11610, score: -1.3653183792395036, n_buffer: 9999\n",
      "step: 11810, score: -0.4383324495304377, n_buffer: 9999\n",
      "step: 12210, score: -1.1040856067901759, n_buffer: 9999\n",
      "step: 12410, score: 2.3348610269210273, n_buffer: 9999\n",
      "step: 12610, score: -1.420279779350389, n_buffer: 9999\n",
      "step: 12810, score: 4.089485401032439, n_buffer: 9999\n",
      "step: 13010, score: 3.199528791487019, n_buffer: 9999\n",
      "step: 13210, score: -0.2578695593039118, n_buffer: 9999\n",
      "step: 13410, score: 0.34056715093541895, n_buffer: 9999\n",
      "step: 13610, score: 0.10030972597950276, n_buffer: 9999\n",
      "step: 13810, score: 0.7395866066524983, n_buffer: 9999\n",
      "step: 14210, score: 4.99574544599408, n_buffer: 9999\n",
      "step: 14410, score: 7.422358251147624, n_buffer: 9999\n",
      "step: 14610, score: 1.2311990579860734, n_buffer: 9999\n",
      "step: 14810, score: 4.537314245749059, n_buffer: 9999\n",
      "step: 15010, score: 3.6638052017702902, n_buffer: 9999\n",
      "step: 15210, score: 2.960152201627765, n_buffer: 9999\n",
      "step: 15410, score: 7.804256053424763, n_buffer: 9999\n",
      "step: 15610, score: 6.591033341712913, n_buffer: 9999\n",
      "step: 15810, score: 5.793221534874056, n_buffer: 9999\n",
      "step: 16210, score: 5.664447538701149, n_buffer: 9999\n",
      "step: 16410, score: 6.963874848063052, n_buffer: 9999\n",
      "step: 16610, score: 3.1363050510077577, n_buffer: 9999\n",
      "step: 16810, score: 2.9691327271493195, n_buffer: 9999\n",
      "step: 17010, score: 11.631995040571395, n_buffer: 9999\n",
      "step: 17210, score: 11.323461712031293, n_buffer: 9999\n",
      "step: 17410, score: 7.000887299870156, n_buffer: 9999\n",
      "step: 17610, score: 12.925437483958266, n_buffer: 9999\n",
      "step: 17810, score: 10.435999868620431, n_buffer: 9999\n",
      "step: 18210, score: 11.761533555485565, n_buffer: 9999\n",
      "step: 18410, score: 10.672651096807808, n_buffer: 9999\n",
      "step: 18610, score: 7.897253619024322, n_buffer: 9999\n",
      "step: 18810, score: 8.15760373520212, n_buffer: 9999\n",
      "step: 19010, score: 10.95292135870445, n_buffer: 9999\n",
      "step: 19210, score: 12.196030907121871, n_buffer: 9999\n",
      "step: 19410, score: 15.661045592326928, n_buffer: 9999\n",
      "step: 19610, score: 13.749200334406513, n_buffer: 9999\n",
      "step: 19810, score: 18.709042636635225, n_buffer: 9999\n",
      "step: 20210, score: 14.901405289650285, n_buffer: 9999\n",
      "step: 20410, score: 17.207287508124097, n_buffer: 9999\n",
      "step: 20610, score: 19.469818051734734, n_buffer: 9999\n",
      "step: 20810, score: 21.40028831904921, n_buffer: 9999\n",
      "step: 21010, score: 21.812857697467795, n_buffer: 9999\n",
      "step: 21210, score: 17.935481733824986, n_buffer: 9999\n",
      "step: 21410, score: 17.339538994015292, n_buffer: 9999\n",
      "step: 21610, score: 17.59563272447051, n_buffer: 9999\n",
      "step: 21810, score: 19.30584624227174, n_buffer: 9999\n",
      "step: 22210, score: 12.694971709628195, n_buffer: 9999\n",
      "step: 22410, score: 22.112580170953986, n_buffer: 9999\n",
      "step: 22610, score: 22.906500553636597, n_buffer: 9999\n",
      "step: 22810, score: 23.218548060284334, n_buffer: 9999\n",
      "step: 23010, score: 23.252800480946114, n_buffer: 9999\n",
      "step: 23210, score: 24.550362099538713, n_buffer: 9999\n",
      "step: 23410, score: 21.649019196289608, n_buffer: 9999\n"
     ]
    },
    {
     "ename": "KeyboardInterrupt",
     "evalue": "",
     "output_type": "error",
     "traceback": [
      "\u001b[1;31m---------------------------------------------------------------------------\u001b[0m",
      "\u001b[1;31mKeyboardInterrupt\u001b[0m                         Traceback (most recent call last)",
      "Cell \u001b[1;32mIn[8], line 1\u001b[0m\n\u001b[1;32m----> 1\u001b[0m model\u001b[39m.\u001b[39;49mtrain(n_epis, n_epoch, n_rollout)\n",
      "File \u001b[1;32mc:\\Users\\esder\\Desktop\\github\\rl\\mujoco\\..\\models\\td3.py:72\u001b[0m, in \u001b[0;36mTD3.train\u001b[1;34m(self, n_epis, n_epochs, n_rollout, n_update, print_interval)\u001b[0m\n\u001b[0;32m     69\u001b[0m     \u001b[39mself\u001b[39m\u001b[39m.\u001b[39mupdate_cri()\n\u001b[0;32m     71\u001b[0m     \u001b[39mif\u001b[39;00m t \u001b[39m%\u001b[39m \u001b[39mself\u001b[39m\u001b[39m.\u001b[39md \u001b[39m==\u001b[39m \u001b[39m0\u001b[39m:\n\u001b[1;32m---> 72\u001b[0m         \u001b[39mself\u001b[39;49m\u001b[39m.\u001b[39;49mupdate_act()\n\u001b[0;32m     74\u001b[0m \u001b[39mif\u001b[39;00m epoch \u001b[39m%\u001b[39m print_interval \u001b[39m==\u001b[39m \u001b[39m0\u001b[39m \u001b[39mand\u001b[39;00m epoch \u001b[39m!=\u001b[39m \u001b[39m0\u001b[39m:\n\u001b[0;32m     75\u001b[0m     \u001b[39mprint\u001b[39m(\u001b[39mf\u001b[39m\u001b[39m\"\u001b[39m\u001b[39mstep: \u001b[39m\u001b[39m{\u001b[39;00mstep\u001b[39m}\u001b[39;00m\u001b[39m, score: \u001b[39m\u001b[39m{\u001b[39;00mscore\u001b[39m \u001b[39m\u001b[39m/\u001b[39m\u001b[39m \u001b[39mprint_interval\u001b[39m}\u001b[39;00m\u001b[39m, n_buffer: \u001b[39m\u001b[39m{\u001b[39;00m\u001b[39mself\u001b[39m\u001b[39m.\u001b[39mbuffer\u001b[39m.\u001b[39msize()\u001b[39m}\u001b[39;00m\u001b[39m\"\u001b[39m)\n",
      "File \u001b[1;32mc:\\Users\\esder\\Desktop\\github\\rl\\mujoco\\..\\models\\td3.py:108\u001b[0m, in \u001b[0;36mTD3.update_act\u001b[1;34m(self)\u001b[0m\n\u001b[0;32m    106\u001b[0m act_loss \u001b[39m=\u001b[39m \u001b[39m-\u001b[39m \u001b[39mself\u001b[39m\u001b[39m.\u001b[39mcri1([s, \u001b[39mself\u001b[39m\u001b[39m.\u001b[39mact(s)])\u001b[39m.\u001b[39mmean()\n\u001b[0;32m    107\u001b[0m \u001b[39mself\u001b[39m\u001b[39m.\u001b[39mact_opt\u001b[39m.\u001b[39mzero_grad()\n\u001b[1;32m--> 108\u001b[0m act_loss\u001b[39m.\u001b[39;49mbackward()\n\u001b[0;32m    109\u001b[0m \u001b[39mself\u001b[39m\u001b[39m.\u001b[39mact_opt\u001b[39m.\u001b[39mstep()\n\u001b[0;32m    111\u001b[0m \u001b[39mself\u001b[39m\u001b[39m.\u001b[39mupdate_tg(\u001b[39mself\u001b[39m\u001b[39m.\u001b[39mact_tg, \u001b[39mself\u001b[39m\u001b[39m.\u001b[39mact)\n",
      "File \u001b[1;32mc:\\Users\\esder\\AppData\\Local\\Programs\\Python\\Python38\\lib\\site-packages\\torch\\_tensor.py:487\u001b[0m, in \u001b[0;36mTensor.backward\u001b[1;34m(self, gradient, retain_graph, create_graph, inputs)\u001b[0m\n\u001b[0;32m    477\u001b[0m \u001b[39mif\u001b[39;00m has_torch_function_unary(\u001b[39mself\u001b[39m):\n\u001b[0;32m    478\u001b[0m     \u001b[39mreturn\u001b[39;00m handle_torch_function(\n\u001b[0;32m    479\u001b[0m         Tensor\u001b[39m.\u001b[39mbackward,\n\u001b[0;32m    480\u001b[0m         (\u001b[39mself\u001b[39m,),\n\u001b[1;32m   (...)\u001b[0m\n\u001b[0;32m    485\u001b[0m         inputs\u001b[39m=\u001b[39minputs,\n\u001b[0;32m    486\u001b[0m     )\n\u001b[1;32m--> 487\u001b[0m torch\u001b[39m.\u001b[39;49mautograd\u001b[39m.\u001b[39;49mbackward(\n\u001b[0;32m    488\u001b[0m     \u001b[39mself\u001b[39;49m, gradient, retain_graph, create_graph, inputs\u001b[39m=\u001b[39;49minputs\n\u001b[0;32m    489\u001b[0m )\n",
      "File \u001b[1;32mc:\\Users\\esder\\AppData\\Local\\Programs\\Python\\Python38\\lib\\site-packages\\torch\\autograd\\__init__.py:200\u001b[0m, in \u001b[0;36mbackward\u001b[1;34m(tensors, grad_tensors, retain_graph, create_graph, grad_variables, inputs)\u001b[0m\n\u001b[0;32m    195\u001b[0m     retain_graph \u001b[39m=\u001b[39m create_graph\n\u001b[0;32m    197\u001b[0m \u001b[39m# The reason we repeat same the comment below is that\u001b[39;00m\n\u001b[0;32m    198\u001b[0m \u001b[39m# some Python versions print out the first line of a multi-line function\u001b[39;00m\n\u001b[0;32m    199\u001b[0m \u001b[39m# calls in the traceback and some print out the last line\u001b[39;00m\n\u001b[1;32m--> 200\u001b[0m Variable\u001b[39m.\u001b[39;49m_execution_engine\u001b[39m.\u001b[39;49mrun_backward(  \u001b[39m# Calls into the C++ engine to run the backward pass\u001b[39;49;00m\n\u001b[0;32m    201\u001b[0m     tensors, grad_tensors_, retain_graph, create_graph, inputs,\n\u001b[0;32m    202\u001b[0m     allow_unreachable\u001b[39m=\u001b[39;49m\u001b[39mTrue\u001b[39;49;00m, accumulate_grad\u001b[39m=\u001b[39;49m\u001b[39mTrue\u001b[39;49;00m)\n",
      "\u001b[1;31mKeyboardInterrupt\u001b[0m: "
     ]
    }
   ],
   "source": [
    "model.train(n_epis, n_epoch, n_rollout)"
   ]
  },
  {
   "cell_type": "code",
   "execution_count": 9,
   "id": "6724c2f6",
   "metadata": {},
   "outputs": [],
   "source": [
    "env.close()"
   ]
  },
  {
   "cell_type": "code",
   "execution_count": null,
   "id": "3683bd0a",
   "metadata": {},
   "outputs": [],
   "source": []
  }
 ],
 "metadata": {
  "kernelspec": {
   "display_name": "Python 3 (ipykernel)",
   "language": "python",
   "name": "python3"
  },
  "language_info": {
   "codemirror_mode": {
    "name": "ipython",
    "version": 3
   },
   "file_extension": ".py",
   "mimetype": "text/x-python",
   "name": "python",
   "nbconvert_exporter": "python",
   "pygments_lexer": "ipython3",
   "version": "3.8.10"
  }
 },
 "nbformat": 4,
 "nbformat_minor": 5
}
