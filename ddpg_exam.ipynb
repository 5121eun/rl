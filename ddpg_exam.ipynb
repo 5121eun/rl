{
 "cells": [
  {
   "cell_type": "code",
   "execution_count": 1,
   "id": "cb40dea5",
   "metadata": {},
   "outputs": [],
   "source": [
    "import gym\n",
    "\n",
    "import torch\n",
    "import torch.nn as nn\n",
    "\n",
    "from models.ddpg import DDPG"
   ]
  },
  {
   "cell_type": "code",
   "execution_count": 44,
   "id": "be5b0bf8",
   "metadata": {},
   "outputs": [],
   "source": [
    "class Actor(nn.Module):\n",
    "    def __init__(self, n_sts: int, n_acts: int, dim:int):\n",
    "        super(Actor, self).__init__()\n",
    "                \n",
    "        self.fc1 = nn.Linear(n_sts, dim)\n",
    "        self.fc2 = nn.Linear(dim, n_acts)\n",
    "        \n",
    "        self.relu1 = nn.ReLU()\n",
    "\n",
    "    def forward(self, x):\n",
    "        x = self.relu1(self.fc1(x))\n",
    "        x = torch.tanh(self.fc2(x)) * 2\n",
    "        \n",
    "        return x"
   ]
  },
  {
   "cell_type": "code",
   "execution_count": 46,
   "id": "d3963cb2",
   "metadata": {},
   "outputs": [],
   "source": [
    "class Critic(nn.Module):\n",
    "    def __init__(self, n_sts: int, n_acts: int, dim: int):\n",
    "        super(Critic, self).__init__()\n",
    "                \n",
    "        self.fc1 = nn.Linear(n_sts + n_acts, dim)\n",
    "        self.fc2 = nn.Linear(dim, 1)\n",
    "        \n",
    "        self.relu1 = nn.ReLU()\n",
    "                \n",
    "    def forward(self, xs):\n",
    "        x, a = xs\n",
    "        \n",
    "        x = self.relu1(self.fc1(torch.cat([x, a], 1)))\n",
    "        x = self.fc2(x)\n",
    "        \n",
    "        return x"
   ]
  },
  {
   "cell_type": "code",
   "execution_count": 48,
   "id": "f94db997",
   "metadata": {},
   "outputs": [],
   "source": [
    "cri_lr = 1e-3\n",
    "act_lr = 5e-4\n",
    "\n",
    "tau = 5e-3\n",
    "\n",
    "n_sts = 3\n",
    "n_acts = 1\n",
    "\n",
    "dim = 256\n",
    "\n",
    "n_epis = 500\n",
    "n_epochs = 200\n",
    "n_rollout = 10\n",
    "\n",
    "act_range = (-2, 2)"
   ]
  },
  {
   "cell_type": "code",
   "execution_count": 49,
   "id": "c13aa4f2",
   "metadata": {},
   "outputs": [],
   "source": [
    "env = gym.make('Pendulum-v1', render_mode='human')"
   ]
  },
  {
   "cell_type": "code",
   "execution_count": 52,
   "id": "ecd626c3",
   "metadata": {},
   "outputs": [],
   "source": [
    "act = Actor(n_sts, n_acts, dim)\n",
    "act_opt = torch.optim.Adam(act.parameters(), lr=act_lr)\n",
    "\n",
    "cri = Critic(n_sts, n_acts, dim)\n",
    "cri_opt = torch.optim.Adam(cri.parameters(), lr=cri_lr)"
   ]
  },
  {
   "cell_type": "code",
   "execution_count": 53,
   "id": "35a7f196",
   "metadata": {},
   "outputs": [],
   "source": [
    "ddpg = DDPG(env, n_acts, act, act_opt, cri, cri_opt, act_noise = 0.3, act_range=act_range)"
   ]
  },
  {
   "cell_type": "code",
   "execution_count": 54,
   "id": "1a358d16",
   "metadata": {},
   "outputs": [
    {
     "name": "stderr",
     "output_type": "stream",
     "text": [
      "c:\\Users\\esder\\AppData\\Local\\Programs\\Python\\Python38\\lib\\site-packages\\gym\\utils\\passive_env_checker.py:233: DeprecationWarning: `np.bool8` is a deprecated alias for `np.bool_`.  (Deprecated NumPy 1.24)\n",
      "  if not isinstance(terminated, (bool, np.bool8)):\n"
     ]
    },
    {
     "name": "stdout",
     "output_type": "stream",
     "text": [
      "epoch: 20, score: -82.26434258703087, n_buffer: 210\n",
      "epoch: 40, score: -82.28790949686429, n_buffer: 410\n",
      "epoch: 60, score: -84.1544112230634, n_buffer: 610\n",
      "epoch: 80, score: -82.39202267833173, n_buffer: 810\n",
      "epoch: 100, score: -84.45549551978381, n_buffer: 1010\n",
      "epoch: 120, score: -82.45998536758043, n_buffer: 1210\n",
      "epoch: 140, score: -84.12448597869985, n_buffer: 1410\n",
      "epoch: 160, score: -82.50604223302429, n_buffer: 1610\n",
      "epoch: 180, score: -84.09363139074024, n_buffer: 1810\n",
      "epoch: 20, score: -78.7876571554002, n_buffer: 2210\n",
      "epoch: 40, score: -71.44935494543515, n_buffer: 2410\n",
      "epoch: 60, score: -84.49926259242923, n_buffer: 2610\n",
      "epoch: 80, score: -88.16698681940562, n_buffer: 2810\n",
      "epoch: 100, score: -89.88086753701673, n_buffer: 3010\n",
      "epoch: 120, score: -92.84446437282574, n_buffer: 3210\n",
      "epoch: 140, score: -95.61210760627121, n_buffer: 3410\n",
      "epoch: 160, score: -94.51181420781562, n_buffer: 3610\n",
      "epoch: 180, score: -94.40684543714073, n_buffer: 3810\n",
      "epoch: 20, score: -54.77995585216009, n_buffer: 4210\n",
      "epoch: 40, score: -46.75194027523402, n_buffer: 4410\n",
      "epoch: 60, score: -49.00822970005387, n_buffer: 4610\n",
      "epoch: 80, score: -74.27657288786321, n_buffer: 4810\n",
      "epoch: 100, score: -81.69898239604002, n_buffer: 5010\n",
      "epoch: 120, score: -74.21109412313083, n_buffer: 5210\n",
      "epoch: 140, score: -62.69530322481221, n_buffer: 5410\n",
      "epoch: 160, score: -59.08931317267836, n_buffer: 5610\n",
      "epoch: 180, score: -52.33796849599181, n_buffer: 5810\n",
      "epoch: 20, score: -50.98346672444298, n_buffer: 6210\n",
      "epoch: 40, score: -45.98043337363987, n_buffer: 6410\n",
      "epoch: 60, score: -46.811293193746614, n_buffer: 6610\n",
      "epoch: 80, score: -46.40093008731701, n_buffer: 6810\n",
      "epoch: 100, score: -49.41058881371578, n_buffer: 7010\n",
      "epoch: 120, score: -48.422223079046276, n_buffer: 7210\n",
      "epoch: 140, score: -53.35949827247373, n_buffer: 7410\n",
      "epoch: 160, score: -53.10618274757418, n_buffer: 7610\n",
      "epoch: 180, score: -38.57939738767678, n_buffer: 7810\n",
      "epoch: 20, score: -44.77780419921181, n_buffer: 8210\n",
      "epoch: 40, score: -35.04226501999875, n_buffer: 8410\n",
      "epoch: 60, score: -36.28462956187433, n_buffer: 8610\n",
      "epoch: 80, score: -34.94728532397082, n_buffer: 8810\n",
      "epoch: 100, score: -37.47063389515269, n_buffer: 9010\n",
      "epoch: 120, score: -38.128935854171935, n_buffer: 9210\n",
      "epoch: 140, score: -32.591935104031414, n_buffer: 9410\n",
      "epoch: 160, score: -37.7859936015593, n_buffer: 9610\n",
      "epoch: 180, score: -32.108794861518305, n_buffer: 9810\n",
      "epoch: 20, score: -32.05068914874425, n_buffer: 9999\n",
      "epoch: 40, score: -31.017632212929293, n_buffer: 9999\n",
      "epoch: 60, score: -20.775364019502746, n_buffer: 9999\n",
      "epoch: 80, score: -22.413216875099334, n_buffer: 9999\n",
      "epoch: 100, score: -35.43698138979198, n_buffer: 9999\n",
      "epoch: 120, score: -32.33906125454373, n_buffer: 9999\n",
      "epoch: 140, score: -32.0481196974171, n_buffer: 9999\n",
      "epoch: 160, score: -25.99570009440713, n_buffer: 9999\n",
      "epoch: 180, score: -38.48250057061547, n_buffer: 9999\n",
      "epoch: 20, score: -44.57439486075679, n_buffer: 9999\n",
      "epoch: 40, score: -26.26414842661822, n_buffer: 9999\n",
      "epoch: 60, score: -33.5347336294565, n_buffer: 9999\n",
      "epoch: 80, score: -32.528377835158395, n_buffer: 9999\n",
      "epoch: 100, score: -35.86435672054666, n_buffer: 9999\n",
      "epoch: 120, score: -33.18909287585271, n_buffer: 9999\n",
      "epoch: 140, score: -33.035562632745226, n_buffer: 9999\n",
      "epoch: 160, score: -52.676832844526224, n_buffer: 9999\n",
      "epoch: 180, score: -33.99972270500242, n_buffer: 9999\n",
      "epoch: 20, score: -25.952235307778608, n_buffer: 9999\n",
      "epoch: 40, score: -25.197401993153512, n_buffer: 9999\n",
      "epoch: 60, score: -13.71792454574518, n_buffer: 9999\n",
      "epoch: 80, score: -6.618030154163774, n_buffer: 9999\n",
      "epoch: 100, score: -0.06844500793739591, n_buffer: 9999\n",
      "epoch: 120, score: -0.12730017568683713, n_buffer: 9999\n"
     ]
    },
    {
     "ename": "KeyboardInterrupt",
     "evalue": "",
     "output_type": "error",
     "traceback": [
      "\u001b[1;31m---------------------------------------------------------------------------\u001b[0m",
      "\u001b[1;31mKeyboardInterrupt\u001b[0m                         Traceback (most recent call last)",
      "Cell \u001b[1;32mIn[54], line 1\u001b[0m\n\u001b[1;32m----> 1\u001b[0m ddpg\u001b[39m.\u001b[39;49mtrain(n_epis, n_epochs, n_rollout)\n",
      "File \u001b[1;32mc:\\Users\\esder\\Desktop\\github\\rl\\models\\ddpg.py:47\u001b[0m, in \u001b[0;36mDDPG.train\u001b[1;34m(self, n_epis, n_epochs, n_rollout, n_update, print_interval)\u001b[0m\n\u001b[0;32m     45\u001b[0m s_p, r, _, _, _ \u001b[39m=\u001b[39m env\u001b[39m.\u001b[39mstep(a)\n\u001b[0;32m     46\u001b[0m \u001b[39mself\u001b[39m\u001b[39m.\u001b[39mbuffer\u001b[39m.\u001b[39mput((s, a, r\u001b[39m/\u001b[39m\u001b[39m100\u001b[39m, s_p))\n\u001b[1;32m---> 47\u001b[0m env\u001b[39m.\u001b[39;49mrender()\n\u001b[0;32m     49\u001b[0m s \u001b[39m=\u001b[39m s_p\n\u001b[0;32m     50\u001b[0m score \u001b[39m+\u001b[39m\u001b[39m=\u001b[39m r\n",
      "File \u001b[1;32mc:\\Users\\esder\\AppData\\Local\\Programs\\Python\\Python38\\lib\\site-packages\\gym\\core.py:329\u001b[0m, in \u001b[0;36mWrapper.render\u001b[1;34m(self, *args, **kwargs)\u001b[0m\n\u001b[0;32m    325\u001b[0m \u001b[39mdef\u001b[39;00m \u001b[39mrender\u001b[39m(\n\u001b[0;32m    326\u001b[0m     \u001b[39mself\u001b[39m, \u001b[39m*\u001b[39margs, \u001b[39m*\u001b[39m\u001b[39m*\u001b[39mkwargs\n\u001b[0;32m    327\u001b[0m ) \u001b[39m-\u001b[39m\u001b[39m>\u001b[39m Optional[Union[RenderFrame, List[RenderFrame]]]:\n\u001b[0;32m    328\u001b[0m \u001b[39m    \u001b[39m\u001b[39m\"\"\"Renders the environment.\"\"\"\u001b[39;00m\n\u001b[1;32m--> 329\u001b[0m     \u001b[39mreturn\u001b[39;00m \u001b[39mself\u001b[39;49m\u001b[39m.\u001b[39;49menv\u001b[39m.\u001b[39;49mrender(\u001b[39m*\u001b[39;49margs, \u001b[39m*\u001b[39;49m\u001b[39m*\u001b[39;49mkwargs)\n",
      "File \u001b[1;32mc:\\Users\\esder\\AppData\\Local\\Programs\\Python\\Python38\\lib\\site-packages\\gym\\wrappers\\order_enforcing.py:51\u001b[0m, in \u001b[0;36mOrderEnforcing.render\u001b[1;34m(self, *args, **kwargs)\u001b[0m\n\u001b[0;32m     46\u001b[0m \u001b[39mif\u001b[39;00m \u001b[39mnot\u001b[39;00m \u001b[39mself\u001b[39m\u001b[39m.\u001b[39m_disable_render_order_enforcing \u001b[39mand\u001b[39;00m \u001b[39mnot\u001b[39;00m \u001b[39mself\u001b[39m\u001b[39m.\u001b[39m_has_reset:\n\u001b[0;32m     47\u001b[0m     \u001b[39mraise\u001b[39;00m ResetNeeded(\n\u001b[0;32m     48\u001b[0m         \u001b[39m\"\u001b[39m\u001b[39mCannot call `env.render()` before calling `env.reset()`, if this is a intended action, \u001b[39m\u001b[39m\"\u001b[39m\n\u001b[0;32m     49\u001b[0m         \u001b[39m\"\u001b[39m\u001b[39mset `disable_render_order_enforcing=True` on the OrderEnforcer wrapper.\u001b[39m\u001b[39m\"\u001b[39m\n\u001b[0;32m     50\u001b[0m     )\n\u001b[1;32m---> 51\u001b[0m \u001b[39mreturn\u001b[39;00m \u001b[39mself\u001b[39;49m\u001b[39m.\u001b[39;49menv\u001b[39m.\u001b[39;49mrender(\u001b[39m*\u001b[39;49margs, \u001b[39m*\u001b[39;49m\u001b[39m*\u001b[39;49mkwargs)\n",
      "File \u001b[1;32mc:\\Users\\esder\\AppData\\Local\\Programs\\Python\\Python38\\lib\\site-packages\\gym\\wrappers\\env_checker.py:55\u001b[0m, in \u001b[0;36mPassiveEnvChecker.render\u001b[1;34m(self, *args, **kwargs)\u001b[0m\n\u001b[0;32m     53\u001b[0m     \u001b[39mreturn\u001b[39;00m env_render_passive_checker(\u001b[39mself\u001b[39m\u001b[39m.\u001b[39menv, \u001b[39m*\u001b[39margs, \u001b[39m*\u001b[39m\u001b[39m*\u001b[39mkwargs)\n\u001b[0;32m     54\u001b[0m \u001b[39melse\u001b[39;00m:\n\u001b[1;32m---> 55\u001b[0m     \u001b[39mreturn\u001b[39;00m \u001b[39mself\u001b[39;49m\u001b[39m.\u001b[39;49menv\u001b[39m.\u001b[39;49mrender(\u001b[39m*\u001b[39;49margs, \u001b[39m*\u001b[39;49m\u001b[39m*\u001b[39;49mkwargs)\n",
      "File \u001b[1;32mc:\\Users\\esder\\AppData\\Local\\Programs\\Python\\Python38\\lib\\site-packages\\gym\\envs\\classic_control\\pendulum.py:253\u001b[0m, in \u001b[0;36mPendulumEnv.render\u001b[1;34m(self)\u001b[0m\n\u001b[0;32m    251\u001b[0m \u001b[39mif\u001b[39;00m \u001b[39mself\u001b[39m\u001b[39m.\u001b[39mrender_mode \u001b[39m==\u001b[39m \u001b[39m\"\u001b[39m\u001b[39mhuman\u001b[39m\u001b[39m\"\u001b[39m:\n\u001b[0;32m    252\u001b[0m     pygame\u001b[39m.\u001b[39mevent\u001b[39m.\u001b[39mpump()\n\u001b[1;32m--> 253\u001b[0m     \u001b[39mself\u001b[39;49m\u001b[39m.\u001b[39;49mclock\u001b[39m.\u001b[39;49mtick(\u001b[39mself\u001b[39;49m\u001b[39m.\u001b[39;49mmetadata[\u001b[39m\"\u001b[39;49m\u001b[39mrender_fps\u001b[39;49m\u001b[39m\"\u001b[39;49m])\n\u001b[0;32m    254\u001b[0m     pygame\u001b[39m.\u001b[39mdisplay\u001b[39m.\u001b[39mflip()\n\u001b[0;32m    256\u001b[0m \u001b[39melse\u001b[39;00m:  \u001b[39m# mode == \"rgb_array\":\u001b[39;00m\n",
      "\u001b[1;31mKeyboardInterrupt\u001b[0m: "
     ]
    }
   ],
   "source": [
    "ddpg.train(n_epis, n_epochs, n_rollout)"
   ]
  },
  {
   "cell_type": "code",
   "execution_count": null,
   "id": "fe37e705",
   "metadata": {},
   "outputs": [],
   "source": [
    "env.close()"
   ]
  },
  {
   "cell_type": "code",
   "execution_count": null,
   "id": "092e4695",
   "metadata": {},
   "outputs": [],
   "source": []
  }
 ],
 "metadata": {
  "kernelspec": {
   "display_name": "Python 3 (ipykernel)",
   "language": "python",
   "name": "python3"
  },
  "language_info": {
   "codemirror_mode": {
    "name": "ipython",
    "version": 3
   },
   "file_extension": ".py",
   "mimetype": "text/x-python",
   "name": "python",
   "nbconvert_exporter": "python",
   "pygments_lexer": "ipython3",
   "version": "3.8.10"
  }
 },
 "nbformat": 4,
 "nbformat_minor": 5
}
