{
 "cells": [
  {
   "cell_type": "code",
   "execution_count": 16,
   "id": "cb40dea5",
   "metadata": {},
   "outputs": [],
   "source": [
    "import gym\n",
    "\n",
    "import torch\n",
    "import torch.nn as nn\n",
    "\n",
    "from models.ddpg import DDPG"
   ]
  },
  {
   "cell_type": "code",
   "execution_count": 17,
   "id": "be5b0bf8",
   "metadata": {},
   "outputs": [],
   "source": [
    "class Actor(nn.Module):\n",
    "    def __init__(self, n_sts: int, n_acts: int, dim:int):\n",
    "        super(Actor, self).__init__()\n",
    "                \n",
    "        self.fc1 = nn.Linear(n_sts, dim)\n",
    "        self.fc2 = nn.Linear(dim, dim)\n",
    "        self.fc3 = nn.Linear(dim, n_acts)\n",
    "        \n",
    "        self.relu1 = nn.ReLU()\n",
    "        self.relu2 = nn.ReLU()\n",
    "\n",
    "    def forward(self, x):\n",
    "        x = self.relu1(self.fc1(x))\n",
    "        x = self.relu2(self.fc2(x))\n",
    "        x = torch.tanh(self.fc3(x)) * 2\n",
    "        \n",
    "        return x"
   ]
  },
  {
   "cell_type": "code",
   "execution_count": 18,
   "id": "d3963cb2",
   "metadata": {},
   "outputs": [],
   "source": [
    "class Critic(nn.Module):\n",
    "    def __init__(self, n_sts: int, n_acts: int, dim: int):\n",
    "        super(Critic, self).__init__()\n",
    "                \n",
    "        self.fc1 = nn.Linear(n_sts + n_acts, dim)\n",
    "        self.fc2 = nn.Linear(dim, 1)\n",
    "        \n",
    "        self.relu1 = nn.ReLU()\n",
    "                \n",
    "    def forward(self, xs):\n",
    "        x, a = xs\n",
    "        \n",
    "        x = self.relu1(self.fc1(torch.cat([x, a], 1)))\n",
    "        x = self.fc2(x)\n",
    "        \n",
    "        return x"
   ]
  },
  {
   "cell_type": "code",
   "execution_count": 19,
   "id": "f94db997",
   "metadata": {},
   "outputs": [],
   "source": [
    "cri_lr = 1e-3\n",
    "act_lr = 5e-4\n",
    "\n",
    "tau = 5e-3\n",
    "\n",
    "n_sts = 3\n",
    "n_acts = 1\n",
    "\n",
    "dim = 256\n",
    "\n",
    "n_epis = 100\n",
    "n_epochs = 200\n",
    "n_rollout = 10\n",
    "\n",
    "act_range = (-2, 2)"
   ]
  },
  {
   "cell_type": "code",
   "execution_count": 20,
   "id": "c13aa4f2",
   "metadata": {},
   "outputs": [],
   "source": [
    "env = gym.make('Pendulum-v1', render_mode='human')"
   ]
  },
  {
   "cell_type": "code",
   "execution_count": 21,
   "id": "ecd626c3",
   "metadata": {},
   "outputs": [],
   "source": [
    "act = Actor(n_sts, n_acts, dim)\n",
    "act_opt = torch.optim.Adam(act.parameters(), lr=act_lr)\n",
    "\n",
    "cri = Critic(n_sts, n_acts, dim)\n",
    "cri_opt = torch.optim.Adam(cri.parameters(), lr=cri_lr)"
   ]
  },
  {
   "cell_type": "code",
   "execution_count": 22,
   "id": "35a7f196",
   "metadata": {},
   "outputs": [],
   "source": [
    "ddpg = DDPG(env, n_acts, act, act_opt, cri, cri_opt, act_noise = 0.3, act_range=act_range)"
   ]
  },
  {
   "cell_type": "code",
   "execution_count": 23,
   "id": "1a358d16",
   "metadata": {},
   "outputs": [
    {
     "name": "stdout",
     "output_type": "stream",
     "text": [
      "step: 210, score: -73.26300631959415, n_buffer: 210\n",
      "step: 410, score: -65.38297641782701, n_buffer: 410\n",
      "step: 610, score: -82.34483222521912, n_buffer: 610\n",
      "step: 810, score: -82.11015855865372, n_buffer: 810\n",
      "step: 1010, score: -85.08165139218373, n_buffer: 1010\n",
      "step: 1210, score: -81.97688326888544, n_buffer: 1210\n",
      "step: 1410, score: -84.99376582891762, n_buffer: 1410\n",
      "step: 1610, score: -82.12338215684726, n_buffer: 1610\n",
      "step: 1810, score: -84.77030926615448, n_buffer: 1810\n",
      "step: 2210, score: -66.3142685804228, n_buffer: 2210\n",
      "step: 2410, score: -64.08107626880326, n_buffer: 2410\n",
      "step: 2610, score: -61.766913445044466, n_buffer: 2610\n",
      "step: 2810, score: -65.05580256236837, n_buffer: 2810\n",
      "step: 3010, score: -68.07224346564546, n_buffer: 3010\n",
      "step: 3210, score: -68.09883601009258, n_buffer: 3210\n",
      "step: 3410, score: -68.2604344979504, n_buffer: 3410\n",
      "step: 3610, score: -68.4666461291011, n_buffer: 3610\n",
      "step: 3810, score: -66.12266214601304, n_buffer: 3810\n",
      "step: 4210, score: -84.3243460696251, n_buffer: 4210\n",
      "step: 4410, score: -82.40246551420756, n_buffer: 4410\n",
      "step: 4610, score: -84.55322714220397, n_buffer: 4610\n",
      "step: 4810, score: -82.23524446574024, n_buffer: 4810\n",
      "step: 5010, score: -84.6513432522747, n_buffer: 5010\n",
      "step: 5210, score: -82.16907962292264, n_buffer: 5210\n",
      "step: 5410, score: -84.57864199071292, n_buffer: 5410\n",
      "step: 5610, score: -82.1620616023757, n_buffer: 5610\n",
      "step: 5810, score: -84.76014139112735, n_buffer: 5810\n",
      "step: 6210, score: -86.03122053259291, n_buffer: 6210\n",
      "step: 6410, score: -83.846878372821, n_buffer: 6410\n",
      "step: 6610, score: -83.01689002730576, n_buffer: 6610\n",
      "step: 6810, score: -83.85061763584079, n_buffer: 6810\n",
      "step: 7010, score: -82.83131971627152, n_buffer: 7010\n",
      "step: 7210, score: -83.34815488723062, n_buffer: 7210\n",
      "step: 7410, score: -83.17600796943681, n_buffer: 7410\n",
      "step: 7610, score: -84.0440439496332, n_buffer: 7610\n",
      "step: 7810, score: -81.93549571056708, n_buffer: 7810\n",
      "step: 8210, score: -86.00503147127722, n_buffer: 8210\n",
      "step: 8410, score: -70.01439564283523, n_buffer: 8410\n",
      "step: 8610, score: -56.01127648983373, n_buffer: 8610\n",
      "step: 8810, score: -55.41056343384624, n_buffer: 8810\n",
      "step: 9010, score: -50.50536872483011, n_buffer: 9010\n",
      "step: 9210, score: -48.55049613827511, n_buffer: 9210\n",
      "step: 9410, score: -43.81955520670551, n_buffer: 9410\n",
      "step: 9610, score: -49.62268269095266, n_buffer: 9610\n",
      "step: 9810, score: -59.650682957151446, n_buffer: 9810\n",
      "step: 10210, score: -53.92352594826908, n_buffer: 9999\n",
      "step: 10410, score: -49.50876878611036, n_buffer: 9999\n",
      "step: 10610, score: -52.29641568662056, n_buffer: 9999\n",
      "step: 10810, score: -53.64683175677823, n_buffer: 9999\n",
      "step: 11010, score: -47.964603385919126, n_buffer: 9999\n",
      "step: 11210, score: -49.80368762324183, n_buffer: 9999\n",
      "step: 11410, score: -50.68245426398359, n_buffer: 9999\n",
      "step: 11610, score: -48.17503078367959, n_buffer: 9999\n",
      "step: 11810, score: -40.990165144757206, n_buffer: 9999\n",
      "step: 12210, score: -39.37185786216042, n_buffer: 9999\n",
      "step: 12410, score: -31.97633176154246, n_buffer: 9999\n",
      "step: 12610, score: -26.996317167436864, n_buffer: 9999\n",
      "step: 12810, score: -39.39042681245359, n_buffer: 9999\n",
      "step: 13010, score: -45.64506670983618, n_buffer: 9999\n",
      "step: 13210, score: -45.1743989151814, n_buffer: 9999\n",
      "step: 13410, score: -34.65938464743398, n_buffer: 9999\n",
      "step: 13610, score: -43.051671780598745, n_buffer: 9999\n",
      "step: 13810, score: -32.88975223100728, n_buffer: 9999\n",
      "step: 14210, score: -14.157324168816533, n_buffer: 9999\n",
      "step: 14410, score: -5.5201454977832425, n_buffer: 9999\n",
      "step: 14610, score: -0.19536557593567533, n_buffer: 9999\n",
      "step: 14810, score: -6.738993125014457, n_buffer: 9999\n",
      "step: 15010, score: -23.689107813189885, n_buffer: 9999\n",
      "step: 15210, score: -2.6546213577550613, n_buffer: 9999\n",
      "step: 15410, score: -0.4963335883044687, n_buffer: 9999\n",
      "step: 15610, score: -0.38825416827342707, n_buffer: 9999\n",
      "step: 15810, score: -0.38596058331419963, n_buffer: 9999\n",
      "step: 16210, score: -13.013451614856058, n_buffer: 9999\n",
      "step: 16410, score: -0.3317669412599373, n_buffer: 9999\n",
      "step: 16610, score: -0.32536975764587633, n_buffer: 9999\n",
      "step: 16810, score: -0.2953929301532431, n_buffer: 9999\n",
      "step: 17010, score: -0.36609349643554834, n_buffer: 9999\n",
      "step: 17210, score: -0.3294006889604512, n_buffer: 9999\n",
      "step: 17410, score: -0.3094367507616929, n_buffer: 9999\n"
     ]
    },
    {
     "ename": "KeyboardInterrupt",
     "evalue": "",
     "output_type": "error",
     "traceback": [
      "\u001b[1;31m---------------------------------------------------------------------------\u001b[0m",
      "\u001b[1;31mKeyboardInterrupt\u001b[0m                         Traceback (most recent call last)",
      "Cell \u001b[1;32mIn[23], line 1\u001b[0m\n\u001b[1;32m----> 1\u001b[0m ddpg\u001b[39m.\u001b[39;49mtrain(n_epis, n_epochs, n_rollout)\n",
      "File \u001b[1;32mc:\\Users\\esder\\Desktop\\github\\rl2\\rl\\models\\ddpg.py:48\u001b[0m, in \u001b[0;36mDDPG.train\u001b[1;34m(self, n_epis, n_epochs, n_rollout, n_update, print_interval)\u001b[0m\n\u001b[0;32m     46\u001b[0m s_p, r, _, _, _ \u001b[39m=\u001b[39m env\u001b[39m.\u001b[39mstep(a)\n\u001b[0;32m     47\u001b[0m \u001b[39mself\u001b[39m\u001b[39m.\u001b[39mbuffer\u001b[39m.\u001b[39mput((s, a, r\u001b[39m/\u001b[39m\u001b[39m100\u001b[39m, s_p))\n\u001b[1;32m---> 48\u001b[0m env\u001b[39m.\u001b[39;49mrender()\n\u001b[0;32m     50\u001b[0m s \u001b[39m=\u001b[39m s_p\n\u001b[0;32m     51\u001b[0m score \u001b[39m+\u001b[39m\u001b[39m=\u001b[39m r\n",
      "File \u001b[1;32mc:\\Users\\esder\\AppData\\Local\\Programs\\Python\\Python38\\lib\\site-packages\\gym\\core.py:329\u001b[0m, in \u001b[0;36mWrapper.render\u001b[1;34m(self, *args, **kwargs)\u001b[0m\n\u001b[0;32m    325\u001b[0m \u001b[39mdef\u001b[39;00m \u001b[39mrender\u001b[39m(\n\u001b[0;32m    326\u001b[0m     \u001b[39mself\u001b[39m, \u001b[39m*\u001b[39margs, \u001b[39m*\u001b[39m\u001b[39m*\u001b[39mkwargs\n\u001b[0;32m    327\u001b[0m ) \u001b[39m-\u001b[39m\u001b[39m>\u001b[39m Optional[Union[RenderFrame, List[RenderFrame]]]:\n\u001b[0;32m    328\u001b[0m \u001b[39m    \u001b[39m\u001b[39m\"\"\"Renders the environment.\"\"\"\u001b[39;00m\n\u001b[1;32m--> 329\u001b[0m     \u001b[39mreturn\u001b[39;00m \u001b[39mself\u001b[39;49m\u001b[39m.\u001b[39;49menv\u001b[39m.\u001b[39;49mrender(\u001b[39m*\u001b[39;49margs, \u001b[39m*\u001b[39;49m\u001b[39m*\u001b[39;49mkwargs)\n",
      "File \u001b[1;32mc:\\Users\\esder\\AppData\\Local\\Programs\\Python\\Python38\\lib\\site-packages\\gym\\wrappers\\order_enforcing.py:51\u001b[0m, in \u001b[0;36mOrderEnforcing.render\u001b[1;34m(self, *args, **kwargs)\u001b[0m\n\u001b[0;32m     46\u001b[0m \u001b[39mif\u001b[39;00m \u001b[39mnot\u001b[39;00m \u001b[39mself\u001b[39m\u001b[39m.\u001b[39m_disable_render_order_enforcing \u001b[39mand\u001b[39;00m \u001b[39mnot\u001b[39;00m \u001b[39mself\u001b[39m\u001b[39m.\u001b[39m_has_reset:\n\u001b[0;32m     47\u001b[0m     \u001b[39mraise\u001b[39;00m ResetNeeded(\n\u001b[0;32m     48\u001b[0m         \u001b[39m\"\u001b[39m\u001b[39mCannot call `env.render()` before calling `env.reset()`, if this is a intended action, \u001b[39m\u001b[39m\"\u001b[39m\n\u001b[0;32m     49\u001b[0m         \u001b[39m\"\u001b[39m\u001b[39mset `disable_render_order_enforcing=True` on the OrderEnforcer wrapper.\u001b[39m\u001b[39m\"\u001b[39m\n\u001b[0;32m     50\u001b[0m     )\n\u001b[1;32m---> 51\u001b[0m \u001b[39mreturn\u001b[39;00m \u001b[39mself\u001b[39;49m\u001b[39m.\u001b[39;49menv\u001b[39m.\u001b[39;49mrender(\u001b[39m*\u001b[39;49margs, \u001b[39m*\u001b[39;49m\u001b[39m*\u001b[39;49mkwargs)\n",
      "File \u001b[1;32mc:\\Users\\esder\\AppData\\Local\\Programs\\Python\\Python38\\lib\\site-packages\\gym\\wrappers\\env_checker.py:55\u001b[0m, in \u001b[0;36mPassiveEnvChecker.render\u001b[1;34m(self, *args, **kwargs)\u001b[0m\n\u001b[0;32m     53\u001b[0m     \u001b[39mreturn\u001b[39;00m env_render_passive_checker(\u001b[39mself\u001b[39m\u001b[39m.\u001b[39menv, \u001b[39m*\u001b[39margs, \u001b[39m*\u001b[39m\u001b[39m*\u001b[39mkwargs)\n\u001b[0;32m     54\u001b[0m \u001b[39melse\u001b[39;00m:\n\u001b[1;32m---> 55\u001b[0m     \u001b[39mreturn\u001b[39;00m \u001b[39mself\u001b[39;49m\u001b[39m.\u001b[39;49menv\u001b[39m.\u001b[39;49mrender(\u001b[39m*\u001b[39;49margs, \u001b[39m*\u001b[39;49m\u001b[39m*\u001b[39;49mkwargs)\n",
      "File \u001b[1;32mc:\\Users\\esder\\AppData\\Local\\Programs\\Python\\Python38\\lib\\site-packages\\gym\\envs\\classic_control\\pendulum.py:253\u001b[0m, in \u001b[0;36mPendulumEnv.render\u001b[1;34m(self)\u001b[0m\n\u001b[0;32m    251\u001b[0m \u001b[39mif\u001b[39;00m \u001b[39mself\u001b[39m\u001b[39m.\u001b[39mrender_mode \u001b[39m==\u001b[39m \u001b[39m\"\u001b[39m\u001b[39mhuman\u001b[39m\u001b[39m\"\u001b[39m:\n\u001b[0;32m    252\u001b[0m     pygame\u001b[39m.\u001b[39mevent\u001b[39m.\u001b[39mpump()\n\u001b[1;32m--> 253\u001b[0m     \u001b[39mself\u001b[39;49m\u001b[39m.\u001b[39;49mclock\u001b[39m.\u001b[39;49mtick(\u001b[39mself\u001b[39;49m\u001b[39m.\u001b[39;49mmetadata[\u001b[39m\"\u001b[39;49m\u001b[39mrender_fps\u001b[39;49m\u001b[39m\"\u001b[39;49m])\n\u001b[0;32m    254\u001b[0m     pygame\u001b[39m.\u001b[39mdisplay\u001b[39m.\u001b[39mflip()\n\u001b[0;32m    256\u001b[0m \u001b[39melse\u001b[39;00m:  \u001b[39m# mode == \"rgb_array\":\u001b[39;00m\n",
      "\u001b[1;31mKeyboardInterrupt\u001b[0m: "
     ]
    }
   ],
   "source": [
    "ddpg.train(n_epis, n_epochs, n_rollout)"
   ]
  },
  {
   "cell_type": "code",
   "execution_count": null,
   "id": "fe37e705",
   "metadata": {},
   "outputs": [],
   "source": [
    "env.close()"
   ]
  }
 ],
 "metadata": {
  "kernelspec": {
   "display_name": "Python 3 (ipykernel)",
   "language": "python",
   "name": "python3"
  },
  "language_info": {
   "codemirror_mode": {
    "name": "ipython",
    "version": 3
   },
   "file_extension": ".py",
   "mimetype": "text/x-python",
   "name": "python",
   "nbconvert_exporter": "python",
   "pygments_lexer": "ipython3",
   "version": "3.8.10"
  }
 },
 "nbformat": 4,
 "nbformat_minor": 5
}
