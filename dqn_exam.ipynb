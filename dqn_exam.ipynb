{
 "cells": [
  {
   "cell_type": "code",
   "execution_count": 1,
   "id": "a118feca",
   "metadata": {},
   "outputs": [],
   "source": [
    "import gym\n",
    "\n",
    "import torch\n",
    "from torch import nn\n",
    "\n",
    "from models.dqn import DQN"
   ]
  },
  {
   "cell_type": "code",
   "execution_count": 2,
   "id": "a94acf92",
   "metadata": {},
   "outputs": [],
   "source": [
    "class Qnet(nn.Module):\n",
    "    def __init__(self):\n",
    "        super(Qnet, self).__init__()\n",
    "        self.fc1 = nn.Linear(4, 128)\n",
    "        self.fc2 = nn.Linear(128, 128)\n",
    "        self.fc3 = nn.Linear(128, 2)\n",
    "        self.relu1 = nn.ReLU()\n",
    "        self.relu2 = nn.ReLU()\n",
    "        \n",
    "    def forward(self, x):\n",
    "        x = self.relu1(self.fc1(x))\n",
    "        x = self.relu2(self.fc2(x))\n",
    "        x = self.fc3(x)\n",
    "        return x\n"
   ]
  },
  {
   "cell_type": "code",
   "execution_count": 3,
   "id": "5a6d578f",
   "metadata": {},
   "outputs": [],
   "source": [
    "env = gym.make('CartPole-v1', render_mode='human')"
   ]
  },
  {
   "cell_type": "code",
   "execution_count": 4,
   "id": "93c884ff",
   "metadata": {},
   "outputs": [],
   "source": [
    "qnet = Qnet()\n",
    "optim = torch.optim.Adam(qnet.parameters(), lr=4e-4)"
   ]
  },
  {
   "cell_type": "code",
   "execution_count": 5,
   "id": "2fc2b5ee",
   "metadata": {},
   "outputs": [],
   "source": [
    "dqn = DQN(env, 2, qnet, optim)"
   ]
  },
  {
   "cell_type": "code",
   "execution_count": 6,
   "id": "987eb4e2",
   "metadata": {},
   "outputs": [
    {
     "name": "stderr",
     "output_type": "stream",
     "text": [
      "c:\\Users\\esder\\AppData\\Local\\Programs\\Python\\Python38\\lib\\site-packages\\gym\\utils\\passive_env_checker.py:233: DeprecationWarning: `np.bool8` is a deprecated alias for `np.bool_`.  (Deprecated NumPy 1.24)\n",
      "  if not isinstance(terminated, (bool, np.bool8)):\n"
     ]
    },
    {
     "name": "stdout",
     "output_type": "stream",
     "text": [
      "step: 252, score: 12.6, n_buffer: 252, eps:  7.9\n",
      "step: 450, score: 9.9, n_buffer: 450, eps:  7.8\n",
      "step: 650, score: 10.0, n_buffer: 650, eps:  7.7\n",
      "step: 858, score: 10.4, n_buffer: 858, eps:  7.6\n",
      "step: 1113, score: 12.75, n_buffer: 1113, eps:  7.5\n",
      "step: 1515, score: 20.1, n_buffer: 1515, eps:  7.4\n",
      "step: 2532, score: 50.85, n_buffer: 2532, eps:  7.3\n",
      "step: 4110, score: 78.9, n_buffer: 4110, eps:  7.2\n"
     ]
    }
   ],
   "source": [
    "dqn.train(5000, 10, 10)"
   ]
  },
  {
   "cell_type": "code",
   "execution_count": null,
   "id": "c6320dcb",
   "metadata": {},
   "outputs": [],
   "source": [
    "env.close()"
   ]
  },
  {
   "cell_type": "code",
   "execution_count": null,
   "id": "029963fc",
   "metadata": {},
   "outputs": [],
   "source": []
  }
 ],
 "metadata": {
  "kernelspec": {
   "display_name": "Python 3 (ipykernel)",
   "language": "python",
   "name": "python3"
  },
  "language_info": {
   "codemirror_mode": {
    "name": "ipython",
    "version": 3
   },
   "file_extension": ".py",
   "mimetype": "text/x-python",
   "name": "python",
   "nbconvert_exporter": "python",
   "pygments_lexer": "ipython3",
   "version": "3.8.10"
  }
 },
 "nbformat": 4,
 "nbformat_minor": 5
}
