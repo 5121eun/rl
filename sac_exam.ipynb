{
 "cells": [
  {
   "cell_type": "code",
   "execution_count": 1,
   "id": "fde1c2b7",
   "metadata": {},
   "outputs": [],
   "source": [
    "import gym\n",
    "import torch\n",
    "import torch.nn as nn\n",
    "import torch.nn.functional as F\n",
    "from torch.distributions import Normal\n",
    "\n",
    "from models.sac import SAC\n"
   ]
  },
  {
   "cell_type": "code",
   "execution_count": 2,
   "id": "62a6c899",
   "metadata": {},
   "outputs": [],
   "source": [
    "class Actor(nn.Module):\n",
    "    def __init__(self, n_sts: int, n_acts: int, dim: int):\n",
    "        super(Actor, self).__init__()\n",
    "                \n",
    "        self.fc1 = nn.Linear(n_sts, dim)\n",
    "        self.fc_mu = nn.Linear(dim, n_acts)\n",
    "        self.fc_std = nn.Linear(dim, n_acts)\n",
    "        \n",
    "        self.relu1 = nn.ReLU()\n",
    "        self.relu2 = nn.ReLU()\n",
    "    \n",
    "    def forward(self, x):\n",
    "        x = self.relu1(self.fc1(x))\n",
    "        mu = self.fc_mu(x)\n",
    "        std = F.softplus(self.fc_std(x))\n",
    "        dist = Normal(mu, std)\n",
    "        act = dist.rsample()\n",
    "        log_prob = dist.log_prob(act)\n",
    "        real_act = torch.tanh(act)\n",
    "        real_log_prob = log_prob - torch.log(1 - torch.tanh(act).pow(2) + 1e-7)\n",
    "\n",
    "        return real_act, real_log_prob"
   ]
  },
  {
   "cell_type": "code",
   "execution_count": 3,
   "id": "6c198beb",
   "metadata": {},
   "outputs": [],
   "source": [
    "class QCritic(nn.Module): \n",
    "    def __init__(self, n_sts: int, act_dim: int, dim: int):\n",
    "        super(QCritic, self).__init__()\n",
    "                \n",
    "        self.fc1 = nn.Linear(n_sts + act_dim, dim)\n",
    "        self.fc2 = nn.Linear(dim, 1)\n",
    "        \n",
    "        self.relu1 = nn.ReLU()\n",
    "        self.relu2 = nn.ReLU()\n",
    "                \n",
    "    def forward(self, xs):\n",
    "        x, a = xs\n",
    "        \n",
    "        x = self.relu1(self.fc1(torch.cat([x, a], 1)))\n",
    "        x = self.fc2(x)\n",
    "        \n",
    "        return x"
   ]
  },
  {
   "cell_type": "code",
   "execution_count": 4,
   "id": "98f77919",
   "metadata": {},
   "outputs": [],
   "source": [
    "lr = 3e-4\n",
    "tau = 5e-3\n",
    "eps = 0\n",
    "gamma = 0.99\n",
    "\n",
    "n_sts = 3\n",
    "n_acts = 1\n",
    "act_dim = 1\n",
    "\n",
    "dim = 256\n",
    "\n",
    "n_epis = 5000\n",
    "n_epochs = 200\n",
    "n_rollout = 10"
   ]
  },
  {
   "cell_type": "code",
   "execution_count": 5,
   "id": "eb456073",
   "metadata": {},
   "outputs": [],
   "source": [
    "act = Actor(n_sts, n_acts, dim)\n",
    "act_opt = torch.optim.Adam(act.parameters(), lr=lr)\n",
    "\n",
    "qcri1 = QCritic(n_sts, act_dim, dim)\n",
    "qcri1_opt = torch.optim.Adam(qcri1.parameters(), lr=lr)\n",
    "\n",
    "qcri2 = QCritic(n_sts, act_dim, dim)\n",
    "qcri2_opt = torch.optim.Adam(qcri2.parameters(), lr=lr)"
   ]
  },
  {
   "cell_type": "code",
   "execution_count": 6,
   "id": "7502440a",
   "metadata": {},
   "outputs": [],
   "source": [
    "env = gym.make('Pendulum-v1', render_mode='human')\n",
    "model = SAC(env, n_acts, act, act_opt, qcri1, qcri1_opt, qcri2, qcri2_opt, eps=eps, tau=tau)"
   ]
  },
  {
   "cell_type": "code",
   "execution_count": 7,
   "id": "a93b8496",
   "metadata": {},
   "outputs": [
    {
     "name": "stderr",
     "output_type": "stream",
     "text": [
      "c:\\Users\\esder\\AppData\\Local\\Programs\\Python\\Python38\\lib\\site-packages\\gym\\utils\\passive_env_checker.py:233: DeprecationWarning: `np.bool8` is a deprecated alias for `np.bool_`.  (Deprecated NumPy 1.24)\n",
      "  if not isinstance(terminated, (bool, np.bool8)):\n"
     ]
    },
    {
     "name": "stdout",
     "output_type": "stream",
     "text": [
      "epoch: 20, score: -64.13648159973475, n_buffer: 210\n",
      "epoch: 40, score: -52.92937834151445, n_buffer: 410\n",
      "epoch: 60, score: -41.696200221659566, n_buffer: 610\n",
      "epoch: 80, score: -58.82456159709818, n_buffer: 810\n",
      "epoch: 100, score: -66.86227389648458, n_buffer: 1010\n",
      "epoch: 120, score: -79.32069995866993, n_buffer: 1210\n",
      "epoch: 140, score: -86.17706800487332, n_buffer: 1410\n",
      "epoch: 160, score: -79.82899974138819, n_buffer: 1610\n",
      "epoch: 180, score: -60.092811070502684, n_buffer: 1810\n",
      "epoch: 20, score: -89.74770327858913, n_buffer: 2210\n",
      "epoch: 40, score: -69.73131623657692, n_buffer: 2410\n",
      "epoch: 60, score: -51.585045024356916, n_buffer: 2610\n",
      "epoch: 80, score: -46.43415282824772, n_buffer: 2810\n",
      "epoch: 100, score: -53.36373234258218, n_buffer: 3010\n",
      "epoch: 120, score: -54.11443092429903, n_buffer: 3210\n",
      "epoch: 140, score: -58.02501913033817, n_buffer: 3410\n",
      "epoch: 160, score: -53.99338702117582, n_buffer: 3610\n",
      "epoch: 180, score: -57.75669883516524, n_buffer: 3810\n",
      "epoch: 20, score: -31.517025435513006, n_buffer: 4210\n",
      "epoch: 40, score: -38.14426533977091, n_buffer: 4410\n",
      "epoch: 60, score: -38.015534990145994, n_buffer: 4610\n",
      "epoch: 80, score: -38.32373196049079, n_buffer: 4810\n",
      "epoch: 100, score: -38.29083983947711, n_buffer: 5010\n",
      "epoch: 120, score: -44.395509295143555, n_buffer: 5210\n",
      "epoch: 140, score: -39.18158576616075, n_buffer: 5410\n",
      "epoch: 160, score: -39.36480854311862, n_buffer: 5610\n",
      "epoch: 180, score: -42.218046834839136, n_buffer: 5810\n",
      "epoch: 20, score: -37.848021201443586, n_buffer: 6210\n",
      "epoch: 40, score: -38.84118441460501, n_buffer: 6410\n",
      "epoch: 60, score: -38.09427040691055, n_buffer: 6610\n",
      "epoch: 80, score: -44.013775428101056, n_buffer: 6810\n",
      "epoch: 100, score: -39.95424187789033, n_buffer: 7010\n",
      "epoch: 120, score: -43.334613778269656, n_buffer: 7210\n",
      "epoch: 140, score: -40.15061699628292, n_buffer: 7410\n",
      "epoch: 160, score: -41.56800721099718, n_buffer: 7610\n",
      "epoch: 180, score: -39.58338447368263, n_buffer: 7810\n",
      "epoch: 20, score: -43.79054883400096, n_buffer: 8210\n",
      "epoch: 40, score: -37.3751803984788, n_buffer: 8410\n",
      "epoch: 60, score: -38.27031808892708, n_buffer: 8610\n",
      "epoch: 80, score: -39.39805552329157, n_buffer: 8810\n",
      "epoch: 100, score: -38.55869244280761, n_buffer: 9010\n",
      "epoch: 120, score: -40.37481148656172, n_buffer: 9210\n",
      "epoch: 140, score: -34.543925151490996, n_buffer: 9410\n",
      "epoch: 160, score: -38.04502463094211, n_buffer: 9610\n",
      "epoch: 180, score: -38.148193112567064, n_buffer: 9810\n",
      "epoch: 20, score: -38.030689877695835, n_buffer: 9999\n",
      "epoch: 40, score: -38.07091184666659, n_buffer: 9999\n",
      "epoch: 60, score: -38.136440930678376, n_buffer: 9999\n",
      "epoch: 80, score: -38.164072695665226, n_buffer: 9999\n",
      "epoch: 100, score: -38.28152206767933, n_buffer: 9999\n",
      "epoch: 120, score: -38.314474237747085, n_buffer: 9999\n",
      "epoch: 140, score: -31.831763685774053, n_buffer: 9999\n",
      "epoch: 160, score: -32.49295093277734, n_buffer: 9999\n",
      "epoch: 180, score: -35.01898656268192, n_buffer: 9999\n",
      "epoch: 20, score: -33.181803394645954, n_buffer: 9999\n",
      "epoch: 40, score: -35.6322439894555, n_buffer: 9999\n",
      "epoch: 60, score: -36.93302511709373, n_buffer: 9999\n",
      "epoch: 80, score: -31.431492475164607, n_buffer: 9999\n",
      "epoch: 100, score: -31.766912277546925, n_buffer: 9999\n",
      "epoch: 120, score: -38.337041450998015, n_buffer: 9999\n",
      "epoch: 140, score: -36.109742672360824, n_buffer: 9999\n",
      "epoch: 160, score: -37.73626676312731, n_buffer: 9999\n",
      "epoch: 180, score: -36.80875898018341, n_buffer: 9999\n",
      "epoch: 20, score: -33.44751512889384, n_buffer: 9999\n",
      "epoch: 40, score: -29.52880754628439, n_buffer: 9999\n",
      "epoch: 60, score: -31.00206557230711, n_buffer: 9999\n",
      "epoch: 80, score: -31.03127267541379, n_buffer: 9999\n",
      "epoch: 100, score: -25.449159119930904, n_buffer: 9999\n",
      "epoch: 120, score: -31.2995198153307, n_buffer: 9999\n",
      "epoch: 140, score: -25.215900667148816, n_buffer: 9999\n",
      "epoch: 160, score: -26.085862554485026, n_buffer: 9999\n",
      "epoch: 180, score: -29.56625959854867, n_buffer: 9999\n"
     ]
    }
   ],
   "source": [
    "model.train(n_epis, n_epochs, n_rollout)"
   ]
  },
  {
   "cell_type": "code",
   "execution_count": 62,
   "id": "811cf205",
   "metadata": {},
   "outputs": [],
   "source": [
    "env.close()\n",
    "## TODO update interval이랑 train interval 정하기, TD exam 고치기"
   ]
  },
  {
   "cell_type": "code",
   "execution_count": null,
   "id": "84e1eeed",
   "metadata": {},
   "outputs": [],
   "source": []
  }
 ],
 "metadata": {
  "kernelspec": {
   "display_name": "Python 3 (ipykernel)",
   "language": "python",
   "name": "python3"
  },
  "language_info": {
   "codemirror_mode": {
    "name": "ipython",
    "version": 3
   },
   "file_extension": ".py",
   "mimetype": "text/x-python",
   "name": "python",
   "nbconvert_exporter": "python",
   "pygments_lexer": "ipython3",
   "version": "3.8.10"
  }
 },
 "nbformat": 4,
 "nbformat_minor": 5
}
