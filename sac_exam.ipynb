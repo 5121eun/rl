{
 "cells": [
  {
   "cell_type": "code",
   "execution_count": 4,
   "id": "fde1c2b7",
   "metadata": {},
   "outputs": [],
   "source": [
    "import gym\n",
    "import torch\n",
    "import torch.nn as nn\n",
    "import torch.nn.functional as F\n",
    "from torch.distributions import Normal\n",
    "\n",
    "from models.sac import SAC\n"
   ]
  },
  {
   "cell_type": "code",
   "execution_count": 5,
   "id": "62a6c899",
   "metadata": {},
   "outputs": [],
   "source": [
    "class Actor(nn.Module):\n",
    "    def __init__(self, n_sts: int, n_acts: int, dim: int):\n",
    "        super(Actor, self).__init__()\n",
    "                \n",
    "        self.fc1 = nn.Linear(n_sts, dim)\n",
    "        self.fc_mu = nn.Linear(dim, n_acts)\n",
    "        self.fc_std = nn.Linear(dim, n_acts)\n",
    "        \n",
    "        self.relu1 = nn.ReLU()\n",
    "        self.relu2 = nn.ReLU()\n",
    "    \n",
    "    def forward(self, x):\n",
    "        x = self.relu1(self.fc1(x))\n",
    "        mu = self.fc_mu(x)\n",
    "        std = F.softplus(self.fc_std(x))\n",
    "        dist = Normal(mu, std)\n",
    "        act = dist.rsample()\n",
    "        log_prob = dist.log_prob(act)\n",
    "        real_act = torch.tanh(act) * 2\n",
    "        real_log_prob = log_prob - torch.log(1 - torch.tanh(act).pow(2) + 1e-7)\n",
    "\n",
    "        return real_act, real_log_prob"
   ]
  },
  {
   "cell_type": "code",
   "execution_count": 6,
   "id": "6c198beb",
   "metadata": {},
   "outputs": [],
   "source": [
    "class QCritic(nn.Module): \n",
    "    def __init__(self, n_sts: int, act_dim: int, dim: int):\n",
    "        super(QCritic, self).__init__()\n",
    "                \n",
    "        self.fc1 = nn.Linear(n_sts + act_dim, dim)\n",
    "        self.fc2 = nn.Linear(dim, 1)\n",
    "        \n",
    "        self.relu1 = nn.ReLU()\n",
    "        self.relu2 = nn.ReLU()\n",
    "                \n",
    "    def forward(self, xs):\n",
    "        x, a = xs\n",
    "        \n",
    "        x = self.relu1(self.fc1(torch.cat([x, a], 1)))\n",
    "        x = self.fc2(x)\n",
    "        \n",
    "        return x"
   ]
  },
  {
   "cell_type": "code",
   "execution_count": 7,
   "id": "98f77919",
   "metadata": {},
   "outputs": [],
   "source": [
    "lr = 3e-4\n",
    "tau = 5e-3\n",
    "eps = 0\n",
    "gamma = 0.99\n",
    "\n",
    "n_sts = 3\n",
    "n_acts = 1\n",
    "act_dim = 1\n",
    "\n",
    "dim = 256\n",
    "\n",
    "n_epis = 5000\n",
    "n_epochs = 200\n",
    "n_rollout = 10"
   ]
  },
  {
   "cell_type": "code",
   "execution_count": 8,
   "id": "eb456073",
   "metadata": {},
   "outputs": [],
   "source": [
    "act = Actor(n_sts, n_acts, dim)\n",
    "act_opt = torch.optim.Adam(act.parameters(), lr=lr)\n",
    "\n",
    "qcri1 = QCritic(n_sts, act_dim, dim)\n",
    "qcri1_opt = torch.optim.Adam(qcri1.parameters(), lr=lr)\n",
    "\n",
    "qcri2 = QCritic(n_sts, act_dim, dim)\n",
    "qcri2_opt = torch.optim.Adam(qcri2.parameters(), lr=lr)"
   ]
  },
  {
   "cell_type": "code",
   "execution_count": 9,
   "id": "7502440a",
   "metadata": {},
   "outputs": [],
   "source": [
    "env = gym.make('Pendulum-v1', render_mode='human')\n",
    "model = SAC(env, n_acts, act, act_opt, qcri1, qcri1_opt, qcri2, qcri2_opt, eps=eps, tau=tau)"
   ]
  },
  {
   "cell_type": "code",
   "execution_count": 10,
   "id": "a93b8496",
   "metadata": {},
   "outputs": [
    {
     "name": "stderr",
     "output_type": "stream",
     "text": [
      "c:\\Users\\esder\\AppData\\Local\\Programs\\Python\\Python38\\lib\\site-packages\\gym\\utils\\passive_env_checker.py:233: DeprecationWarning: `np.bool8` is a deprecated alias for `np.bool_`.  (Deprecated NumPy 1.24)\n",
      "  if not isinstance(terminated, (bool, np.bool8)):\n"
     ]
    },
    {
     "name": "stdout",
     "output_type": "stream",
     "text": [
      "epoch: 20, score: -56.10298844918289, n_buffer: 210\n",
      "epoch: 40, score: -61.95893523914547, n_buffer: 410\n",
      "epoch: 60, score: -53.00159818332821, n_buffer: 610\n",
      "epoch: 80, score: -85.63001939505803, n_buffer: 810\n",
      "epoch: 100, score: -90.17497053088728, n_buffer: 1010\n",
      "epoch: 120, score: -80.88523486662467, n_buffer: 1210\n",
      "epoch: 140, score: -76.63164429429561, n_buffer: 1410\n",
      "epoch: 160, score: -76.59726817762666, n_buffer: 1610\n",
      "epoch: 180, score: -76.74321542752982, n_buffer: 1810\n",
      "epoch: 20, score: -76.14157654734154, n_buffer: 2210\n",
      "epoch: 40, score: -81.00972252153288, n_buffer: 2410\n",
      "epoch: 60, score: -83.4808207808425, n_buffer: 2610\n",
      "epoch: 80, score: -78.42742285875218, n_buffer: 2810\n",
      "epoch: 100, score: -78.02568635255966, n_buffer: 3010\n",
      "epoch: 120, score: -77.39601792142585, n_buffer: 3210\n",
      "epoch: 140, score: -76.28236015951241, n_buffer: 3410\n",
      "epoch: 160, score: -71.90415285672267, n_buffer: 3610\n",
      "epoch: 180, score: -70.31819484062588, n_buffer: 3810\n",
      "epoch: 20, score: -50.561642016117375, n_buffer: 4210\n",
      "epoch: 40, score: -46.55471147732334, n_buffer: 4410\n",
      "epoch: 60, score: -45.54487345092277, n_buffer: 4610\n",
      "epoch: 80, score: -45.31690519144262, n_buffer: 4810\n",
      "epoch: 100, score: -40.02370675901968, n_buffer: 5010\n",
      "epoch: 120, score: -43.894413198228875, n_buffer: 5210\n",
      "epoch: 140, score: -38.34027913175832, n_buffer: 5410\n",
      "epoch: 160, score: -32.25501422716259, n_buffer: 5610\n",
      "epoch: 180, score: -37.21624069971321, n_buffer: 5810\n",
      "epoch: 20, score: -37.61978086277956, n_buffer: 6210\n",
      "epoch: 40, score: -36.104409151036336, n_buffer: 6410\n",
      "epoch: 60, score: -31.90240214322251, n_buffer: 6610\n",
      "epoch: 80, score: -36.76827741491311, n_buffer: 6810\n",
      "epoch: 100, score: -31.977669085938082, n_buffer: 7010\n",
      "epoch: 120, score: -42.22930690271261, n_buffer: 7210\n",
      "epoch: 140, score: -31.527647930642264, n_buffer: 7410\n",
      "epoch: 160, score: -31.618383520183365, n_buffer: 7610\n",
      "epoch: 180, score: -36.914367708981295, n_buffer: 7810\n",
      "epoch: 20, score: -41.11027015570821, n_buffer: 8210\n",
      "epoch: 40, score: -41.80774934773062, n_buffer: 8410\n",
      "epoch: 60, score: -34.02595917261148, n_buffer: 8610\n",
      "epoch: 80, score: -37.275326800157686, n_buffer: 8810\n",
      "epoch: 100, score: -37.00391881257045, n_buffer: 9010\n",
      "epoch: 120, score: -37.408909524576536, n_buffer: 9210\n",
      "epoch: 140, score: -31.213343868860687, n_buffer: 9410\n",
      "epoch: 160, score: -37.20542953835226, n_buffer: 9610\n",
      "epoch: 180, score: -31.388967266789102, n_buffer: 9810\n",
      "epoch: 20, score: -26.695469491258002, n_buffer: 9999\n",
      "epoch: 40, score: -29.89843191237628, n_buffer: 9999\n",
      "epoch: 60, score: -25.612945583596463, n_buffer: 9999\n",
      "epoch: 80, score: -31.292845074343383, n_buffer: 9999\n",
      "epoch: 100, score: -29.957121082978954, n_buffer: 9999\n",
      "epoch: 120, score: -32.31809638669437, n_buffer: 9999\n",
      "epoch: 140, score: -26.285034185965053, n_buffer: 9999\n",
      "epoch: 160, score: -25.393298048502608, n_buffer: 9999\n",
      "epoch: 180, score: -25.334279003874236, n_buffer: 9999\n",
      "epoch: 20, score: -33.14381322432013, n_buffer: 9999\n",
      "epoch: 40, score: -30.38692473333027, n_buffer: 9999\n",
      "epoch: 60, score: -25.511003495525976, n_buffer: 9999\n",
      "epoch: 80, score: -31.29507496713673, n_buffer: 9999\n",
      "epoch: 100, score: -19.381900876919623, n_buffer: 9999\n",
      "epoch: 120, score: -25.82446618281174, n_buffer: 9999\n",
      "epoch: 140, score: -25.65617109396506, n_buffer: 9999\n",
      "epoch: 160, score: -30.23485162574402, n_buffer: 9999\n",
      "epoch: 180, score: -20.836249683011058, n_buffer: 9999\n",
      "epoch: 20, score: -31.580199934796106, n_buffer: 9999\n",
      "epoch: 40, score: -18.94732460747121, n_buffer: 9999\n",
      "epoch: 60, score: -19.120499502668856, n_buffer: 9999\n",
      "epoch: 80, score: -12.858578794717186, n_buffer: 9999\n",
      "epoch: 100, score: -12.796150193874839, n_buffer: 9999\n",
      "epoch: 120, score: -12.772128547883645, n_buffer: 9999\n",
      "epoch: 140, score: -6.382862267267274, n_buffer: 9999\n",
      "epoch: 160, score: -0.008830624775668955, n_buffer: 9999\n",
      "epoch: 180, score: -0.00569930967935124, n_buffer: 9999\n",
      "epoch: 20, score: -13.462058990965753, n_buffer: 9999\n",
      "epoch: 40, score: -0.036787690074936756, n_buffer: 9999\n",
      "epoch: 60, score: -0.036767231939854636, n_buffer: 9999\n",
      "epoch: 80, score: -0.04059535101591798, n_buffer: 9999\n",
      "epoch: 100, score: -0.04463704756720075, n_buffer: 9999\n",
      "epoch: 120, score: -0.04294621457262814, n_buffer: 9999\n",
      "epoch: 140, score: -0.03320729582674288, n_buffer: 9999\n",
      "epoch: 160, score: -0.037403189952437924, n_buffer: 9999\n",
      "epoch: 180, score: -0.04145772567112988, n_buffer: 9999\n"
     ]
    },
    {
     "ename": "KeyboardInterrupt",
     "evalue": "",
     "output_type": "error",
     "traceback": [
      "\u001b[1;31m---------------------------------------------------------------------------\u001b[0m",
      "\u001b[1;31mKeyboardInterrupt\u001b[0m                         Traceback (most recent call last)",
      "Cell \u001b[1;32mIn[10], line 1\u001b[0m\n\u001b[1;32m----> 1\u001b[0m model\u001b[39m.\u001b[39;49mtrain(n_epis, n_epochs, n_rollout)\n",
      "File \u001b[1;32mc:\\Users\\esder\\Desktop\\github\\rl\\models\\sac.py:74\u001b[0m, in \u001b[0;36mSAC.train\u001b[1;34m(self, n_epis, n_epochs, n_rollout, n_update, print_interval)\u001b[0m\n\u001b[0;32m     71\u001b[0m         \u001b[39mbreak\u001b[39;00m\n\u001b[0;32m     73\u001b[0m \u001b[39mfor\u001b[39;00m t \u001b[39min\u001b[39;00m \u001b[39mrange\u001b[39m(n_update):\n\u001b[1;32m---> 74\u001b[0m     \u001b[39mself\u001b[39;49m\u001b[39m.\u001b[39;49mupdate()\n\u001b[0;32m     76\u001b[0m \u001b[39mif\u001b[39;00m epoch \u001b[39m%\u001b[39m print_interval \u001b[39m==\u001b[39m \u001b[39m0\u001b[39m \u001b[39mand\u001b[39;00m epoch \u001b[39m!=\u001b[39m \u001b[39m0\u001b[39m:\n\u001b[0;32m     77\u001b[0m     \u001b[39mprint\u001b[39m(\u001b[39mf\u001b[39m\u001b[39m\"\u001b[39m\u001b[39mepoch: \u001b[39m\u001b[39m{\u001b[39;00mepoch\u001b[39m}\u001b[39;00m\u001b[39m, score: \u001b[39m\u001b[39m{\u001b[39;00mscore\u001b[39m \u001b[39m\u001b[39m/\u001b[39m\u001b[39m \u001b[39mprint_interval\u001b[39m}\u001b[39;00m\u001b[39m, n_buffer: \u001b[39m\u001b[39m{\u001b[39;00m\u001b[39mself\u001b[39m\u001b[39m.\u001b[39mbuffer\u001b[39m.\u001b[39msize()\u001b[39m}\u001b[39;00m\u001b[39m\"\u001b[39m)\n",
      "File \u001b[1;32mc:\\Users\\esder\\Desktop\\github\\rl\\models\\sac.py:105\u001b[0m, in \u001b[0;36mSAC.update\u001b[1;34m(self)\u001b[0m\n\u001b[0;32m    103\u001b[0m act_ls \u001b[39m=\u001b[39m \u001b[39m-\u001b[39m (q_min \u001b[39m+\u001b[39m entorpy)\u001b[39m.\u001b[39mmean()\n\u001b[0;32m    104\u001b[0m \u001b[39mself\u001b[39m\u001b[39m.\u001b[39mact_opt\u001b[39m.\u001b[39mzero_grad()\n\u001b[1;32m--> 105\u001b[0m act_ls\u001b[39m.\u001b[39;49mbackward()\n\u001b[0;32m    106\u001b[0m \u001b[39mself\u001b[39m\u001b[39m.\u001b[39mact_opt\u001b[39m.\u001b[39mstep()\n\u001b[0;32m    108\u001b[0m log_alpha_ls \u001b[39m=\u001b[39m \u001b[39m-\u001b[39m (\u001b[39mself\u001b[39m\u001b[39m.\u001b[39mlog_alpha\u001b[39m.\u001b[39mexp() \u001b[39m*\u001b[39m (cur_a_log_prob \u001b[39m+\u001b[39m \u001b[39mself\u001b[39m\u001b[39m.\u001b[39mtarget_entropy)\u001b[39m.\u001b[39mdetach())\u001b[39m.\u001b[39mmean()\n",
      "File \u001b[1;32mc:\\Users\\esder\\AppData\\Local\\Programs\\Python\\Python38\\lib\\site-packages\\torch\\_tensor.py:487\u001b[0m, in \u001b[0;36mTensor.backward\u001b[1;34m(self, gradient, retain_graph, create_graph, inputs)\u001b[0m\n\u001b[0;32m    477\u001b[0m \u001b[39mif\u001b[39;00m has_torch_function_unary(\u001b[39mself\u001b[39m):\n\u001b[0;32m    478\u001b[0m     \u001b[39mreturn\u001b[39;00m handle_torch_function(\n\u001b[0;32m    479\u001b[0m         Tensor\u001b[39m.\u001b[39mbackward,\n\u001b[0;32m    480\u001b[0m         (\u001b[39mself\u001b[39m,),\n\u001b[1;32m   (...)\u001b[0m\n\u001b[0;32m    485\u001b[0m         inputs\u001b[39m=\u001b[39minputs,\n\u001b[0;32m    486\u001b[0m     )\n\u001b[1;32m--> 487\u001b[0m torch\u001b[39m.\u001b[39;49mautograd\u001b[39m.\u001b[39;49mbackward(\n\u001b[0;32m    488\u001b[0m     \u001b[39mself\u001b[39;49m, gradient, retain_graph, create_graph, inputs\u001b[39m=\u001b[39;49minputs\n\u001b[0;32m    489\u001b[0m )\n",
      "File \u001b[1;32mc:\\Users\\esder\\AppData\\Local\\Programs\\Python\\Python38\\lib\\site-packages\\torch\\autograd\\__init__.py:200\u001b[0m, in \u001b[0;36mbackward\u001b[1;34m(tensors, grad_tensors, retain_graph, create_graph, grad_variables, inputs)\u001b[0m\n\u001b[0;32m    195\u001b[0m     retain_graph \u001b[39m=\u001b[39m create_graph\n\u001b[0;32m    197\u001b[0m \u001b[39m# The reason we repeat same the comment below is that\u001b[39;00m\n\u001b[0;32m    198\u001b[0m \u001b[39m# some Python versions print out the first line of a multi-line function\u001b[39;00m\n\u001b[0;32m    199\u001b[0m \u001b[39m# calls in the traceback and some print out the last line\u001b[39;00m\n\u001b[1;32m--> 200\u001b[0m Variable\u001b[39m.\u001b[39;49m_execution_engine\u001b[39m.\u001b[39;49mrun_backward(  \u001b[39m# Calls into the C++ engine to run the backward pass\u001b[39;49;00m\n\u001b[0;32m    201\u001b[0m     tensors, grad_tensors_, retain_graph, create_graph, inputs,\n\u001b[0;32m    202\u001b[0m     allow_unreachable\u001b[39m=\u001b[39;49m\u001b[39mTrue\u001b[39;49;00m, accumulate_grad\u001b[39m=\u001b[39;49m\u001b[39mTrue\u001b[39;49;00m)\n",
      "\u001b[1;31mKeyboardInterrupt\u001b[0m: "
     ]
    }
   ],
   "source": [
    "model.train(n_epis, n_epochs, n_rollout)"
   ]
  },
  {
   "cell_type": "code",
   "execution_count": null,
   "id": "811cf205",
   "metadata": {},
   "outputs": [],
   "source": [
    "env.close()\n",
    "## TODO update interval이랑 train interval 정하기, TD exam 고치기"
   ]
  },
  {
   "cell_type": "code",
   "execution_count": null,
   "id": "84e1eeed",
   "metadata": {},
   "outputs": [],
   "source": []
  }
 ],
 "metadata": {
  "kernelspec": {
   "display_name": "Python 3 (ipykernel)",
   "language": "python",
   "name": "python3"
  },
  "language_info": {
   "codemirror_mode": {
    "name": "ipython",
    "version": 3
   },
   "file_extension": ".py",
   "mimetype": "text/x-python",
   "name": "python",
   "nbconvert_exporter": "python",
   "pygments_lexer": "ipython3",
   "version": "3.8.10"
  }
 },
 "nbformat": 4,
 "nbformat_minor": 5
}
