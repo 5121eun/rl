{
 "cells": [
  {
   "cell_type": "code",
   "execution_count": 1,
   "id": "fde1c2b7",
   "metadata": {},
   "outputs": [],
   "source": [
    "import gym\n",
    "import torch\n",
    "import torch.nn as nn\n",
    "import torch.nn.functional as F\n",
    "from torch.distributions import Normal\n",
    "\n",
    "from models.sac import SAC\n"
   ]
  },
  {
   "cell_type": "code",
   "execution_count": 2,
   "id": "62a6c899",
   "metadata": {},
   "outputs": [],
   "source": [
    "class Actor(nn.Module):\n",
    "    def __init__(self, n_sts: int, n_acts: int, dim: int):\n",
    "        super(Actor, self).__init__()\n",
    "                \n",
    "        self.fc1 = nn.Linear(n_sts, dim)\n",
    "        self.fc_mu = nn.Linear(dim, n_acts)\n",
    "        self.fc_std = nn.Linear(dim, n_acts)\n",
    "        \n",
    "        self.relu1 = nn.ReLU()\n",
    "        self.relu2 = nn.ReLU()\n",
    "    \n",
    "    def forward(self, x):\n",
    "        x = self.relu1(self.fc1(x))\n",
    "        mu = self.fc_mu(x)\n",
    "        std = F.softplus(self.fc_std(x))\n",
    "        dist = Normal(mu, std)\n",
    "        act = dist.rsample()\n",
    "        log_prob = dist.log_prob(act)\n",
    "        real_act = torch.tanh(act) * 2\n",
    "        real_log_prob = log_prob - torch.log(1 - torch.tanh(act).pow(2) + 1e-7)\n",
    "\n",
    "        return real_act, real_log_prob"
   ]
  },
  {
   "cell_type": "code",
   "execution_count": 3,
   "id": "6c198beb",
   "metadata": {},
   "outputs": [],
   "source": [
    "class QCritic(nn.Module): \n",
    "    def __init__(self, n_sts: int, act_dim: int, dim: int):\n",
    "        super(QCritic, self).__init__()\n",
    "                \n",
    "        self.fc1 = nn.Linear(n_sts + act_dim, dim)\n",
    "        self.fc2 = nn.Linear(dim, 1)\n",
    "        \n",
    "        self.relu1 = nn.ReLU()\n",
    "        self.relu2 = nn.ReLU()\n",
    "                \n",
    "    def forward(self, xs):\n",
    "        x, a = xs\n",
    "        \n",
    "        x = self.relu1(self.fc1(torch.cat([x, a], 1)))\n",
    "        x = self.fc2(x)\n",
    "        \n",
    "        return x"
   ]
  },
  {
   "cell_type": "code",
   "execution_count": 4,
   "id": "98f77919",
   "metadata": {},
   "outputs": [],
   "source": [
    "lr = 3e-4\n",
    "tau = 5e-3\n",
    "eps = 0\n",
    "gamma = 0.99\n",
    "\n",
    "n_sts = 3\n",
    "n_acts = 1\n",
    "act_dim = 1\n",
    "\n",
    "dim = 256\n",
    "\n",
    "n_epis = 5000\n",
    "n_epochs = 200\n",
    "n_rollout = 10"
   ]
  },
  {
   "cell_type": "code",
   "execution_count": 5,
   "id": "eb456073",
   "metadata": {},
   "outputs": [],
   "source": [
    "act = Actor(n_sts, n_acts, dim)\n",
    "act_opt = torch.optim.Adam(act.parameters(), lr=lr)\n",
    "\n",
    "qcri1 = QCritic(n_sts, act_dim, dim)\n",
    "qcri1_opt = torch.optim.Adam(qcri1.parameters(), lr=lr)\n",
    "\n",
    "qcri2 = QCritic(n_sts, act_dim, dim)\n",
    "qcri2_opt = torch.optim.Adam(qcri2.parameters(), lr=lr)"
   ]
  },
  {
   "cell_type": "code",
   "execution_count": 6,
   "id": "7502440a",
   "metadata": {},
   "outputs": [],
   "source": [
    "env = gym.make('Pendulum-v1', render_mode='human')\n",
    "model = SAC(env, n_acts, act, act_opt, qcri1, qcri1_opt, qcri2, qcri2_opt, eps=eps, tau=tau)"
   ]
  },
  {
   "cell_type": "code",
   "execution_count": 7,
   "id": "a93b8496",
   "metadata": {},
   "outputs": [
    {
     "name": "stderr",
     "output_type": "stream",
     "text": [
      "c:\\Users\\esder\\AppData\\Local\\Programs\\Python\\Python38\\lib\\site-packages\\gym\\utils\\passive_env_checker.py:233: DeprecationWarning: `np.bool8` is a deprecated alias for `np.bool_`.  (Deprecated NumPy 1.24)\n",
      "  if not isinstance(terminated, (bool, np.bool8)):\n"
     ]
    },
    {
     "name": "stdout",
     "output_type": "stream",
     "text": [
      "step: 210, score: -79.35049449744875, n_buffer: 210\n",
      "step: 410, score: -76.6402867006886, n_buffer: 410\n",
      "step: 610, score: -73.03036679081903, n_buffer: 610\n",
      "step: 810, score: -64.43652783446818, n_buffer: 810\n",
      "step: 1010, score: -59.75235409520313, n_buffer: 1010\n",
      "step: 1210, score: -46.13864840580496, n_buffer: 1210\n",
      "step: 1410, score: -38.12823048642536, n_buffer: 1410\n",
      "step: 1610, score: -50.43755788855604, n_buffer: 1610\n",
      "step: 1810, score: -50.21407512671624, n_buffer: 1810\n",
      "step: 2210, score: -63.233787729835704, n_buffer: 2210\n",
      "step: 2410, score: -77.80509938994824, n_buffer: 2410\n",
      "step: 2610, score: -75.88514561803673, n_buffer: 2610\n",
      "step: 2810, score: -71.65761737424428, n_buffer: 2810\n",
      "step: 3010, score: -70.03864588553242, n_buffer: 3010\n",
      "step: 3210, score: -67.04478083468574, n_buffer: 3210\n",
      "step: 3410, score: -62.28516347462689, n_buffer: 3410\n",
      "step: 3610, score: -61.29148181227839, n_buffer: 3610\n",
      "step: 3810, score: -57.00757985796953, n_buffer: 3810\n",
      "step: 4210, score: -56.34694598999681, n_buffer: 4210\n",
      "step: 4410, score: -48.80869160306659, n_buffer: 4410\n",
      "step: 4610, score: -37.95500845545327, n_buffer: 4610\n",
      "step: 4810, score: -49.39990054076752, n_buffer: 4810\n",
      "step: 5010, score: -62.02188841491676, n_buffer: 5010\n",
      "step: 5210, score: -66.76857777651938, n_buffer: 5210\n",
      "step: 5410, score: -65.72193391871672, n_buffer: 5410\n",
      "step: 5610, score: -58.02242207472666, n_buffer: 5610\n",
      "step: 5810, score: -53.37472076853612, n_buffer: 5810\n",
      "step: 6210, score: -50.65264701546356, n_buffer: 6210\n",
      "step: 6410, score: -52.415843366980596, n_buffer: 6410\n",
      "step: 6610, score: -53.05247787787586, n_buffer: 6610\n",
      "step: 6810, score: -46.75420630607438, n_buffer: 6810\n",
      "step: 7010, score: -50.93621142998374, n_buffer: 7010\n",
      "step: 7210, score: -45.54907143206161, n_buffer: 7210\n",
      "step: 7410, score: -44.73954545824556, n_buffer: 7410\n",
      "step: 7610, score: -37.68751011585743, n_buffer: 7610\n",
      "step: 7810, score: -32.49223400135428, n_buffer: 7810\n",
      "step: 8210, score: -38.59767041978239, n_buffer: 8210\n",
      "step: 8410, score: -38.45450961003901, n_buffer: 8410\n",
      "step: 8610, score: -38.76968957019844, n_buffer: 8610\n",
      "step: 8810, score: -36.490254213646985, n_buffer: 8810\n",
      "step: 9010, score: -41.466493917659506, n_buffer: 9010\n",
      "step: 9210, score: -43.46002272567388, n_buffer: 9210\n",
      "step: 9410, score: -38.72701886592087, n_buffer: 9410\n",
      "step: 9610, score: -33.32612941726241, n_buffer: 9610\n",
      "step: 9810, score: -36.91150546020905, n_buffer: 9810\n",
      "step: 10210, score: -44.32179421852851, n_buffer: 9999\n",
      "step: 10410, score: -37.59186115822793, n_buffer: 9999\n",
      "step: 10610, score: -42.549744557673606, n_buffer: 9999\n",
      "step: 10810, score: -37.76222657581981, n_buffer: 9999\n",
      "step: 11010, score: -38.03086297324366, n_buffer: 9999\n",
      "step: 11210, score: -36.85657039101939, n_buffer: 9999\n",
      "step: 11410, score: -32.3999555884697, n_buffer: 9999\n",
      "step: 11610, score: -35.097660199089276, n_buffer: 9999\n",
      "step: 11810, score: -39.05893838957287, n_buffer: 9999\n",
      "step: 12210, score: -42.31716148093908, n_buffer: 9999\n",
      "step: 12410, score: -32.57321986394326, n_buffer: 9999\n",
      "step: 12610, score: -31.315750687790818, n_buffer: 9999\n",
      "step: 12810, score: -25.462130049292362, n_buffer: 9999\n",
      "step: 13010, score: -31.108748925070813, n_buffer: 9999\n",
      "step: 13210, score: -28.14924530610661, n_buffer: 9999\n",
      "step: 13410, score: -28.51592190037196, n_buffer: 9999\n",
      "step: 13610, score: -24.93544127458446, n_buffer: 9999\n",
      "step: 13810, score: -25.810946081115485, n_buffer: 9999\n",
      "step: 14210, score: -41.78923903101267, n_buffer: 9999\n",
      "step: 14410, score: -25.258991498743125, n_buffer: 9999\n",
      "step: 14610, score: -25.350349399575848, n_buffer: 9999\n",
      "step: 14810, score: -25.048825867721455, n_buffer: 9999\n",
      "step: 15010, score: -24.666139393881384, n_buffer: 9999\n",
      "step: 15210, score: -19.539923628245564, n_buffer: 9999\n",
      "step: 15410, score: -19.16350325013426, n_buffer: 9999\n",
      "step: 15610, score: -25.302049518952167, n_buffer: 9999\n",
      "step: 15810, score: -25.127958541339535, n_buffer: 9999\n",
      "step: 16210, score: -31.53274931031276, n_buffer: 9999\n",
      "step: 16410, score: -19.03715323999854, n_buffer: 9999\n",
      "step: 16610, score: -19.472002749934717, n_buffer: 9999\n",
      "step: 16810, score: -18.579754176156484, n_buffer: 9999\n",
      "step: 17010, score: -18.989248595650434, n_buffer: 9999\n",
      "step: 17210, score: -18.97008064203982, n_buffer: 9999\n",
      "step: 17410, score: -19.074714316646446, n_buffer: 9999\n",
      "step: 17610, score: -12.819467169628618, n_buffer: 9999\n",
      "step: 17810, score: -19.027629786324677, n_buffer: 9999\n",
      "step: 18210, score: -19.193187879729145, n_buffer: 9999\n"
     ]
    },
    {
     "ename": "KeyboardInterrupt",
     "evalue": "",
     "output_type": "error",
     "traceback": [
      "\u001b[1;31m---------------------------------------------------------------------------\u001b[0m",
      "\u001b[1;31mKeyboardInterrupt\u001b[0m                         Traceback (most recent call last)",
      "Cell \u001b[1;32mIn[7], line 1\u001b[0m\n\u001b[1;32m----> 1\u001b[0m model\u001b[39m.\u001b[39;49mtrain(n_epis, n_epochs, n_rollout)\n",
      "File \u001b[1;32mc:\\Users\\esder\\Desktop\\github\\rl\\models\\sac.py:63\u001b[0m, in \u001b[0;36mSAC.train\u001b[1;34m(self, n_epis, n_epochs, n_rollout, n_update, print_interval)\u001b[0m\n\u001b[0;32m     61\u001b[0m \u001b[39mfor\u001b[39;00m t \u001b[39min\u001b[39;00m \u001b[39mrange\u001b[39m(n_rollout):\n\u001b[0;32m     62\u001b[0m     a \u001b[39m=\u001b[39m \u001b[39mself\u001b[39m\u001b[39m.\u001b[39mget_action(s)\n\u001b[1;32m---> 63\u001b[0m     s_p, r, done, _, _ \u001b[39m=\u001b[39m env\u001b[39m.\u001b[39;49mstep(a)\n\u001b[0;32m     64\u001b[0m     d_mask \u001b[39m=\u001b[39m \u001b[39m0.0\u001b[39m \u001b[39mif\u001b[39;00m done \u001b[39melse\u001b[39;00m \u001b[39m1.0\u001b[39m\n\u001b[0;32m     65\u001b[0m     \u001b[39mself\u001b[39m\u001b[39m.\u001b[39mbuffer\u001b[39m.\u001b[39mput((s, a, r\u001b[39m/\u001b[39m\u001b[39m100\u001b[39m, d_mask, s_p))\n",
      "File \u001b[1;32mc:\\Users\\esder\\AppData\\Local\\Programs\\Python\\Python38\\lib\\site-packages\\gym\\wrappers\\time_limit.py:50\u001b[0m, in \u001b[0;36mTimeLimit.step\u001b[1;34m(self, action)\u001b[0m\n\u001b[0;32m     39\u001b[0m \u001b[39mdef\u001b[39;00m \u001b[39mstep\u001b[39m(\u001b[39mself\u001b[39m, action):\n\u001b[0;32m     40\u001b[0m \u001b[39m    \u001b[39m\u001b[39m\"\"\"Steps through the environment and if the number of steps elapsed exceeds ``max_episode_steps`` then truncate.\u001b[39;00m\n\u001b[0;32m     41\u001b[0m \n\u001b[0;32m     42\u001b[0m \u001b[39m    Args:\u001b[39;00m\n\u001b[1;32m   (...)\u001b[0m\n\u001b[0;32m     48\u001b[0m \n\u001b[0;32m     49\u001b[0m \u001b[39m    \"\"\"\u001b[39;00m\n\u001b[1;32m---> 50\u001b[0m     observation, reward, terminated, truncated, info \u001b[39m=\u001b[39m \u001b[39mself\u001b[39;49m\u001b[39m.\u001b[39;49menv\u001b[39m.\u001b[39;49mstep(action)\n\u001b[0;32m     51\u001b[0m     \u001b[39mself\u001b[39m\u001b[39m.\u001b[39m_elapsed_steps \u001b[39m+\u001b[39m\u001b[39m=\u001b[39m \u001b[39m1\u001b[39m\n\u001b[0;32m     53\u001b[0m     \u001b[39mif\u001b[39;00m \u001b[39mself\u001b[39m\u001b[39m.\u001b[39m_elapsed_steps \u001b[39m>\u001b[39m\u001b[39m=\u001b[39m \u001b[39mself\u001b[39m\u001b[39m.\u001b[39m_max_episode_steps:\n",
      "File \u001b[1;32mc:\\Users\\esder\\AppData\\Local\\Programs\\Python\\Python38\\lib\\site-packages\\gym\\wrappers\\order_enforcing.py:37\u001b[0m, in \u001b[0;36mOrderEnforcing.step\u001b[1;34m(self, action)\u001b[0m\n\u001b[0;32m     35\u001b[0m \u001b[39mif\u001b[39;00m \u001b[39mnot\u001b[39;00m \u001b[39mself\u001b[39m\u001b[39m.\u001b[39m_has_reset:\n\u001b[0;32m     36\u001b[0m     \u001b[39mraise\u001b[39;00m ResetNeeded(\u001b[39m\"\u001b[39m\u001b[39mCannot call env.step() before calling env.reset()\u001b[39m\u001b[39m\"\u001b[39m)\n\u001b[1;32m---> 37\u001b[0m \u001b[39mreturn\u001b[39;00m \u001b[39mself\u001b[39;49m\u001b[39m.\u001b[39;49menv\u001b[39m.\u001b[39;49mstep(action)\n",
      "File \u001b[1;32mc:\\Users\\esder\\AppData\\Local\\Programs\\Python\\Python38\\lib\\site-packages\\gym\\wrappers\\env_checker.py:39\u001b[0m, in \u001b[0;36mPassiveEnvChecker.step\u001b[1;34m(self, action)\u001b[0m\n\u001b[0;32m     37\u001b[0m     \u001b[39mreturn\u001b[39;00m env_step_passive_checker(\u001b[39mself\u001b[39m\u001b[39m.\u001b[39menv, action)\n\u001b[0;32m     38\u001b[0m \u001b[39melse\u001b[39;00m:\n\u001b[1;32m---> 39\u001b[0m     \u001b[39mreturn\u001b[39;00m \u001b[39mself\u001b[39;49m\u001b[39m.\u001b[39;49menv\u001b[39m.\u001b[39;49mstep(action)\n",
      "File \u001b[1;32mc:\\Users\\esder\\AppData\\Local\\Programs\\Python\\Python38\\lib\\site-packages\\gym\\envs\\classic_control\\pendulum.py:138\u001b[0m, in \u001b[0;36mPendulumEnv.step\u001b[1;34m(self, u)\u001b[0m\n\u001b[0;32m    135\u001b[0m \u001b[39mself\u001b[39m\u001b[39m.\u001b[39mstate \u001b[39m=\u001b[39m np\u001b[39m.\u001b[39marray([newth, newthdot])\n\u001b[0;32m    137\u001b[0m \u001b[39mif\u001b[39;00m \u001b[39mself\u001b[39m\u001b[39m.\u001b[39mrender_mode \u001b[39m==\u001b[39m \u001b[39m\"\u001b[39m\u001b[39mhuman\u001b[39m\u001b[39m\"\u001b[39m:\n\u001b[1;32m--> 138\u001b[0m     \u001b[39mself\u001b[39;49m\u001b[39m.\u001b[39;49mrender()\n\u001b[0;32m    139\u001b[0m \u001b[39mreturn\u001b[39;00m \u001b[39mself\u001b[39m\u001b[39m.\u001b[39m_get_obs(), \u001b[39m-\u001b[39mcosts, \u001b[39mFalse\u001b[39;00m, \u001b[39mFalse\u001b[39;00m, {}\n",
      "File \u001b[1;32mc:\\Users\\esder\\AppData\\Local\\Programs\\Python\\Python38\\lib\\site-packages\\gym\\envs\\classic_control\\pendulum.py:253\u001b[0m, in \u001b[0;36mPendulumEnv.render\u001b[1;34m(self)\u001b[0m\n\u001b[0;32m    251\u001b[0m \u001b[39mif\u001b[39;00m \u001b[39mself\u001b[39m\u001b[39m.\u001b[39mrender_mode \u001b[39m==\u001b[39m \u001b[39m\"\u001b[39m\u001b[39mhuman\u001b[39m\u001b[39m\"\u001b[39m:\n\u001b[0;32m    252\u001b[0m     pygame\u001b[39m.\u001b[39mevent\u001b[39m.\u001b[39mpump()\n\u001b[1;32m--> 253\u001b[0m     \u001b[39mself\u001b[39;49m\u001b[39m.\u001b[39;49mclock\u001b[39m.\u001b[39;49mtick(\u001b[39mself\u001b[39;49m\u001b[39m.\u001b[39;49mmetadata[\u001b[39m\"\u001b[39;49m\u001b[39mrender_fps\u001b[39;49m\u001b[39m\"\u001b[39;49m])\n\u001b[0;32m    254\u001b[0m     pygame\u001b[39m.\u001b[39mdisplay\u001b[39m.\u001b[39mflip()\n\u001b[0;32m    256\u001b[0m \u001b[39melse\u001b[39;00m:  \u001b[39m# mode == \"rgb_array\":\u001b[39;00m\n",
      "\u001b[1;31mKeyboardInterrupt\u001b[0m: "
     ]
    }
   ],
   "source": [
    "model.train(n_epis, n_epochs, n_rollout)"
   ]
  },
  {
   "cell_type": "code",
   "execution_count": null,
   "id": "811cf205",
   "metadata": {},
   "outputs": [],
   "source": [
    "env.close()\n",
    "## TODO update interval이랑 train interval 정하기, TD exam 고치기"
   ]
  },
  {
   "cell_type": "code",
   "execution_count": null,
   "id": "b8b847c0",
   "metadata": {},
   "outputs": [],
   "source": []
  }
 ],
 "metadata": {
  "kernelspec": {
   "display_name": "Python 3 (ipykernel)",
   "language": "python",
   "name": "python3"
  },
  "language_info": {
   "codemirror_mode": {
    "name": "ipython",
    "version": 3
   },
   "file_extension": ".py",
   "mimetype": "text/x-python",
   "name": "python",
   "nbconvert_exporter": "python",
   "pygments_lexer": "ipython3",
   "version": "3.8.10"
  }
 },
 "nbformat": 4,
 "nbformat_minor": 5
}
