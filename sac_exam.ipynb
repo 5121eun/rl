{
 "cells": [
  {
   "cell_type": "code",
   "execution_count": 3,
   "id": "fde1c2b7",
   "metadata": {},
   "outputs": [],
   "source": [
    "import gym\n",
    "import torch\n",
    "import torch.nn as nn\n",
    "import torch.nn.functional as F\n",
    "from torch.distributions import Normal\n",
    "\n",
    "from models.sac import SAC\n"
   ]
  },
  {
   "cell_type": "code",
   "execution_count": 35,
   "id": "62a6c899",
   "metadata": {},
   "outputs": [],
   "source": [
    "class Actor(nn.Module):\n",
    "    def __init__(self, n_sts: int, n_acts: int, dim: int):\n",
    "        super(Actor, self).__init__()\n",
    "                \n",
    "        self.fc1 = nn.Linear(n_sts, dim)\n",
    "        self.fc_mu = nn.Linear(dim, n_acts)\n",
    "        self.fc_std = nn.Linear(dim, n_acts)\n",
    "        \n",
    "        self.relu1 = nn.ReLU()\n",
    "        self.relu2 = nn.ReLU()\n",
    "    \n",
    "    def forward(self, x):\n",
    "        x = self.relu1(self.fc1(x))\n",
    "        mu = self.fc_mu(x)\n",
    "        std = self.fc_std(x)\n",
    "        dist = Normal(mu, std)\n",
    "        act = dist.rsample()\n",
    "        log_prob = dist.log_prob(act)\n",
    "        real_act = torch.tanh(act) * 2\n",
    "        real_log_prob = log_prob - torch.log(1 - torch.tanh(act).pow(2) + 1e-7)\n",
    "\n",
    "        return real_act, real_log_prob"
   ]
  },
  {
   "cell_type": "code",
   "execution_count": 36,
   "id": "6c198beb",
   "metadata": {},
   "outputs": [],
   "source": [
    "class QCritic(nn.Module): \n",
    "    def __init__(self, n_sts: int, act_dim: int, dim: int):\n",
    "        super(QCritic, self).__init__()\n",
    "                \n",
    "        self.fc1 = nn.Linear(n_sts + act_dim, dim)\n",
    "        self.fc2 = nn.Linear(dim, 1)\n",
    "        \n",
    "        self.relu1 = nn.ReLU()\n",
    "        self.relu2 = nn.ReLU()\n",
    "                \n",
    "    def forward(self, xs):\n",
    "        x, a = xs\n",
    "        \n",
    "        x = self.relu1(self.fc1(torch.cat([x, a], 1)))\n",
    "        x = self.fc2(x)\n",
    "        \n",
    "        return x"
   ]
  },
  {
   "cell_type": "code",
   "execution_count": 37,
   "id": "98f77919",
   "metadata": {},
   "outputs": [],
   "source": [
    "lr = 3e-4\n",
    "tau = 5e-3\n",
    "eps = 0\n",
    "gamma = 0.99\n",
    "\n",
    "n_sts = 3\n",
    "n_acts = 1\n",
    "act_dim = 1\n",
    "\n",
    "dim = 256\n",
    "\n",
    "n_epis = 5000\n",
    "n_rollout = 1000"
   ]
  },
  {
   "cell_type": "code",
   "execution_count": 38,
   "id": "eb456073",
   "metadata": {},
   "outputs": [],
   "source": [
    "act = Actor(n_sts, n_acts, dim)\n",
    "act_opt = torch.optim.Adam(act.parameters(), lr=lr)\n",
    "\n",
    "qcri1 = QCritic(n_sts, act_dim, dim)\n",
    "qcri1_opt = torch.optim.Adam(qcri1.parameters(), lr=lr)\n",
    "\n",
    "qcri2 = QCritic(n_sts, act_dim, dim)\n",
    "qcri2_opt = torch.optim.Adam(qcri2.parameters(), lr=lr)"
   ]
  },
  {
   "cell_type": "code",
   "execution_count": 39,
   "id": "7502440a",
   "metadata": {},
   "outputs": [],
   "source": [
    "env = gym.make('Pendulum-v1', render_mode='human')\n",
    "model = SAC(env, n_acts, act, act_opt, qcri1, qcri1_opt, qcri2, qcri2_opt, eps=eps, tau=tau)"
   ]
  },
  {
   "cell_type": "code",
   "execution_count": 40,
   "id": "a93b8496",
   "metadata": {},
   "outputs": [
    {
     "ename": "ValueError",
     "evalue": "Expected parameter scale (Tensor of shape (1,)) of distribution Normal(loc: tensor([0.1092], grad_fn=<AddBackward0>), scale: tensor([-0.0164], grad_fn=<AddBackward0>)) to satisfy the constraint GreaterThan(lower_bound=0.0), but found invalid values:\ntensor([-0.0164], grad_fn=<AddBackward0>)",
     "output_type": "error",
     "traceback": [
      "\u001b[1;31m---------------------------------------------------------------------------\u001b[0m",
      "\u001b[1;31mValueError\u001b[0m                                Traceback (most recent call last)",
      "Cell \u001b[1;32mIn[40], line 1\u001b[0m\n\u001b[1;32m----> 1\u001b[0m model\u001b[39m.\u001b[39;49mtrain(n_epis, n_rollout)\n",
      "File \u001b[1;32mc:\\Users\\esder\\Desktop\\github\\rl\\models\\sac.py:55\u001b[0m, in \u001b[0;36mSAC.train\u001b[1;34m(self, n_epis, n_rollout, print_interval)\u001b[0m\n\u001b[0;32m     52\u001b[0m s \u001b[39m=\u001b[39m env\u001b[39m.\u001b[39mreset()[\u001b[39m0\u001b[39m]\n\u001b[0;32m     54\u001b[0m \u001b[39mfor\u001b[39;00m t \u001b[39min\u001b[39;00m \u001b[39mrange\u001b[39m(n_rollout):\n\u001b[1;32m---> 55\u001b[0m     a \u001b[39m=\u001b[39m \u001b[39mself\u001b[39;49m\u001b[39m.\u001b[39;49mget_action(s)\n\u001b[0;32m     56\u001b[0m     s_p, r, _, _, _ \u001b[39m=\u001b[39m env\u001b[39m.\u001b[39mstep(a)\n\u001b[0;32m     57\u001b[0m     \u001b[39mself\u001b[39m\u001b[39m.\u001b[39mbuffer\u001b[39m.\u001b[39mput((s, a, r\u001b[39m/\u001b[39m\u001b[39m100\u001b[39m, s_p))\n",
      "File \u001b[1;32mc:\\Users\\esder\\Desktop\\github\\rl\\models\\sac.py:106\u001b[0m, in \u001b[0;36mSAC.get_action\u001b[1;34m(self, s)\u001b[0m\n\u001b[0;32m    105\u001b[0m \u001b[39mdef\u001b[39;00m \u001b[39mget_action\u001b[39m(\u001b[39mself\u001b[39m, s):\n\u001b[1;32m--> 106\u001b[0m     a, _ \u001b[39m=\u001b[39m \u001b[39mself\u001b[39;49m\u001b[39m.\u001b[39;49mact(torch\u001b[39m.\u001b[39;49mfrom_numpy(s)\u001b[39m.\u001b[39;49mfloat())\n\u001b[0;32m    107\u001b[0m     \u001b[39mreturn\u001b[39;00m a\u001b[39m.\u001b[39mdetach()\u001b[39m.\u001b[39mnumpy()\n",
      "File \u001b[1;32mc:\\Users\\esder\\AppData\\Local\\Programs\\Python\\Python38\\lib\\site-packages\\torch\\nn\\modules\\module.py:1501\u001b[0m, in \u001b[0;36mModule._call_impl\u001b[1;34m(self, *args, **kwargs)\u001b[0m\n\u001b[0;32m   1496\u001b[0m \u001b[39m# If we don't have any hooks, we want to skip the rest of the logic in\u001b[39;00m\n\u001b[0;32m   1497\u001b[0m \u001b[39m# this function, and just call forward.\u001b[39;00m\n\u001b[0;32m   1498\u001b[0m \u001b[39mif\u001b[39;00m \u001b[39mnot\u001b[39;00m (\u001b[39mself\u001b[39m\u001b[39m.\u001b[39m_backward_hooks \u001b[39mor\u001b[39;00m \u001b[39mself\u001b[39m\u001b[39m.\u001b[39m_backward_pre_hooks \u001b[39mor\u001b[39;00m \u001b[39mself\u001b[39m\u001b[39m.\u001b[39m_forward_hooks \u001b[39mor\u001b[39;00m \u001b[39mself\u001b[39m\u001b[39m.\u001b[39m_forward_pre_hooks\n\u001b[0;32m   1499\u001b[0m         \u001b[39mor\u001b[39;00m _global_backward_pre_hooks \u001b[39mor\u001b[39;00m _global_backward_hooks\n\u001b[0;32m   1500\u001b[0m         \u001b[39mor\u001b[39;00m _global_forward_hooks \u001b[39mor\u001b[39;00m _global_forward_pre_hooks):\n\u001b[1;32m-> 1501\u001b[0m     \u001b[39mreturn\u001b[39;00m forward_call(\u001b[39m*\u001b[39;49margs, \u001b[39m*\u001b[39;49m\u001b[39m*\u001b[39;49mkwargs)\n\u001b[0;32m   1502\u001b[0m \u001b[39m# Do not call functions when jit is used\u001b[39;00m\n\u001b[0;32m   1503\u001b[0m full_backward_hooks, non_full_backward_hooks \u001b[39m=\u001b[39m [], []\n",
      "Cell \u001b[1;32mIn[35], line 16\u001b[0m, in \u001b[0;36mActor.forward\u001b[1;34m(self, x)\u001b[0m\n\u001b[0;32m     14\u001b[0m mu \u001b[39m=\u001b[39m \u001b[39mself\u001b[39m\u001b[39m.\u001b[39mfc_mu(x)\n\u001b[0;32m     15\u001b[0m std \u001b[39m=\u001b[39m \u001b[39mself\u001b[39m\u001b[39m.\u001b[39mfc_std(x)\n\u001b[1;32m---> 16\u001b[0m dist \u001b[39m=\u001b[39m Normal(mu, std)\n\u001b[0;32m     17\u001b[0m act \u001b[39m=\u001b[39m dist\u001b[39m.\u001b[39mrsample()\n\u001b[0;32m     18\u001b[0m log_prob \u001b[39m=\u001b[39m dist\u001b[39m.\u001b[39mlog_prob(act)\n",
      "File \u001b[1;32mc:\\Users\\esder\\AppData\\Local\\Programs\\Python\\Python38\\lib\\site-packages\\torch\\distributions\\normal.py:56\u001b[0m, in \u001b[0;36mNormal.__init__\u001b[1;34m(self, loc, scale, validate_args)\u001b[0m\n\u001b[0;32m     54\u001b[0m \u001b[39melse\u001b[39;00m:\n\u001b[0;32m     55\u001b[0m     batch_shape \u001b[39m=\u001b[39m \u001b[39mself\u001b[39m\u001b[39m.\u001b[39mloc\u001b[39m.\u001b[39msize()\n\u001b[1;32m---> 56\u001b[0m \u001b[39msuper\u001b[39;49m()\u001b[39m.\u001b[39;49m\u001b[39m__init__\u001b[39;49m(batch_shape, validate_args\u001b[39m=\u001b[39;49mvalidate_args)\n",
      "File \u001b[1;32mc:\\Users\\esder\\AppData\\Local\\Programs\\Python\\Python38\\lib\\site-packages\\torch\\distributions\\distribution.py:62\u001b[0m, in \u001b[0;36mDistribution.__init__\u001b[1;34m(self, batch_shape, event_shape, validate_args)\u001b[0m\n\u001b[0;32m     60\u001b[0m         valid \u001b[39m=\u001b[39m constraint\u001b[39m.\u001b[39mcheck(value)\n\u001b[0;32m     61\u001b[0m         \u001b[39mif\u001b[39;00m \u001b[39mnot\u001b[39;00m valid\u001b[39m.\u001b[39mall():\n\u001b[1;32m---> 62\u001b[0m             \u001b[39mraise\u001b[39;00m \u001b[39mValueError\u001b[39;00m(\n\u001b[0;32m     63\u001b[0m                 \u001b[39mf\u001b[39m\u001b[39m\"\u001b[39m\u001b[39mExpected parameter \u001b[39m\u001b[39m{\u001b[39;00mparam\u001b[39m}\u001b[39;00m\u001b[39m \u001b[39m\u001b[39m\"\u001b[39m\n\u001b[0;32m     64\u001b[0m                 \u001b[39mf\u001b[39m\u001b[39m\"\u001b[39m\u001b[39m(\u001b[39m\u001b[39m{\u001b[39;00m\u001b[39mtype\u001b[39m(value)\u001b[39m.\u001b[39m\u001b[39m__name__\u001b[39m\u001b[39m}\u001b[39;00m\u001b[39m of shape \u001b[39m\u001b[39m{\u001b[39;00m\u001b[39mtuple\u001b[39m(value\u001b[39m.\u001b[39mshape)\u001b[39m}\u001b[39;00m\u001b[39m) \u001b[39m\u001b[39m\"\u001b[39m\n\u001b[0;32m     65\u001b[0m                 \u001b[39mf\u001b[39m\u001b[39m\"\u001b[39m\u001b[39mof distribution \u001b[39m\u001b[39m{\u001b[39;00m\u001b[39mrepr\u001b[39m(\u001b[39mself\u001b[39m)\u001b[39m}\u001b[39;00m\u001b[39m \u001b[39m\u001b[39m\"\u001b[39m\n\u001b[0;32m     66\u001b[0m                 \u001b[39mf\u001b[39m\u001b[39m\"\u001b[39m\u001b[39mto satisfy the constraint \u001b[39m\u001b[39m{\u001b[39;00m\u001b[39mrepr\u001b[39m(constraint)\u001b[39m}\u001b[39;00m\u001b[39m, \u001b[39m\u001b[39m\"\u001b[39m\n\u001b[0;32m     67\u001b[0m                 \u001b[39mf\u001b[39m\u001b[39m\"\u001b[39m\u001b[39mbut found invalid values:\u001b[39m\u001b[39m\\n\u001b[39;00m\u001b[39m{\u001b[39;00mvalue\u001b[39m}\u001b[39;00m\u001b[39m\"\u001b[39m\n\u001b[0;32m     68\u001b[0m             )\n\u001b[0;32m     69\u001b[0m \u001b[39msuper\u001b[39m()\u001b[39m.\u001b[39m\u001b[39m__init__\u001b[39m()\n",
      "\u001b[1;31mValueError\u001b[0m: Expected parameter scale (Tensor of shape (1,)) of distribution Normal(loc: tensor([0.1092], grad_fn=<AddBackward0>), scale: tensor([-0.0164], grad_fn=<AddBackward0>)) to satisfy the constraint GreaterThan(lower_bound=0.0), but found invalid values:\ntensor([-0.0164], grad_fn=<AddBackward0>)"
     ]
    }
   ],
   "source": [
    "model.train(n_epis, n_rollout)"
   ]
  },
  {
   "cell_type": "code",
   "execution_count": null,
   "id": "811cf205",
   "metadata": {},
   "outputs": [
    {
     "data": {
      "text/plain": [
       "tensor([0.9671])"
      ]
     },
     "execution_count": 14,
     "metadata": {},
     "output_type": "execute_result"
    }
   ],
   "source": []
  }
 ],
 "metadata": {
  "kernelspec": {
   "display_name": "Python 3 (ipykernel)",
   "language": "python",
   "name": "python3"
  },
  "language_info": {
   "codemirror_mode": {
    "name": "ipython",
    "version": 3
   },
   "file_extension": ".py",
   "mimetype": "text/x-python",
   "name": "python",
   "nbconvert_exporter": "python",
   "pygments_lexer": "ipython3",
   "version": "3.8.10"
  }
 },
 "nbformat": 4,
 "nbformat_minor": 5
}
