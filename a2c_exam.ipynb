{
 "cells": [
  {
   "cell_type": "code",
   "execution_count": 2,
   "id": "e77186a9",
   "metadata": {},
   "outputs": [],
   "source": [
    "import gym\n",
    "import torch\n",
    "import torch.nn as nn\n",
    "import torch.nn.functional as F\n",
    "from models.a2c import A2C"
   ]
  },
  {
   "cell_type": "code",
   "execution_count": 3,
   "id": "36c6a328",
   "metadata": {},
   "outputs": [],
   "source": [
    "class Actor(nn.Module):\n",
    "    def __init__(self, n_sts: int, n_acts: int, dim: int):\n",
    "        super(Actor, self).__init__()\n",
    "                \n",
    "        self.fc1 = nn.Linear(n_sts, dim)\n",
    "        self.fc2 = nn.Linear(dim, n_acts)\n",
    "\n",
    "        self.init_weight()\n",
    "    \n",
    "    def init_weight(self):\n",
    "        initrange = 0.1\n",
    "        self.fc1.weight.data.uniform_(-initrange, initrange)\n",
    "        self.fc2.weight.data.uniform_(-initrange, initrange)\n",
    "    \n",
    "    def forward(self, x):\n",
    "        x = F.relu(self.fc1(x))\n",
    "        x = F.softmax(self.fc2(x), dim=-1)\n",
    "        return x"
   ]
  },
  {
   "cell_type": "code",
   "execution_count": 5,
   "id": "791da14d",
   "metadata": {},
   "outputs": [],
   "source": [
    "class Critic(nn.Module):\n",
    "    def __init__(self, n_sts: int, dim: int):\n",
    "        super(Critic, self).__init__()\n",
    "                \n",
    "        self.fc1 = nn.Linear(n_sts, dim)\n",
    "        self.fc2 = nn.Linear(dim, 1)\n",
    "        \n",
    "        self.relu1 = nn.ReLU()\n",
    "\n",
    "        self.init_weight()\n",
    "    \n",
    "    def init_weight(self):\n",
    "        initrange = 0.1\n",
    "        self.fc1.weight.data.uniform_(-initrange, initrange)\n",
    "        self.fc2.weight.data.uniform_(-initrange, initrange)\n",
    "                \n",
    "    def forward(self, x):\n",
    "\n",
    "        x = self.relu1(self.fc1(x))\n",
    "        x = self.fc2(x)\n",
    "        \n",
    "        return x"
   ]
  },
  {
   "cell_type": "code",
   "execution_count": 6,
   "id": "5ba3bc35",
   "metadata": {},
   "outputs": [],
   "source": [
    "lr = 0.0001\n",
    "\n",
    "n_acts = 2\n",
    "n_sts = 4\n",
    "\n",
    "gamma = 0.98\n",
    "\n",
    "n_epi = 5000\n",
    "n_rollout = 10\n",
    "n_update = 3\n",
    "\n",
    "dim = 256"
   ]
  },
  {
   "cell_type": "code",
   "execution_count": 7,
   "id": "d4c97454",
   "metadata": {},
   "outputs": [],
   "source": [
    "act = Actor(n_sts, n_acts, dim)\n",
    "act_opt = torch.optim.Adam(act.parameters(), lr=lr)\n",
    "\n",
    "cri = Critic(n_sts, dim)\n",
    "cri_opt = torch.optim.Adam(cri.parameters(), lr=lr)"
   ]
  },
  {
   "cell_type": "code",
   "execution_count": 8,
   "id": "9a957d41",
   "metadata": {},
   "outputs": [],
   "source": [
    "env = gym.make('CartPole-v1', render_mode='human')"
   ]
  },
  {
   "cell_type": "code",
   "execution_count": 9,
   "id": "99db206e",
   "metadata": {},
   "outputs": [
    {
     "name": "stderr",
     "output_type": "stream",
     "text": [
      "c:\\Users\\esder\\AppData\\Local\\Programs\\Python\\Python38\\lib\\site-packages\\gym\\utils\\passive_env_checker.py:233: DeprecationWarning: `np.bool8` is a deprecated alias for `np.bool_`.  (Deprecated NumPy 1.24)\n",
      "  if not isinstance(terminated, (bool, np.bool8)):\n"
     ]
    },
    {
     "name": "stdout",
     "output_type": "stream",
     "text": [
      "step: 427, score: 21.35\n",
      "step: 801, score: 18.7\n",
      "step: 1175, score: 18.7\n"
     ]
    }
   ],
   "source": [
    "model = A2C(env, n_acts, act, act_opt, cri, cri_opt, gamma=gamma)\n",
    "model.train(n_epi, n_rollout, 3)"
   ]
  },
  {
   "cell_type": "code",
   "execution_count": null,
   "id": "12304809",
   "metadata": {},
   "outputs": [],
   "source": [
    "env.close()"
   ]
  }
 ],
 "metadata": {
  "kernelspec": {
   "display_name": "Python 3 (ipykernel)",
   "language": "python",
   "name": "python3"
  },
  "language_info": {
   "codemirror_mode": {
    "name": "ipython",
    "version": 3
   },
   "file_extension": ".py",
   "mimetype": "text/x-python",
   "name": "python",
   "nbconvert_exporter": "python",
   "pygments_lexer": "ipython3",
   "version": "3.8.10"
  }
 },
 "nbformat": 4,
 "nbformat_minor": 5
}
