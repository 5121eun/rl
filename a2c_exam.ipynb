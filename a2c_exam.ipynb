{
 "cells": [
  {
   "cell_type": "code",
   "execution_count": 1,
   "id": "e77186a9",
   "metadata": {},
   "outputs": [],
   "source": [
    "import gym\n",
    "import torch\n",
    "import torch.nn as nn\n",
    "import torch.nn.functional as F\n",
    "from models.a2c import A2C"
   ]
  },
  {
   "cell_type": "code",
   "execution_count": 2,
   "id": "36c6a328",
   "metadata": {},
   "outputs": [],
   "source": [
    "class Actor(nn.Module):\n",
    "    def __init__(self, nstates: int, nactions: int):\n",
    "        super(Actor, self).__init__()\n",
    "                \n",
    "        self.fc1 = nn.Linear(nstates, 256)\n",
    "        self.fc2 = nn.Linear(256, nactions)\n",
    "\n",
    "        self.init_weight()\n",
    "    \n",
    "    def init_weight(self):\n",
    "        initrange = 0.1\n",
    "        self.fc1.weight.data.uniform_(-initrange, initrange)\n",
    "        self.fc2.weight.data.uniform_(-initrange, initrange)\n",
    "    \n",
    "    def forward(self, x):\n",
    "        x = F.relu(self.fc1(x))\n",
    "        x = F.softmax(self.fc2(x), dim=-1)\n",
    "        return x"
   ]
  },
  {
   "cell_type": "code",
   "execution_count": 3,
   "id": "791da14d",
   "metadata": {},
   "outputs": [],
   "source": [
    "class Critic(nn.Module):\n",
    "    def __init__(self, nstates: int):\n",
    "        super(Critic, self).__init__()\n",
    "                \n",
    "        self.fc1 = nn.Linear(nstates, 256)\n",
    "        self.fc2 = nn.Linear(256, 1)\n",
    "        \n",
    "        self.relu1 = nn.ReLU()\n",
    "\n",
    "        self.init_weight()\n",
    "    \n",
    "    def init_weight(self):\n",
    "        initrange = 0.1\n",
    "        self.fc1.weight.data.uniform_(-initrange, initrange)\n",
    "        self.fc2.weight.data.uniform_(-initrange, initrange)\n",
    "                \n",
    "    def forward(self, x):\n",
    "\n",
    "        x = self.relu1(self.fc1(x))\n",
    "        x = self.fc2(x)\n",
    "        \n",
    "        return x"
   ]
  },
  {
   "cell_type": "code",
   "execution_count": 4,
   "id": "5ba3bc35",
   "metadata": {},
   "outputs": [],
   "source": [
    "lr = 0.0001\n",
    "\n",
    "nactions = 2\n",
    "nstates = 4\n",
    "\n",
    "gamma = 0.98\n",
    "\n",
    "n_epi = 5000\n",
    "n_rollout = 10"
   ]
  },
  {
   "cell_type": "code",
   "execution_count": 5,
   "id": "d4c97454",
   "metadata": {},
   "outputs": [],
   "source": [
    "act = Actor(nstates, nactions)\n",
    "act_opt = torch.optim.Adam(act.parameters(), lr=lr)\n",
    "\n",
    "cri = Critic(nstates)\n",
    "cri_opt = torch.optim.Adam(cri.parameters(), lr=lr)"
   ]
  },
  {
   "cell_type": "code",
   "execution_count": 6,
   "id": "9a957d41",
   "metadata": {},
   "outputs": [],
   "source": [
    "env = gym.make('CartPole-v1', render_mode='human')"
   ]
  },
  {
   "cell_type": "code",
   "execution_count": 7,
   "id": "99db206e",
   "metadata": {},
   "outputs": [
    {
     "name": "stderr",
     "output_type": "stream",
     "text": [
      "c:\\Users\\esder\\AppData\\Local\\Programs\\Python\\Python38\\lib\\site-packages\\gym\\utils\\passive_env_checker.py:233: DeprecationWarning: `np.bool8` is a deprecated alias for `np.bool_`.  (Deprecated NumPy 1.24)\n",
      "  if not isinstance(terminated, (bool, np.bool8)):\n"
     ]
    },
    {
     "name": "stdout",
     "output_type": "stream",
     "text": [
      "epi: 20, score: 20.6\n",
      "epi: 40, score: 25.65\n",
      "epi: 60, score: 25.05\n",
      "epi: 80, score: 21.1\n",
      "epi: 100, score: 21.55\n",
      "epi: 120, score: 22.5\n",
      "epi: 140, score: 22.9\n",
      "epi: 160, score: 23.25\n",
      "epi: 180, score: 19.75\n",
      "epi: 200, score: 22.75\n",
      "epi: 220, score: 25.05\n",
      "epi: 240, score: 22.75\n",
      "epi: 260, score: 21.95\n",
      "epi: 280, score: 22.1\n",
      "epi: 300, score: 25.55\n",
      "epi: 320, score: 22.0\n",
      "epi: 340, score: 21.8\n",
      "epi: 360, score: 24.5\n",
      "epi: 380, score: 23.8\n",
      "epi: 400, score: 20.8\n",
      "epi: 420, score: 22.75\n",
      "epi: 440, score: 26.4\n",
      "epi: 460, score: 20.05\n",
      "epi: 480, score: 25.25\n",
      "epi: 500, score: 20.4\n",
      "epi: 520, score: 28.35\n",
      "epi: 540, score: 25.6\n",
      "epi: 560, score: 31.6\n",
      "epi: 580, score: 29.45\n",
      "epi: 600, score: 29.05\n",
      "epi: 620, score: 33.45\n",
      "epi: 640, score: 36.7\n",
      "epi: 660, score: 33.35\n",
      "epi: 680, score: 29.45\n",
      "epi: 700, score: 29.7\n",
      "epi: 720, score: 36.0\n",
      "epi: 740, score: 33.5\n",
      "epi: 760, score: 30.35\n",
      "epi: 780, score: 36.95\n",
      "epi: 800, score: 48.05\n",
      "epi: 820, score: 38.8\n",
      "epi: 840, score: 43.25\n",
      "epi: 860, score: 35.8\n",
      "epi: 880, score: 49.1\n",
      "epi: 900, score: 54.5\n",
      "epi: 920, score: 45.8\n",
      "epi: 940, score: 47.2\n",
      "epi: 960, score: 49.1\n",
      "epi: 980, score: 43.9\n",
      "epi: 1000, score: 45.0\n",
      "epi: 1020, score: 48.75\n",
      "epi: 1040, score: 52.3\n",
      "epi: 1060, score: 48.0\n",
      "epi: 1080, score: 40.95\n",
      "epi: 1100, score: 49.35\n"
     ]
    },
    {
     "ename": "KeyboardInterrupt",
     "evalue": "",
     "output_type": "error",
     "traceback": [
      "\u001b[1;31m---------------------------------------------------------------------------\u001b[0m",
      "\u001b[1;31mKeyboardInterrupt\u001b[0m                         Traceback (most recent call last)",
      "Cell \u001b[1;32mIn[7], line 2\u001b[0m\n\u001b[0;32m      1\u001b[0m model \u001b[39m=\u001b[39m A2C(env, nactions, act, act_opt, cri, cri_opt, gamma\u001b[39m=\u001b[39mgamma)\n\u001b[1;32m----> 2\u001b[0m model\u001b[39m.\u001b[39;49mtrain(n_epi, n_rollout)\n",
      "File \u001b[1;32mc:\\Users\\esder\\Desktop\\github\\rl\\models\\a2c.py:43\u001b[0m, in \u001b[0;36mA2C.train\u001b[1;34m(self, n_epis, n_rollout, print_interval)\u001b[0m\n\u001b[0;32m     41\u001b[0m d_mask \u001b[39m=\u001b[39m \u001b[39m0\u001b[39m \u001b[39mif\u001b[39;00m done \u001b[39melse\u001b[39;00m \u001b[39m1\u001b[39m\n\u001b[0;32m     42\u001b[0m \u001b[39mself\u001b[39m\u001b[39m.\u001b[39mput((s, a, r\u001b[39m/\u001b[39m\u001b[39m100\u001b[39m, s_p, d_mask))\n\u001b[1;32m---> 43\u001b[0m env\u001b[39m.\u001b[39;49mrender()\n\u001b[0;32m     45\u001b[0m s \u001b[39m=\u001b[39m s_p\n\u001b[0;32m     46\u001b[0m score \u001b[39m+\u001b[39m\u001b[39m=\u001b[39m r\n",
      "File \u001b[1;32mc:\\Users\\esder\\AppData\\Local\\Programs\\Python\\Python38\\lib\\site-packages\\gym\\core.py:329\u001b[0m, in \u001b[0;36mWrapper.render\u001b[1;34m(self, *args, **kwargs)\u001b[0m\n\u001b[0;32m    325\u001b[0m \u001b[39mdef\u001b[39;00m \u001b[39mrender\u001b[39m(\n\u001b[0;32m    326\u001b[0m     \u001b[39mself\u001b[39m, \u001b[39m*\u001b[39margs, \u001b[39m*\u001b[39m\u001b[39m*\u001b[39mkwargs\n\u001b[0;32m    327\u001b[0m ) \u001b[39m-\u001b[39m\u001b[39m>\u001b[39m Optional[Union[RenderFrame, List[RenderFrame]]]:\n\u001b[0;32m    328\u001b[0m \u001b[39m    \u001b[39m\u001b[39m\"\"\"Renders the environment.\"\"\"\u001b[39;00m\n\u001b[1;32m--> 329\u001b[0m     \u001b[39mreturn\u001b[39;00m \u001b[39mself\u001b[39;49m\u001b[39m.\u001b[39;49menv\u001b[39m.\u001b[39;49mrender(\u001b[39m*\u001b[39;49margs, \u001b[39m*\u001b[39;49m\u001b[39m*\u001b[39;49mkwargs)\n",
      "File \u001b[1;32mc:\\Users\\esder\\AppData\\Local\\Programs\\Python\\Python38\\lib\\site-packages\\gym\\wrappers\\order_enforcing.py:51\u001b[0m, in \u001b[0;36mOrderEnforcing.render\u001b[1;34m(self, *args, **kwargs)\u001b[0m\n\u001b[0;32m     46\u001b[0m \u001b[39mif\u001b[39;00m \u001b[39mnot\u001b[39;00m \u001b[39mself\u001b[39m\u001b[39m.\u001b[39m_disable_render_order_enforcing \u001b[39mand\u001b[39;00m \u001b[39mnot\u001b[39;00m \u001b[39mself\u001b[39m\u001b[39m.\u001b[39m_has_reset:\n\u001b[0;32m     47\u001b[0m     \u001b[39mraise\u001b[39;00m ResetNeeded(\n\u001b[0;32m     48\u001b[0m         \u001b[39m\"\u001b[39m\u001b[39mCannot call `env.render()` before calling `env.reset()`, if this is a intended action, \u001b[39m\u001b[39m\"\u001b[39m\n\u001b[0;32m     49\u001b[0m         \u001b[39m\"\u001b[39m\u001b[39mset `disable_render_order_enforcing=True` on the OrderEnforcer wrapper.\u001b[39m\u001b[39m\"\u001b[39m\n\u001b[0;32m     50\u001b[0m     )\n\u001b[1;32m---> 51\u001b[0m \u001b[39mreturn\u001b[39;00m \u001b[39mself\u001b[39;49m\u001b[39m.\u001b[39;49menv\u001b[39m.\u001b[39;49mrender(\u001b[39m*\u001b[39;49margs, \u001b[39m*\u001b[39;49m\u001b[39m*\u001b[39;49mkwargs)\n",
      "File \u001b[1;32mc:\\Users\\esder\\AppData\\Local\\Programs\\Python\\Python38\\lib\\site-packages\\gym\\wrappers\\env_checker.py:55\u001b[0m, in \u001b[0;36mPassiveEnvChecker.render\u001b[1;34m(self, *args, **kwargs)\u001b[0m\n\u001b[0;32m     53\u001b[0m     \u001b[39mreturn\u001b[39;00m env_render_passive_checker(\u001b[39mself\u001b[39m\u001b[39m.\u001b[39menv, \u001b[39m*\u001b[39margs, \u001b[39m*\u001b[39m\u001b[39m*\u001b[39mkwargs)\n\u001b[0;32m     54\u001b[0m \u001b[39melse\u001b[39;00m:\n\u001b[1;32m---> 55\u001b[0m     \u001b[39mreturn\u001b[39;00m \u001b[39mself\u001b[39;49m\u001b[39m.\u001b[39;49menv\u001b[39m.\u001b[39;49mrender(\u001b[39m*\u001b[39;49margs, \u001b[39m*\u001b[39;49m\u001b[39m*\u001b[39;49mkwargs)\n",
      "File \u001b[1;32mc:\\Users\\esder\\AppData\\Local\\Programs\\Python\\Python38\\lib\\site-packages\\gym\\envs\\classic_control\\cartpole.py:298\u001b[0m, in \u001b[0;36mCartPoleEnv.render\u001b[1;34m(self)\u001b[0m\n\u001b[0;32m    296\u001b[0m \u001b[39mif\u001b[39;00m \u001b[39mself\u001b[39m\u001b[39m.\u001b[39mrender_mode \u001b[39m==\u001b[39m \u001b[39m\"\u001b[39m\u001b[39mhuman\u001b[39m\u001b[39m\"\u001b[39m:\n\u001b[0;32m    297\u001b[0m     pygame\u001b[39m.\u001b[39mevent\u001b[39m.\u001b[39mpump()\n\u001b[1;32m--> 298\u001b[0m     \u001b[39mself\u001b[39;49m\u001b[39m.\u001b[39;49mclock\u001b[39m.\u001b[39;49mtick(\u001b[39mself\u001b[39;49m\u001b[39m.\u001b[39;49mmetadata[\u001b[39m\"\u001b[39;49m\u001b[39mrender_fps\u001b[39;49m\u001b[39m\"\u001b[39;49m])\n\u001b[0;32m    299\u001b[0m     pygame\u001b[39m.\u001b[39mdisplay\u001b[39m.\u001b[39mflip()\n\u001b[0;32m    301\u001b[0m \u001b[39melif\u001b[39;00m \u001b[39mself\u001b[39m\u001b[39m.\u001b[39mrender_mode \u001b[39m==\u001b[39m \u001b[39m\"\u001b[39m\u001b[39mrgb_array\u001b[39m\u001b[39m\"\u001b[39m:\n",
      "\u001b[1;31mKeyboardInterrupt\u001b[0m: "
     ]
    }
   ],
   "source": [
    "model = A2C(env, nactions, act, act_opt, cri, cri_opt, gamma=gamma)\n",
    "model.train(n_epi, n_rollout)"
   ]
  },
  {
   "cell_type": "code",
   "execution_count": 8,
   "id": "12304809",
   "metadata": {},
   "outputs": [],
   "source": [
    "env.close()"
   ]
  }
 ],
 "metadata": {
  "kernelspec": {
   "display_name": "Python 3 (ipykernel)",
   "language": "python",
   "name": "python3"
  },
  "language_info": {
   "codemirror_mode": {
    "name": "ipython",
    "version": 3
   },
   "file_extension": ".py",
   "mimetype": "text/x-python",
   "name": "python",
   "nbconvert_exporter": "python",
   "pygments_lexer": "ipython3",
   "version": "3.8.10"
  }
 },
 "nbformat": 4,
 "nbformat_minor": 5
}
