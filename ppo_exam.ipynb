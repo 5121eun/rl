{
 "cells": [
  {
   "cell_type": "code",
   "execution_count": 29,
   "id": "0ab8d911",
   "metadata": {},
   "outputs": [],
   "source": [
    "import gym\n",
    "\n",
    "import torch\n",
    "from torch import nn\n",
    "import torch.nn.functional as F\n",
    "\n",
    "from models.ppo import PPO\n",
    "from commons.basemodel import BaseModel"
   ]
  },
  {
   "cell_type": "code",
   "execution_count": 30,
   "id": "e73f820f",
   "metadata": {},
   "outputs": [],
   "source": [
    "class Actor(nn.Module):\n",
    "    def __init__(self, nstats: int, nactions: int, hid_dim:int):\n",
    "        super(Actor, self).__init__()\n",
    "        self.fc1 = nn.Linear(nstats, hid_dim)\n",
    "        self.fc2 = nn.Linear(hid_dim, nactions)\n",
    "        self.relu1 = nn.ReLU()\n",
    "        \n",
    "    def forward(self, x):\n",
    "        x = self.relu1(self.fc1(x))\n",
    "        x = F.softmax(self.fc2(x), -1)\n",
    "        return x\n"
   ]
  },
  {
   "cell_type": "code",
   "execution_count": 31,
   "id": "63e7b088",
   "metadata": {},
   "outputs": [],
   "source": [
    "class Critic(nn.Module):\n",
    "    def __init__(self, nstats: int, hid_dim:int):\n",
    "        super(Critic, self).__init__()\n",
    "        self.fc1 = nn.Linear(nstats, hid_dim)\n",
    "        self.fc2 = nn.Linear(hid_dim, 1)\n",
    "        self.relu1 = nn.ReLU()\n",
    "        \n",
    "    def forward(self, x):\n",
    "        x = self.relu1(self.fc1(x))\n",
    "        x = self.fc2(x)\n",
    "        return x\n"
   ]
  },
  {
   "cell_type": "code",
   "execution_count": 143,
   "id": "86e8c37c",
   "metadata": {},
   "outputs": [],
   "source": [
    "import numpy as np\n",
    "\n",
    "class BaseModel():\n",
    "    def __init__(self, max_len = 9999):\n",
    "\n",
    "        self.datas = []\n",
    "        self.max_len = max_len\n",
    "\n",
    "    def put(self, data):\n",
    "        if len(self.datas) > self.max_len:\n",
    "            self.datas.pop(0)\n",
    "        \n",
    "        self.datas.append(data)\n",
    "\n",
    "    def sample(self):\n",
    "        lst = [[] for i in range(len(self.datas[0]))]\n",
    "        for i in range(len(self.datas)):\n",
    "            for j in range(len(self.datas[i])):\n",
    "                d = self.datas[i][j]\n",
    "                d = d if isinstance(d, np.ndarray) else np.array([d])\n",
    "                lst[j].append(d)\n",
    "        \n",
    "        self.datas = []\n",
    "\n",
    "        return [torch.tensor(np.array(d), dtype=torch.int64 if d[0].dtype == 'int' else torch.float) for d in lst]\n",
    "            "
   ]
  },
  {
   "cell_type": "code",
   "execution_count": null,
   "id": "09bcf0ed",
   "metadata": {},
   "outputs": [],
   "source": [
    "# import numpy as np\n",
    "\n",
    "# class BaseModel():\n",
    "#     def __init__(self, max_len = 9999):\n",
    "\n",
    "#         self.datas = []\n",
    "#         self.max_len = max_len\n",
    "\n",
    "#     def put(self, data):\n",
    "#         if len(self.datas) > self.max_len:\n",
    "#             self.datas.pop(0)\n",
    "        \n",
    "#         self.datas.append(data)\n",
    "\n",
    "#     def sample(self, n_batchs):\n",
    "#         samples = []\n",
    "#         sample = [[] for i in range(len(self.datas[0]))]\n",
    "#         for i in range(len(self.datas)):\n",
    "#             for j in range(len(self.datas[i])):\n",
    "#                 d = self.datas[i][j]\n",
    "#                 d = d if isinstance(d, np.ndarray) else np.array([d])\n",
    "#                 sample[j].append(d)\n",
    "\n",
    "#             if i == n_batchs:\n",
    "#                 sample = [torch.tesnor(s, dtype=torch.int64 if s.dtype == 'int' else torch.float) for s in sample]\n",
    "#                 samples.append(sample)\n",
    "#                 sample = [[] for k in range(len(self.datas[0]))]\n",
    "        \n",
    "#         self.datas = []\n",
    "\n",
    "#         return samples\n",
    "            "
   ]
  },
  {
   "cell_type": "code",
   "execution_count": 156,
   "id": "57c9c3af",
   "metadata": {},
   "outputs": [],
   "source": [
    "from torch.distributions import Categorical\n",
    "from commons.basemodel import BaseModel\n",
    "\n",
    "class PPO(BaseModel):\n",
    "    def __init__(self, env, n_acts: int, act: nn.Module, act_opt: torch.optim, \n",
    "                 cri: nn.Module, cri_opt:torch.optim, gamma = 0.98, gae=0.95, eps=0.2):\n",
    "        super().__init__()\n",
    "\n",
    "        self.env = env\n",
    "        self.n_acts = n_acts\n",
    "        \n",
    "        self.act = act\n",
    "        self.act_opt = act_opt\n",
    "        \n",
    "        self.cri = cri\n",
    "        self.cri_opt = cri_opt\n",
    "        \n",
    "        self.gamma = gamma\n",
    "        self.gae = gae\n",
    "        self.eps = eps\n",
    "\n",
    "\n",
    "    def train(self, n_epis, n_rollout, n_update, print_interval=20):\n",
    "        env = self.env\n",
    "        score = 0.0\n",
    "\n",
    "        for epi in range(n_epis):\n",
    "            done = False\n",
    "            s = env.reset()[0]\n",
    "            \n",
    "            while not done:\n",
    "                for t in range(n_rollout):\n",
    "                    a, a_prob = self.get_action(s)\n",
    "                    s_p, r, done, _, _ = env.step(a)\n",
    "                    d_mask = 0 if done else 1\n",
    "                    self.put((s, a, r/100, s_p, d_mask, a_prob))\n",
    "                    env.render()\n",
    "\n",
    "                    s = s_p\n",
    "                    score += r\n",
    "\n",
    "                    if done:\n",
    "                        break\n",
    "                \n",
    "                n_batch = n_rollout//n_update\n",
    "                samples = self.sample(n_batch)\n",
    "\n",
    "                for i in range(0, n_rollout, n_batch):\n",
    "                    sample = [s[i:i+n_batch] for s in samples]\n",
    "                    self.update(sample)\n",
    "            \n",
    "            if epi % print_interval == 0 and epi != 0:\n",
    "                print(f\"epi: {epi}, score: {score / print_interval}\")\n",
    "                score = 0\n",
    "\n",
    "    def get_action(self, s):\n",
    "        prob = self.act(torch.from_numpy(s).type(torch.float))\n",
    "        m = Categorical(prob)\n",
    "        a = m.sample().item()\n",
    "        return a, prob[a].item()\n",
    "\n",
    "    def update(self, sample):\n",
    "        s, a, r, s_p, d_mask, a_prob = sample\n",
    "\n",
    "        td_target = r + self.gamma * self.cri(s_p) * d_mask\n",
    "        advs = (td_target - self.cri(s)).view(-1)\n",
    "\n",
    "        a_hats = []\n",
    "        a_hat = 0\n",
    "        for adv in advs.detach().numpy()[::-1]:\n",
    "            a_hat = adv + self.gamma * self.gae * a_hat\n",
    "            a_hats.append(a_hat)\n",
    "        \n",
    "        a_hats.reverse()\n",
    "        a_hats = torch.tensor(a_hats)\n",
    "        \n",
    "        cri_loss = F.mse_loss(self.cri(s), td_target.detach())\n",
    "        self.cri_opt.zero_grad()\n",
    "        cri_loss.backward()\n",
    "        self.cri_opt.step()\n",
    "        \n",
    "        pi = self.act(s)\n",
    "        pi_a = pi.gather(1, a) / a_prob\n",
    "        \n",
    "        act_loss = - torch.min(pi_a * a_hats, torch.clamp(pi_a, 1 - self.eps, 1 + self.eps) * a_hats)\n",
    "        act_loss = act_loss.mean()\n",
    "        self.act_opt.zero_grad()\n",
    "        act_loss.backward()\n",
    "        self.act_opt.step()\n"
   ]
  },
  {
   "cell_type": "code",
   "execution_count": 157,
   "id": "c98b70c2",
   "metadata": {},
   "outputs": [],
   "source": [
    "learning_rate = 0.0005\n",
    "nstates = 4\n",
    "nactions = 2\n",
    "hid_dim = 128\n",
    "gamma = 0.98\n",
    "gae = 0.95"
   ]
  },
  {
   "cell_type": "code",
   "execution_count": 158,
   "id": "f72690c4",
   "metadata": {},
   "outputs": [],
   "source": [
    "env = gym.make(\"CartPole-v1\", render_mode='human')"
   ]
  },
  {
   "cell_type": "code",
   "execution_count": 159,
   "id": "62d767dd",
   "metadata": {},
   "outputs": [],
   "source": [
    "act = Actor(nstates, nactions, hid_dim)\n",
    "act_opt = torch.optim.Adam(act.parameters(), lr=learning_rate)\n",
    "\n",
    "cri = Critic(nstates, hid_dim)\n",
    "cri_opt = torch.optim.Adam(cri.parameters(), lr=learning_rate)"
   ]
  },
  {
   "cell_type": "code",
   "execution_count": 160,
   "id": "034a6e4e",
   "metadata": {},
   "outputs": [],
   "source": [
    "ppo = PPO(env, 2, act, act_opt, cri, cri_opt)"
   ]
  },
  {
   "cell_type": "code",
   "execution_count": 161,
   "id": "01c58678",
   "metadata": {},
   "outputs": [
    {
     "ename": "TypeError",
     "evalue": "sample() takes 1 positional argument but 2 were given",
     "output_type": "error",
     "traceback": [
      "\u001b[1;31m---------------------------------------------------------------------------\u001b[0m",
      "\u001b[1;31mTypeError\u001b[0m                                 Traceback (most recent call last)",
      "Cell \u001b[1;32mIn[161], line 1\u001b[0m\n\u001b[1;32m----> 1\u001b[0m ppo\u001b[39m.\u001b[39;49mtrain(\u001b[39m5000\u001b[39;49m, \u001b[39m10\u001b[39;49m, \u001b[39m3\u001b[39;49m)\n",
      "Cell \u001b[1;32mIn[156], line 46\u001b[0m, in \u001b[0;36mPPO.train\u001b[1;34m(self, n_epis, n_rollout, n_update, print_interval)\u001b[0m\n\u001b[0;32m     43\u001b[0m         \u001b[39mbreak\u001b[39;00m\n\u001b[0;32m     45\u001b[0m n_batch \u001b[39m=\u001b[39m n_rollout\u001b[39m/\u001b[39m\u001b[39m/\u001b[39mn_update\n\u001b[1;32m---> 46\u001b[0m samples \u001b[39m=\u001b[39m \u001b[39mself\u001b[39;49m\u001b[39m.\u001b[39;49msample(n_batch)\n\u001b[0;32m     48\u001b[0m \u001b[39mfor\u001b[39;00m i \u001b[39min\u001b[39;00m \u001b[39mrange\u001b[39m(\u001b[39m0\u001b[39m, n_rollout, n_batch):\n\u001b[0;32m     49\u001b[0m     sample \u001b[39m=\u001b[39m [s[i:i\u001b[39m+\u001b[39mn_batch] \u001b[39mfor\u001b[39;00m s \u001b[39min\u001b[39;00m samples]\n",
      "\u001b[1;31mTypeError\u001b[0m: sample() takes 1 positional argument but 2 were given"
     ]
    }
   ],
   "source": [
    "ppo.train(5000, 10, 3)"
   ]
  },
  {
   "cell_type": "code",
   "execution_count": 9,
   "id": "a4361749",
   "metadata": {},
   "outputs": [],
   "source": [
    "env.close()"
   ]
  },
  {
   "cell_type": "code",
   "execution_count": null,
   "id": "7eb3fd81",
   "metadata": {},
   "outputs": [],
   "source": []
  }
 ],
 "metadata": {
  "kernelspec": {
   "display_name": "Python 3 (ipykernel)",
   "language": "python",
   "name": "python3"
  },
  "language_info": {
   "codemirror_mode": {
    "name": "ipython",
    "version": 3
   },
   "file_extension": ".py",
   "mimetype": "text/x-python",
   "name": "python",
   "nbconvert_exporter": "python",
   "pygments_lexer": "ipython3",
   "version": "3.8.10"
  }
 },
 "nbformat": 4,
 "nbformat_minor": 5
}
