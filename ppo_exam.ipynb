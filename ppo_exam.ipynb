{
 "cells": [
  {
   "cell_type": "code",
   "execution_count": 1,
   "id": "0ab8d911",
   "metadata": {},
   "outputs": [],
   "source": [
    "import gym\n",
    "\n",
    "import torch\n",
    "from torch import nn\n",
    "import torch.nn.functional as F\n",
    "\n",
    "from models.ppo import PPO"
   ]
  },
  {
   "cell_type": "code",
   "execution_count": 2,
   "id": "e73f820f",
   "metadata": {},
   "outputs": [],
   "source": [
    "class Actor(nn.Module):\n",
    "    def __init__(self, nstats: int, nactions: int, hid_dim:int):\n",
    "        super(Actor, self).__init__()\n",
    "        self.fc1 = nn.Linear(nstats, hid_dim)\n",
    "        self.fc2 = nn.Linear(hid_dim, nactions)\n",
    "        self.relu1 = nn.ReLU()\n",
    "        \n",
    "    def forward(self, x):\n",
    "        x = self.relu1(self.fc1(x))\n",
    "        x = F.softmax(self.fc2(x), -1)\n",
    "        return x\n"
   ]
  },
  {
   "cell_type": "code",
   "execution_count": 3,
   "id": "63e7b088",
   "metadata": {},
   "outputs": [],
   "source": [
    "class Critic(nn.Module):\n",
    "    def __init__(self, nstats: int, hid_dim:int):\n",
    "        super(Critic, self).__init__()\n",
    "        self.fc1 = nn.Linear(nstats, hid_dim)\n",
    "        self.fc2 = nn.Linear(hid_dim, 1)\n",
    "        self.relu1 = nn.ReLU()\n",
    "        \n",
    "    def forward(self, x):\n",
    "        x = self.relu1(self.fc1(x))\n",
    "        x = self.fc2(x)\n",
    "        return x\n"
   ]
  },
  {
   "cell_type": "code",
   "execution_count": 4,
   "id": "c98b70c2",
   "metadata": {},
   "outputs": [],
   "source": [
    "learning_rate = 0.0005\n",
    "nstates = 4\n",
    "nactions = 2\n",
    "hid_dim = 128\n",
    "gamma = 0.98\n",
    "gae = 0.95"
   ]
  },
  {
   "cell_type": "code",
   "execution_count": 5,
   "id": "f72690c4",
   "metadata": {},
   "outputs": [],
   "source": [
    "env = gym.make(\"CartPole-v1\", render_mode='human')"
   ]
  },
  {
   "cell_type": "code",
   "execution_count": 6,
   "id": "62d767dd",
   "metadata": {},
   "outputs": [],
   "source": [
    "act = Actor(nstates, nactions, hid_dim)\n",
    "act_opt = torch.optim.Adam(act.parameters(), lr=learning_rate)\n",
    "\n",
    "cri = Critic(nstates, hid_dim)\n",
    "cri_opt = torch.optim.Adam(cri.parameters(), lr=learning_rate)"
   ]
  },
  {
   "cell_type": "code",
   "execution_count": 7,
   "id": "034a6e4e",
   "metadata": {},
   "outputs": [],
   "source": [
    "ppo = PPO(env, 2, act, act_opt, cri, cri_opt)"
   ]
  },
  {
   "cell_type": "code",
   "execution_count": 8,
   "id": "01c58678",
   "metadata": {},
   "outputs": [
    {
     "name": "stderr",
     "output_type": "stream",
     "text": [
      "c:\\Users\\esder\\AppData\\Local\\Programs\\Python\\Python38\\lib\\site-packages\\gym\\utils\\passive_env_checker.py:233: DeprecationWarning: `np.bool8` is a deprecated alias for `np.bool_`.  (Deprecated NumPy 1.24)\n",
      "  if not isinstance(terminated, (bool, np.bool8)):\n"
     ]
    },
    {
     "name": "stdout",
     "output_type": "stream",
     "text": [
      "step: 406, score: 20.3\n",
      "step: 822, score: 20.8\n",
      "step: 1347, score: 26.25\n",
      "step: 2057, score: 35.5\n",
      "step: 2878, score: 41.05\n",
      "step: 3753, score: 43.75\n",
      "step: 4959, score: 60.3\n",
      "step: 7762, score: 140.15\n",
      "step: 10501, score: 136.95\n",
      "step: 13691, score: 159.5\n",
      "step: 17846, score: 207.75\n"
     ]
    },
    {
     "ename": "KeyboardInterrupt",
     "evalue": "",
     "output_type": "error",
     "traceback": [
      "\u001b[1;31m---------------------------------------------------------------------------\u001b[0m",
      "\u001b[1;31mKeyboardInterrupt\u001b[0m                         Traceback (most recent call last)",
      "Cell \u001b[1;32mIn[8], line 1\u001b[0m\n\u001b[1;32m----> 1\u001b[0m ppo\u001b[39m.\u001b[39;49mtrain(\u001b[39m5000\u001b[39;49m, \u001b[39m10\u001b[39;49m, \u001b[39m3\u001b[39;49m)\n",
      "File \u001b[1;32mc:\\Users\\esder\\Desktop\\github\\rl\\models\\ppo.py:38\u001b[0m, in \u001b[0;36mPPO.train\u001b[1;34m(self, n_epis, n_rollout, n_update, print_interval)\u001b[0m\n\u001b[0;32m     36\u001b[0m \u001b[39mwhile\u001b[39;00m \u001b[39mnot\u001b[39;00m done:\n\u001b[0;32m     37\u001b[0m     \u001b[39mfor\u001b[39;00m t \u001b[39min\u001b[39;00m \u001b[39mrange\u001b[39m(n_rollout):\n\u001b[1;32m---> 38\u001b[0m         a, a_prob \u001b[39m=\u001b[39m \u001b[39mself\u001b[39;49m\u001b[39m.\u001b[39;49mget_action(s)\n\u001b[0;32m     39\u001b[0m         s_p, r, done, _, _ \u001b[39m=\u001b[39m env\u001b[39m.\u001b[39mstep(a)\n\u001b[0;32m     40\u001b[0m         d_mask \u001b[39m=\u001b[39m \u001b[39m0\u001b[39m \u001b[39mif\u001b[39;00m done \u001b[39melse\u001b[39;00m \u001b[39m1\u001b[39m\n",
      "File \u001b[1;32mc:\\Users\\esder\\Desktop\\github\\rl\\models\\ppo.py:65\u001b[0m, in \u001b[0;36mPPO.get_action\u001b[1;34m(self, s)\u001b[0m\n\u001b[0;32m     63\u001b[0m prob \u001b[39m=\u001b[39m \u001b[39mself\u001b[39m\u001b[39m.\u001b[39mact(torch\u001b[39m.\u001b[39mfrom_numpy(s)\u001b[39m.\u001b[39mtype(torch\u001b[39m.\u001b[39mfloat))\n\u001b[0;32m     64\u001b[0m m \u001b[39m=\u001b[39m Categorical(prob)\n\u001b[1;32m---> 65\u001b[0m a \u001b[39m=\u001b[39m m\u001b[39m.\u001b[39;49msample()\u001b[39m.\u001b[39mitem()\n\u001b[0;32m     66\u001b[0m \u001b[39mreturn\u001b[39;00m a, prob[a]\u001b[39m.\u001b[39mitem()\n",
      "File \u001b[1;32mc:\\Users\\esder\\AppData\\Local\\Programs\\Python\\Python38\\lib\\site-packages\\torch\\distributions\\categorical.py:118\u001b[0m, in \u001b[0;36mCategorical.sample\u001b[1;34m(self, sample_shape)\u001b[0m\n\u001b[0;32m    116\u001b[0m     sample_shape \u001b[39m=\u001b[39m torch\u001b[39m.\u001b[39mSize(sample_shape)\n\u001b[0;32m    117\u001b[0m probs_2d \u001b[39m=\u001b[39m \u001b[39mself\u001b[39m\u001b[39m.\u001b[39mprobs\u001b[39m.\u001b[39mreshape(\u001b[39m-\u001b[39m\u001b[39m1\u001b[39m, \u001b[39mself\u001b[39m\u001b[39m.\u001b[39m_num_events)\n\u001b[1;32m--> 118\u001b[0m samples_2d \u001b[39m=\u001b[39m torch\u001b[39m.\u001b[39;49mmultinomial(probs_2d, sample_shape\u001b[39m.\u001b[39;49mnumel(), \u001b[39mTrue\u001b[39;49;00m)\u001b[39m.\u001b[39mT\n\u001b[0;32m    119\u001b[0m \u001b[39mreturn\u001b[39;00m samples_2d\u001b[39m.\u001b[39mreshape(\u001b[39mself\u001b[39m\u001b[39m.\u001b[39m_extended_shape(sample_shape))\n",
      "\u001b[1;31mKeyboardInterrupt\u001b[0m: "
     ]
    }
   ],
   "source": [
    "ppo.train(5000, 10, 3)"
   ]
  },
  {
   "cell_type": "code",
   "execution_count": null,
   "id": "a4361749",
   "metadata": {},
   "outputs": [],
   "source": [
    "env.close()"
   ]
  },
  {
   "cell_type": "code",
   "execution_count": null,
   "id": "7eb3fd81",
   "metadata": {},
   "outputs": [],
   "source": []
  }
 ],
 "metadata": {
  "kernelspec": {
   "display_name": "Python 3 (ipykernel)",
   "language": "python",
   "name": "python3"
  },
  "language_info": {
   "codemirror_mode": {
    "name": "ipython",
    "version": 3
   },
   "file_extension": ".py",
   "mimetype": "text/x-python",
   "name": "python",
   "nbconvert_exporter": "python",
   "pygments_lexer": "ipython3",
   "version": "3.8.10"
  }
 },
 "nbformat": 4,
 "nbformat_minor": 5
}
